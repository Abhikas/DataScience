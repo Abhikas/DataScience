{
 "cells": [
  {
   "cell_type": "code",
   "execution_count": 1,
   "id": "2281111d",
   "metadata": {},
   "outputs": [],
   "source": [
    "import pandas as pd\n"
   ]
  },
  {
   "cell_type": "code",
   "execution_count": 2,
   "id": "536d0933",
   "metadata": {},
   "outputs": [],
   "source": [
    "df = pd.read_csv(\"D:\\\\Ineuron\\\\DataSet\\\\train.csv\", sep = \",\")\n"
   ]
  },
  {
   "cell_type": "code",
   "execution_count": 3,
   "id": "43abcdd0",
   "metadata": {},
   "outputs": [
    {
     "data": {
      "text/html": [
       "<div>\n",
       "<style scoped>\n",
       "    .dataframe tbody tr th:only-of-type {\n",
       "        vertical-align: middle;\n",
       "    }\n",
       "\n",
       "    .dataframe tbody tr th {\n",
       "        vertical-align: top;\n",
       "    }\n",
       "\n",
       "    .dataframe thead th {\n",
       "        text-align: right;\n",
       "    }\n",
       "</style>\n",
       "<table border=\"1\" class=\"dataframe\">\n",
       "  <thead>\n",
       "    <tr style=\"text-align: right;\">\n",
       "      <th></th>\n",
       "      <th>PassengerId</th>\n",
       "      <th>Survived</th>\n",
       "      <th>Pclass</th>\n",
       "      <th>Name</th>\n",
       "      <th>Sex</th>\n",
       "      <th>Age</th>\n",
       "      <th>SibSp</th>\n",
       "      <th>Parch</th>\n",
       "      <th>Ticket</th>\n",
       "      <th>Fare</th>\n",
       "      <th>Cabin</th>\n",
       "      <th>Embarked</th>\n",
       "    </tr>\n",
       "  </thead>\n",
       "  <tbody>\n",
       "    <tr>\n",
       "      <th>0</th>\n",
       "      <td>1</td>\n",
       "      <td>0</td>\n",
       "      <td>3</td>\n",
       "      <td>Braund, Mr. Owen Harris</td>\n",
       "      <td>male</td>\n",
       "      <td>22.0</td>\n",
       "      <td>1</td>\n",
       "      <td>0</td>\n",
       "      <td>A/5 21171</td>\n",
       "      <td>7.2500</td>\n",
       "      <td>NaN</td>\n",
       "      <td>S</td>\n",
       "    </tr>\n",
       "    <tr>\n",
       "      <th>1</th>\n",
       "      <td>2</td>\n",
       "      <td>1</td>\n",
       "      <td>1</td>\n",
       "      <td>Cumings, Mrs. John Bradley (Florence Briggs Th...</td>\n",
       "      <td>female</td>\n",
       "      <td>38.0</td>\n",
       "      <td>1</td>\n",
       "      <td>0</td>\n",
       "      <td>PC 17599</td>\n",
       "      <td>71.2833</td>\n",
       "      <td>C85</td>\n",
       "      <td>C</td>\n",
       "    </tr>\n",
       "    <tr>\n",
       "      <th>2</th>\n",
       "      <td>3</td>\n",
       "      <td>1</td>\n",
       "      <td>3</td>\n",
       "      <td>Heikkinen, Miss. Laina</td>\n",
       "      <td>female</td>\n",
       "      <td>26.0</td>\n",
       "      <td>0</td>\n",
       "      <td>0</td>\n",
       "      <td>STON/O2. 3101282</td>\n",
       "      <td>7.9250</td>\n",
       "      <td>NaN</td>\n",
       "      <td>S</td>\n",
       "    </tr>\n",
       "    <tr>\n",
       "      <th>3</th>\n",
       "      <td>4</td>\n",
       "      <td>1</td>\n",
       "      <td>1</td>\n",
       "      <td>Futrelle, Mrs. Jacques Heath (Lily May Peel)</td>\n",
       "      <td>female</td>\n",
       "      <td>35.0</td>\n",
       "      <td>1</td>\n",
       "      <td>0</td>\n",
       "      <td>113803</td>\n",
       "      <td>53.1000</td>\n",
       "      <td>C123</td>\n",
       "      <td>S</td>\n",
       "    </tr>\n",
       "    <tr>\n",
       "      <th>4</th>\n",
       "      <td>5</td>\n",
       "      <td>0</td>\n",
       "      <td>3</td>\n",
       "      <td>Allen, Mr. William Henry</td>\n",
       "      <td>male</td>\n",
       "      <td>35.0</td>\n",
       "      <td>0</td>\n",
       "      <td>0</td>\n",
       "      <td>373450</td>\n",
       "      <td>8.0500</td>\n",
       "      <td>NaN</td>\n",
       "      <td>S</td>\n",
       "    </tr>\n",
       "  </tbody>\n",
       "</table>\n",
       "</div>"
      ],
      "text/plain": [
       "   PassengerId  Survived  Pclass  \\\n",
       "0            1         0       3   \n",
       "1            2         1       1   \n",
       "2            3         1       3   \n",
       "3            4         1       1   \n",
       "4            5         0       3   \n",
       "\n",
       "                                                Name     Sex   Age  SibSp  \\\n",
       "0                            Braund, Mr. Owen Harris    male  22.0      1   \n",
       "1  Cumings, Mrs. John Bradley (Florence Briggs Th...  female  38.0      1   \n",
       "2                             Heikkinen, Miss. Laina  female  26.0      0   \n",
       "3       Futrelle, Mrs. Jacques Heath (Lily May Peel)  female  35.0      1   \n",
       "4                           Allen, Mr. William Henry    male  35.0      0   \n",
       "\n",
       "   Parch            Ticket     Fare Cabin Embarked  \n",
       "0      0         A/5 21171   7.2500   NaN        S  \n",
       "1      0          PC 17599  71.2833   C85        C  \n",
       "2      0  STON/O2. 3101282   7.9250   NaN        S  \n",
       "3      0            113803  53.1000  C123        S  \n",
       "4      0            373450   8.0500   NaN        S  "
      ]
     },
     "execution_count": 3,
     "metadata": {},
     "output_type": "execute_result"
    }
   ],
   "source": [
    "df.head()"
   ]
  },
  {
   "cell_type": "code",
   "execution_count": 4,
   "id": "06dc11af",
   "metadata": {},
   "outputs": [
    {
     "data": {
      "text/plain": [
       "PassengerId      int64\n",
       "Survived         int64\n",
       "Pclass           int64\n",
       "Name            object\n",
       "Sex             object\n",
       "Age            float64\n",
       "SibSp            int64\n",
       "Parch            int64\n",
       "Ticket          object\n",
       "Fare           float64\n",
       "Cabin           object\n",
       "Embarked        object\n",
       "dtype: object"
      ]
     },
     "execution_count": 4,
     "metadata": {},
     "output_type": "execute_result"
    }
   ],
   "source": [
    "df.dtypes\n"
   ]
  },
  {
   "cell_type": "code",
   "execution_count": 5,
   "id": "98541e31",
   "metadata": {},
   "outputs": [
    {
     "data": {
      "text/plain": [
       "RangeIndex(start=0, stop=891, step=1)"
      ]
     },
     "execution_count": 5,
     "metadata": {},
     "output_type": "execute_result"
    }
   ],
   "source": [
    "df.index"
   ]
  },
  {
   "cell_type": "code",
   "execution_count": 6,
   "id": "42addb28",
   "metadata": {},
   "outputs": [
    {
     "data": {
      "text/plain": [
       "0      22.0\n",
       "1      38.0\n",
       "2      26.0\n",
       "3      35.0\n",
       "4      35.0\n",
       "       ... \n",
       "886    27.0\n",
       "887    19.0\n",
       "888     NaN\n",
       "889    26.0\n",
       "890    32.0\n",
       "Name: Age, Length: 891, dtype: float64"
      ]
     },
     "execution_count": 6,
     "metadata": {},
     "output_type": "execute_result"
    }
   ],
   "source": [
    "df.Age"
   ]
  },
  {
   "cell_type": "code",
   "execution_count": 7,
   "id": "01e0903a",
   "metadata": {},
   "outputs": [
    {
     "data": {
      "text/html": [
       "<div>\n",
       "<style scoped>\n",
       "    .dataframe tbody tr th:only-of-type {\n",
       "        vertical-align: middle;\n",
       "    }\n",
       "\n",
       "    .dataframe tbody tr th {\n",
       "        vertical-align: top;\n",
       "    }\n",
       "\n",
       "    .dataframe thead th {\n",
       "        text-align: right;\n",
       "    }\n",
       "</style>\n",
       "<table border=\"1\" class=\"dataframe\">\n",
       "  <thead>\n",
       "    <tr style=\"text-align: right;\">\n",
       "      <th></th>\n",
       "      <th>PassengerId</th>\n",
       "      <th>Survived</th>\n",
       "      <th>Pclass</th>\n",
       "      <th>Age</th>\n",
       "      <th>SibSp</th>\n",
       "      <th>Parch</th>\n",
       "      <th>Fare</th>\n",
       "    </tr>\n",
       "  </thead>\n",
       "  <tbody>\n",
       "    <tr>\n",
       "      <th>count</th>\n",
       "      <td>891.000000</td>\n",
       "      <td>891.000000</td>\n",
       "      <td>891.000000</td>\n",
       "      <td>714.000000</td>\n",
       "      <td>891.000000</td>\n",
       "      <td>891.000000</td>\n",
       "      <td>891.000000</td>\n",
       "    </tr>\n",
       "    <tr>\n",
       "      <th>mean</th>\n",
       "      <td>446.000000</td>\n",
       "      <td>0.383838</td>\n",
       "      <td>2.308642</td>\n",
       "      <td>29.699118</td>\n",
       "      <td>0.523008</td>\n",
       "      <td>0.381594</td>\n",
       "      <td>32.204208</td>\n",
       "    </tr>\n",
       "    <tr>\n",
       "      <th>std</th>\n",
       "      <td>257.353842</td>\n",
       "      <td>0.486592</td>\n",
       "      <td>0.836071</td>\n",
       "      <td>14.526497</td>\n",
       "      <td>1.102743</td>\n",
       "      <td>0.806057</td>\n",
       "      <td>49.693429</td>\n",
       "    </tr>\n",
       "    <tr>\n",
       "      <th>min</th>\n",
       "      <td>1.000000</td>\n",
       "      <td>0.000000</td>\n",
       "      <td>1.000000</td>\n",
       "      <td>0.420000</td>\n",
       "      <td>0.000000</td>\n",
       "      <td>0.000000</td>\n",
       "      <td>0.000000</td>\n",
       "    </tr>\n",
       "    <tr>\n",
       "      <th>25%</th>\n",
       "      <td>223.500000</td>\n",
       "      <td>0.000000</td>\n",
       "      <td>2.000000</td>\n",
       "      <td>20.125000</td>\n",
       "      <td>0.000000</td>\n",
       "      <td>0.000000</td>\n",
       "      <td>7.910400</td>\n",
       "    </tr>\n",
       "    <tr>\n",
       "      <th>50%</th>\n",
       "      <td>446.000000</td>\n",
       "      <td>0.000000</td>\n",
       "      <td>3.000000</td>\n",
       "      <td>28.000000</td>\n",
       "      <td>0.000000</td>\n",
       "      <td>0.000000</td>\n",
       "      <td>14.454200</td>\n",
       "    </tr>\n",
       "    <tr>\n",
       "      <th>75%</th>\n",
       "      <td>668.500000</td>\n",
       "      <td>1.000000</td>\n",
       "      <td>3.000000</td>\n",
       "      <td>38.000000</td>\n",
       "      <td>1.000000</td>\n",
       "      <td>0.000000</td>\n",
       "      <td>31.000000</td>\n",
       "    </tr>\n",
       "    <tr>\n",
       "      <th>max</th>\n",
       "      <td>891.000000</td>\n",
       "      <td>1.000000</td>\n",
       "      <td>3.000000</td>\n",
       "      <td>80.000000</td>\n",
       "      <td>8.000000</td>\n",
       "      <td>6.000000</td>\n",
       "      <td>512.329200</td>\n",
       "    </tr>\n",
       "  </tbody>\n",
       "</table>\n",
       "</div>"
      ],
      "text/plain": [
       "       PassengerId    Survived      Pclass         Age       SibSp  \\\n",
       "count   891.000000  891.000000  891.000000  714.000000  891.000000   \n",
       "mean    446.000000    0.383838    2.308642   29.699118    0.523008   \n",
       "std     257.353842    0.486592    0.836071   14.526497    1.102743   \n",
       "min       1.000000    0.000000    1.000000    0.420000    0.000000   \n",
       "25%     223.500000    0.000000    2.000000   20.125000    0.000000   \n",
       "50%     446.000000    0.000000    3.000000   28.000000    0.000000   \n",
       "75%     668.500000    1.000000    3.000000   38.000000    1.000000   \n",
       "max     891.000000    1.000000    3.000000   80.000000    8.000000   \n",
       "\n",
       "            Parch        Fare  \n",
       "count  891.000000  891.000000  \n",
       "mean     0.381594   32.204208  \n",
       "std      0.806057   49.693429  \n",
       "min      0.000000    0.000000  \n",
       "25%      0.000000    7.910400  \n",
       "50%      0.000000   14.454200  \n",
       "75%      0.000000   31.000000  \n",
       "max      6.000000  512.329200  "
      ]
     },
     "execution_count": 7,
     "metadata": {},
     "output_type": "execute_result"
    }
   ],
   "source": [
    "df.describe()"
   ]
  },
  {
   "cell_type": "code",
   "execution_count": 8,
   "id": "d86729a4",
   "metadata": {},
   "outputs": [
    {
     "data": {
      "text/plain": [
       "count    714.000000\n",
       "mean      29.699118\n",
       "std       14.526497\n",
       "min        0.420000\n",
       "25%       20.125000\n",
       "50%       28.000000\n",
       "75%       38.000000\n",
       "max       80.000000\n",
       "Name: Age, dtype: float64"
      ]
     },
     "execution_count": 8,
     "metadata": {},
     "output_type": "execute_result"
    }
   ],
   "source": [
    "df.Age.describe()"
   ]
  },
  {
   "cell_type": "code",
   "execution_count": 9,
   "id": "42640308",
   "metadata": {},
   "outputs": [
    {
     "data": {
      "text/plain": [
       "29.69911764705882"
      ]
     },
     "execution_count": 9,
     "metadata": {},
     "output_type": "execute_result"
    }
   ],
   "source": [
    "df.Age.mean()"
   ]
  },
  {
   "cell_type": "code",
   "execution_count": 10,
   "id": "906c819d",
   "metadata": {},
   "outputs": [
    {
     "data": {
      "text/plain": [
       "pandas.core.frame.DataFrame"
      ]
     },
     "execution_count": 10,
     "metadata": {},
     "output_type": "execute_result"
    }
   ],
   "source": [
    "type(df)"
   ]
  },
  {
   "cell_type": "code",
   "execution_count": 11,
   "id": "4b5f815b",
   "metadata": {},
   "outputs": [
    {
     "data": {
      "text/plain": [
       "2.0"
      ]
     },
     "execution_count": 11,
     "metadata": {},
     "output_type": "execute_result"
    }
   ],
   "source": [
    "import numpy as np\n",
    "arr = np.array([1,2,3])\n",
    "np.mean(arr)"
   ]
  },
  {
   "cell_type": "code",
   "execution_count": 12,
   "id": "8f44e8f0",
   "metadata": {},
   "outputs": [],
   "source": [
    "l = list(df.Age)"
   ]
  },
  {
   "cell_type": "code",
   "execution_count": 13,
   "id": "100b8813",
   "metadata": {},
   "outputs": [
    {
     "name": "stdout",
     "output_type": "stream",
     "text": [
      "22.0\n",
      "26.0\n",
      "35.0\n",
      "54.0\n",
      "27.0\n",
      "4.0\n",
      "20.0\n",
      "14.0\n",
      "2.0\n",
      "31.0\n",
      "35.0\n",
      "15.0\n",
      "8.0\n",
      "nan\n",
      "nan\n",
      "40.0\n",
      "nan\n",
      "28.0\n",
      "nan\n",
      "18.0\n",
      "40.0\n",
      "nan\n",
      "19.0\n",
      "nan\n",
      "nan\n",
      "7.0\n",
      "49.0\n",
      "65.0\n",
      "21.0\n",
      "5.0\n",
      "22.0\n",
      "45.0\n",
      "nan\n",
      "29.0\n",
      "17.0\n",
      "32.0\n",
      "21.0\n",
      "32.0\n",
      "nan\n",
      "0.83\n",
      "22.0\n",
      "nan\n",
      "17.0\n",
      "16.0\n",
      "23.0\n",
      "29.0\n",
      "46.0\n",
      "59.0\n",
      "71.0\n",
      "34.0\n",
      "28.0\n",
      "21.0\n",
      "37.0\n",
      "21.0\n",
      "38.0\n",
      "47.0\n",
      "22.0\n",
      "17.0\n",
      "70.5\n",
      "24.0\n",
      "21.0\n",
      "32.5\n",
      "54.0\n",
      "nan\n",
      "nan\n",
      "33.0\n",
      "47.0\n",
      "25.0\n",
      "19.0\n",
      "16.0\n",
      "nan\n",
      "24.0\n",
      "18.0\n",
      "27.0\n",
      "36.5\n",
      "51.0\n",
      "55.5\n",
      "nan\n",
      "16.0\n",
      "nan\n",
      "44.0\n",
      "26.0\n",
      "1.0\n",
      "nan\n",
      "nan\n",
      "61.0\n",
      "1.0\n",
      "56.0\n",
      "nan\n",
      "30.0\n",
      "nan\n",
      "9.0\n",
      "4.0\n",
      "nan\n",
      "40.0\n",
      "32.0\n",
      "19.0\n",
      "44.0\n",
      "nan\n",
      "nan\n",
      "28.0\n",
      "34.0\n",
      "18.0\n",
      "32.0\n",
      "16.0\n",
      "24.0\n",
      "22.0\n",
      "nan\n",
      "27.0\n",
      "32.0\n",
      "16.0\n",
      "51.0\n",
      "38.0\n",
      "19.0\n",
      "18.0\n",
      "35.0\n",
      "59.0\n",
      "24.0\n",
      "44.0\n",
      "19.0\n",
      "nan\n",
      "29.0\n",
      "30.0\n",
      "25.0\n",
      "37.0\n",
      "nan\n",
      "62.0\n",
      "41.0\n",
      "nan\n",
      "35.0\n",
      "nan\n",
      "52.0\n",
      "nan\n",
      "16.0\n",
      "58.0\n",
      "nan\n",
      "41.0\n",
      "nan\n",
      "45.0\n",
      "7.0\n",
      "65.0\n",
      "16.0\n",
      "nan\n",
      "30.0\n",
      "42.0\n",
      "26.0\n",
      "36.0\n",
      "24.0\n",
      "23.5\n",
      "nan\n",
      "nan\n",
      "19.0\n",
      "nan\n",
      "nan\n",
      "30.0\n",
      "24.0\n",
      "26.0\n",
      "43.0\n",
      "24.0\n",
      "31.0\n",
      "22.0\n",
      "30.0\n",
      "nan\n",
      "61.0\n",
      "31.0\n",
      "nan\n",
      "38.0\n",
      "nan\n",
      "29.0\n",
      "45.0\n",
      "2.0\n",
      "28.0\n",
      "36.0\n",
      "40.0\n",
      "3.0\n",
      "23.0\n",
      "15.0\n",
      "nan\n",
      "22.0\n",
      "nan\n",
      "40.0\n",
      "45.0\n",
      "nan\n",
      "60.0\n",
      "nan\n",
      "25.0\n",
      "19.0\n",
      "3.0\n",
      "22.0\n",
      "20.0\n",
      "42.0\n",
      "32.0\n",
      "nan\n",
      "1.0\n",
      "nan\n",
      "36.0\n",
      "28.0\n",
      "24.0\n",
      "31.0\n",
      "23.0\n",
      "39.0\n",
      "21.0\n",
      "20.0\n",
      "51.0\n",
      "21.0\n",
      "nan\n",
      "33.0\n",
      "44.0\n",
      "34.0\n",
      "30.0\n",
      "nan\n",
      "29.0\n",
      "18.0\n",
      "28.0\n",
      "nan\n",
      "28.0\n",
      "42.0\n",
      "50.0\n",
      "21.0\n",
      "64.0\n",
      "45.0\n",
      "25.0\n",
      "nan\n",
      "13.0\n",
      "5.0\n",
      "36.0\n",
      "30.0\n",
      "nan\n",
      "65.0\n",
      "50.0\n",
      "48.0\n",
      "47.0\n",
      "nan\n",
      "nan\n",
      "nan\n",
      "nan\n",
      "33.0\n",
      "22.0\n",
      "34.0\n",
      "22.0\n",
      "9.0\n",
      "50.0\n",
      "25.0\n",
      "35.0\n",
      "30.0\n",
      "nan\n",
      "55.0\n",
      "21.0\n",
      "54.0\n",
      "25.0\n",
      "17.0\n",
      "nan\n",
      "16.0\n",
      "33.0\n",
      "28.0\n",
      "29.0\n",
      "36.0\n",
      "24.0\n",
      "34.0\n",
      "36.0\n",
      "30.0\n",
      "nan\n",
      "nan\n",
      "50.0\n",
      "39.0\n",
      "2.0\n",
      "17.0\n",
      "30.0\n",
      "45.0\n",
      "nan\n",
      "36.0\n",
      "11.0\n",
      "50.0\n",
      "19.0\n",
      "33.0\n",
      "17.0\n",
      "nan\n",
      "22.0\n",
      "48.0\n",
      "39.0\n",
      "nan\n",
      "28.0\n",
      "nan\n",
      "19.0\n",
      "nan\n",
      "62.0\n",
      "36.0\n",
      "16.0\n",
      "34.0\n",
      "nan\n",
      "25.0\n",
      "54.0\n",
      "nan\n",
      "47.0\n",
      "22.0\n",
      "35.0\n",
      "47.0\n",
      "37.0\n",
      "nan\n",
      "nan\n",
      "24.0\n",
      "nan\n",
      "35.0\n",
      "30.0\n",
      "22.0\n",
      "39.0\n",
      "nan\n",
      "35.0\n",
      "34.0\n",
      "4.0\n",
      "27.0\n",
      "20.0\n",
      "21.0\n",
      "57.0\n",
      "26.0\n",
      "80.0\n",
      "32.0\n",
      "9.0\n",
      "32.0\n",
      "41.0\n",
      "20.0\n",
      "2.0\n",
      "0.75\n",
      "19.0\n",
      "nan\n",
      "nan\n",
      "21.0\n",
      "18.0\n",
      "nan\n",
      "23.0\n",
      "50.0\n",
      "47.0\n",
      "20.0\n",
      "25.0\n",
      "43.0\n",
      "40.0\n",
      "70.0\n",
      "nan\n",
      "24.5\n",
      "43.0\n",
      "nan\n",
      "20.0\n",
      "60.0\n",
      "14.0\n",
      "18.0\n",
      "31.0\n",
      "nan\n",
      "60.0\n",
      "44.0\n",
      "49.0\n",
      "18.0\n",
      "18.0\n",
      "26.0\n",
      "45.0\n",
      "22.0\n",
      "24.0\n",
      "48.0\n",
      "52.0\n",
      "38.0\n",
      "nan\n",
      "6.0\n",
      "34.0\n",
      "27.0\n",
      "30.0\n",
      "25.0\n",
      "29.0\n",
      "nan\n",
      "23.0\n",
      "48.0\n",
      "nan\n",
      "nan\n",
      "21.0\n",
      "31.0\n",
      "16.0\n",
      "19.0\n",
      "4.0\n",
      "33.0\n",
      "48.0\n",
      "28.0\n",
      "34.0\n",
      "nan\n",
      "20.0\n",
      "16.0\n",
      "nan\n",
      "nan\n",
      "24.0\n",
      "57.0\n",
      "54.0\n",
      "nan\n",
      "nan\n",
      "13.0\n",
      "29.0\n",
      "25.0\n",
      "18.0\n",
      "1.0\n",
      "nan\n",
      "nan\n",
      "25.0\n",
      "49.0\n",
      "30.0\n",
      "34.0\n",
      "11.0\n",
      "27.0\n",
      "39.0\n",
      "39.0\n",
      "26.0\n",
      "35.0\n",
      "30.5\n",
      "23.0\n",
      "43.0\n",
      "52.0\n",
      "38.0\n",
      "2.0\n",
      "nan\n",
      "nan\n",
      "15.0\n",
      "nan\n",
      "18.0\n",
      "21.0\n",
      "32.0\n",
      "20.0\n",
      "30.0\n",
      "17.0\n",
      "nan\n",
      "28.0\n",
      "4.0\n",
      "9.0\n",
      "44.0\n",
      "45.0\n",
      "24.0\n",
      "41.0\n",
      "48.0\n",
      "24.0\n",
      "27.0\n",
      "nan\n",
      "26.0\n",
      "33.0\n",
      "28.0\n",
      "20.0\n",
      "nan\n",
      "25.0\n",
      "22.0\n",
      "25.0\n",
      "27.0\n",
      "nan\n",
      "32.0\n"
     ]
    }
   ],
   "source": [
    "for i in range(len(l)):\n",
    "    if i % 2 == 0 :\n",
    "        print(l[i])"
   ]
  },
  {
   "cell_type": "code",
   "execution_count": 14,
   "id": "43ae18e4",
   "metadata": {},
   "outputs": [
    {
     "data": {
      "text/plain": [
       "0      22.0\n",
       "1      38.0\n",
       "2      26.0\n",
       "6      54.0\n",
       "7       2.0\n",
       "       ... \n",
       "879    56.0\n",
       "882    22.0\n",
       "883    28.0\n",
       "889    26.0\n",
       "890    32.0\n",
       "Name: Age, Length: 380, dtype: float64"
      ]
     },
     "execution_count": 14,
     "metadata": {},
     "output_type": "execute_result"
    }
   ],
   "source": [
    "df.Age[df.Age % 2 == 0]"
   ]
  },
  {
   "cell_type": "code",
   "execution_count": 15,
   "id": "92891aa2",
   "metadata": {},
   "outputs": [
    {
     "data": {
      "text/plain": [
       "array([3, 4, 5])"
      ]
     },
     "execution_count": 15,
     "metadata": {},
     "output_type": "execute_result"
    }
   ],
   "source": [
    "arr+2"
   ]
  },
  {
   "cell_type": "code",
   "execution_count": 16,
   "id": "224986d3",
   "metadata": {},
   "outputs": [],
   "source": [
    "arr1 = np.array([1,2,3])"
   ]
  },
  {
   "cell_type": "code",
   "execution_count": 17,
   "id": "93fc9706",
   "metadata": {},
   "outputs": [
    {
     "data": {
      "text/plain": [
       "array([1, 4, 9])"
      ]
     },
     "execution_count": 17,
     "metadata": {},
     "output_type": "execute_result"
    }
   ],
   "source": [
    "arr*arr1"
   ]
  },
  {
   "cell_type": "code",
   "execution_count": 18,
   "id": "b2c065a3",
   "metadata": {},
   "outputs": [
    {
     "data": {
      "text/plain": [
       "array([1, 4, 9])"
      ]
     },
     "execution_count": 18,
     "metadata": {},
     "output_type": "execute_result"
    }
   ],
   "source": [
    "np.multiply(arr, arr1)"
   ]
  },
  {
   "cell_type": "code",
   "execution_count": 19,
   "id": "36b2c4ca",
   "metadata": {},
   "outputs": [
    {
     "data": {
      "text/plain": [
       "(array([  5,  17,  19,  26,  28,  29,  31,  32,  36,  42,  45,  46,  47,\n",
       "         48,  55,  64,  65,  76,  77,  82,  87,  95, 101, 107, 109, 121,\n",
       "        126, 128, 140, 154, 158, 159, 166, 168, 176, 180, 181, 185, 186,\n",
       "        196, 198, 201, 214, 223, 229, 235, 240, 241, 250, 256, 260, 264,\n",
       "        270, 274, 277, 284, 295, 298, 300, 301, 303, 304, 306, 324, 330,\n",
       "        334, 335, 347, 351, 354, 358, 359, 364, 367, 368, 375, 384, 388,\n",
       "        409, 410, 411, 413, 415, 420, 425, 428, 431, 444, 451, 454, 457,\n",
       "        459, 464, 466, 468, 470, 475, 481, 485, 490, 495, 497, 502, 507,\n",
       "        511, 517, 522, 524, 527, 531, 533, 538, 547, 552, 557, 560, 563,\n",
       "        564, 568, 573, 578, 584, 589, 593, 596, 598, 601, 602, 611, 612,\n",
       "        613, 629, 633, 639, 643, 648, 650, 653, 656, 667, 669, 674, 680,\n",
       "        692, 697, 709, 711, 718, 727, 732, 738, 739, 740, 760, 766, 768,\n",
       "        773, 776, 778, 783, 790, 792, 793, 815, 825, 826, 828, 832, 837,\n",
       "        839, 846, 849, 859, 863, 868, 878, 888], dtype=int64),)"
      ]
     },
     "execution_count": 19,
     "metadata": {},
     "output_type": "execute_result"
    }
   ],
   "source": [
    "df.Age[df.Age.isnull() == True]\n",
    "np.where(df.Age.isnull() == True)"
   ]
  },
  {
   "cell_type": "code",
   "execution_count": 20,
   "id": "a3a57960",
   "metadata": {},
   "outputs": [],
   "source": [
    "a = df.Fare.max()"
   ]
  },
  {
   "cell_type": "code",
   "execution_count": 21,
   "id": "d10e7a5c",
   "metadata": {},
   "outputs": [
    {
     "data": {
      "text/plain": [
       "pandas.core.frame.DataFrame"
      ]
     },
     "execution_count": 21,
     "metadata": {},
     "output_type": "execute_result"
    }
   ],
   "source": [
    "maxIndex = np.where(df.Fare ==a)\n",
    "type(df.iloc[maxIndex])"
   ]
  },
  {
   "cell_type": "code",
   "execution_count": 22,
   "id": "d6229dae",
   "metadata": {},
   "outputs": [
    {
     "data": {
      "text/plain": [
       "258                      Ward, Miss. Anna\n",
       "679    Cardeza, Mr. Thomas Drake Martinez\n",
       "737                Lesurer, Mr. Gustave J\n",
       "Name: Name, dtype: object"
      ]
     },
     "execution_count": 22,
     "metadata": {},
     "output_type": "execute_result"
    }
   ],
   "source": [
    "df.iloc[maxIndex].Name"
   ]
  },
  {
   "cell_type": "code",
   "execution_count": 23,
   "id": "779b7512",
   "metadata": {},
   "outputs": [
    {
     "data": {
      "text/plain": [
       "512.3292"
      ]
     },
     "execution_count": 23,
     "metadata": {},
     "output_type": "execute_result"
    }
   ],
   "source": [
    "max(df.Fare)"
   ]
  },
  {
   "cell_type": "code",
   "execution_count": 24,
   "id": "a706b128",
   "metadata": {},
   "outputs": [
    {
     "data": {
      "text/plain": [
       "89                                Celotti, Mr. Francesco\n",
       "118                             Baxter, Mr. Quigg Edmond\n",
       "127                            Madsen, Mr. Fridtjof Arne\n",
       "139                                   Giglio, Mr. Victor\n",
       "142    Hakkarainen, Mrs. Pekka Pietari (Elin Matilda ...\n",
       "199               Yrois, Miss. Henriette (\"Mrs Harbeck\")\n",
       "210                                       Ali, Mr. Ahmed\n",
       "234                    Leyson, Mr. Robert William Norman\n",
       "247                      Hamalainen, Mrs. William (Anna)\n",
       "293                                  Haas, Miss. Aloisia\n",
       "294                                     Mineff, Mr. Ivan\n",
       "310                       Hays, Miss. Margaret Bechstein\n",
       "316                  Kantor, Mrs. Sinai (Miriam Sternin)\n",
       "341                       Fortune, Miss. Alice Elizabeth\n",
       "345                        Brown, Miss. Amelia \"Mildred\"\n",
       "369                        Aubart, Mme. Leontine Pauline\n",
       "394    Sandstrom, Mrs. Hjalmar (Agnes Charlotta Bengt...\n",
       "437                Richards, Mrs. Sidney (Emily Hocking)\n",
       "499                                   Svensson, Mr. Olof\n",
       "514                                    Coleff, Mr. Satio\n",
       "565                                 Davies, Mr. Alfred J\n",
       "600    Jacobsohn, Mrs. Sidney Samuel (Amy Frances Chr...\n",
       "615                                  Herman, Miss. Alice\n",
       "641                                 Sagesser, Mlle. Emma\n",
       "655                            Hickman, Mr. Leonard Mark\n",
       "710     Mayne, Mlle. Berthe Antonine (\"Mrs de Villiers\")\n",
       "743                                    McNamee, Mr. Neal\n",
       "770                               Lievens, Mr. Rene Aime\n",
       "858                Baclini, Mrs. Solomon (Latifa Qurban)\n",
       "864                               Gill, Mr. John William\n",
       "Name: Name, dtype: object"
      ]
     },
     "execution_count": 24,
     "metadata": {},
     "output_type": "execute_result"
    }
   ],
   "source": [
    "df[df.Age == 24].Name"
   ]
  },
  {
   "cell_type": "code",
   "execution_count": 25,
   "id": "17598d61",
   "metadata": {},
   "outputs": [
    {
     "data": {
      "text/html": [
       "<div>\n",
       "<style scoped>\n",
       "    .dataframe tbody tr th:only-of-type {\n",
       "        vertical-align: middle;\n",
       "    }\n",
       "\n",
       "    .dataframe tbody tr th {\n",
       "        vertical-align: top;\n",
       "    }\n",
       "\n",
       "    .dataframe thead th {\n",
       "        text-align: right;\n",
       "    }\n",
       "</style>\n",
       "<table border=\"1\" class=\"dataframe\">\n",
       "  <thead>\n",
       "    <tr style=\"text-align: right;\">\n",
       "      <th></th>\n",
       "      <th>Age</th>\n",
       "      <th>Cabin</th>\n",
       "    </tr>\n",
       "  </thead>\n",
       "  <tbody>\n",
       "    <tr>\n",
       "      <th>0</th>\n",
       "      <td>22.0</td>\n",
       "      <td>NaN</td>\n",
       "    </tr>\n",
       "    <tr>\n",
       "      <th>2</th>\n",
       "      <td>26.0</td>\n",
       "      <td>NaN</td>\n",
       "    </tr>\n",
       "    <tr>\n",
       "      <th>4</th>\n",
       "      <td>35.0</td>\n",
       "      <td>NaN</td>\n",
       "    </tr>\n",
       "    <tr>\n",
       "      <th>5</th>\n",
       "      <td>NaN</td>\n",
       "      <td>NaN</td>\n",
       "    </tr>\n",
       "    <tr>\n",
       "      <th>7</th>\n",
       "      <td>2.0</td>\n",
       "      <td>NaN</td>\n",
       "    </tr>\n",
       "    <tr>\n",
       "      <th>...</th>\n",
       "      <td>...</td>\n",
       "      <td>...</td>\n",
       "    </tr>\n",
       "    <tr>\n",
       "      <th>884</th>\n",
       "      <td>25.0</td>\n",
       "      <td>NaN</td>\n",
       "    </tr>\n",
       "    <tr>\n",
       "      <th>885</th>\n",
       "      <td>39.0</td>\n",
       "      <td>NaN</td>\n",
       "    </tr>\n",
       "    <tr>\n",
       "      <th>886</th>\n",
       "      <td>27.0</td>\n",
       "      <td>NaN</td>\n",
       "    </tr>\n",
       "    <tr>\n",
       "      <th>888</th>\n",
       "      <td>NaN</td>\n",
       "      <td>NaN</td>\n",
       "    </tr>\n",
       "    <tr>\n",
       "      <th>890</th>\n",
       "      <td>32.0</td>\n",
       "      <td>NaN</td>\n",
       "    </tr>\n",
       "  </tbody>\n",
       "</table>\n",
       "<p>687 rows × 2 columns</p>\n",
       "</div>"
      ],
      "text/plain": [
       "      Age Cabin\n",
       "0    22.0   NaN\n",
       "2    26.0   NaN\n",
       "4    35.0   NaN\n",
       "5     NaN   NaN\n",
       "7     2.0   NaN\n",
       "..    ...   ...\n",
       "884  25.0   NaN\n",
       "885  39.0   NaN\n",
       "886  27.0   NaN\n",
       "888   NaN   NaN\n",
       "890  32.0   NaN\n",
       "\n",
       "[687 rows x 2 columns]"
      ]
     },
     "execution_count": 25,
     "metadata": {},
     "output_type": "execute_result"
    }
   ],
   "source": [
    "df[df.Cabin.isnull() == True][['Age','Cabin']]"
   ]
  },
  {
   "cell_type": "code",
   "execution_count": 26,
   "id": "cccefac5",
   "metadata": {},
   "outputs": [],
   "source": [
    "arr1= np.array([1,2])"
   ]
  },
  {
   "cell_type": "code",
   "execution_count": 27,
   "id": "2a3291e2",
   "metadata": {},
   "outputs": [
    {
     "data": {
      "text/plain": [
       "array([3, 4, 5])"
      ]
     },
     "execution_count": 27,
     "metadata": {},
     "output_type": "execute_result"
    }
   ],
   "source": [
    "arr + 2"
   ]
  },
  {
   "cell_type": "code",
   "execution_count": 28,
   "id": "c04cde4e",
   "metadata": {},
   "outputs": [
    {
     "data": {
      "text/html": [
       "<div>\n",
       "<style scoped>\n",
       "    .dataframe tbody tr th:only-of-type {\n",
       "        vertical-align: middle;\n",
       "    }\n",
       "\n",
       "    .dataframe tbody tr th {\n",
       "        vertical-align: top;\n",
       "    }\n",
       "\n",
       "    .dataframe thead th {\n",
       "        text-align: right;\n",
       "    }\n",
       "</style>\n",
       "<table border=\"1\" class=\"dataframe\">\n",
       "  <thead>\n",
       "    <tr style=\"text-align: right;\">\n",
       "      <th></th>\n",
       "      <th>PassengerId</th>\n",
       "      <th>Survived</th>\n",
       "    </tr>\n",
       "  </thead>\n",
       "  <tbody>\n",
       "    <tr>\n",
       "      <th>0</th>\n",
       "      <td>1</td>\n",
       "      <td>0</td>\n",
       "    </tr>\n",
       "    <tr>\n",
       "      <th>1</th>\n",
       "      <td>2</td>\n",
       "      <td>1</td>\n",
       "    </tr>\n",
       "  </tbody>\n",
       "</table>\n",
       "</div>"
      ],
      "text/plain": [
       "   PassengerId  Survived\n",
       "0            1         0\n",
       "1            2         1"
      ]
     },
     "execution_count": 28,
     "metadata": {},
     "output_type": "execute_result"
    }
   ],
   "source": [
    "df.iloc[0:2,0:2]\n"
   ]
  },
  {
   "cell_type": "code",
   "execution_count": 29,
   "id": "918c0f39",
   "metadata": {},
   "outputs": [],
   "source": [
    "np.random.seed(23)\n",
    "df1 = pd.DataFrame(np.random.randn(4,5), index = ('x','y','z','u'), columns = ('a','b','c','d','e'))"
   ]
  },
  {
   "cell_type": "code",
   "execution_count": 30,
   "id": "dcbac795",
   "metadata": {},
   "outputs": [
    {
     "data": {
      "text/html": [
       "<div>\n",
       "<style scoped>\n",
       "    .dataframe tbody tr th:only-of-type {\n",
       "        vertical-align: middle;\n",
       "    }\n",
       "\n",
       "    .dataframe tbody tr th {\n",
       "        vertical-align: top;\n",
       "    }\n",
       "\n",
       "    .dataframe thead th {\n",
       "        text-align: right;\n",
       "    }\n",
       "</style>\n",
       "<table border=\"1\" class=\"dataframe\">\n",
       "  <thead>\n",
       "    <tr style=\"text-align: right;\">\n",
       "      <th></th>\n",
       "      <th>a</th>\n",
       "      <th>b</th>\n",
       "      <th>c</th>\n",
       "      <th>d</th>\n",
       "      <th>e</th>\n",
       "    </tr>\n",
       "  </thead>\n",
       "  <tbody>\n",
       "    <tr>\n",
       "      <th>x</th>\n",
       "      <td>0.666988</td>\n",
       "      <td>0.025813</td>\n",
       "      <td>-0.777619</td>\n",
       "      <td>0.948634</td>\n",
       "      <td>0.701672</td>\n",
       "    </tr>\n",
       "    <tr>\n",
       "      <th>y</th>\n",
       "      <td>-1.051082</td>\n",
       "      <td>-0.367548</td>\n",
       "      <td>-1.137460</td>\n",
       "      <td>-1.322148</td>\n",
       "      <td>1.772258</td>\n",
       "    </tr>\n",
       "    <tr>\n",
       "      <th>z</th>\n",
       "      <td>-0.347459</td>\n",
       "      <td>0.670140</td>\n",
       "      <td>0.322272</td>\n",
       "      <td>0.060343</td>\n",
       "      <td>-1.043450</td>\n",
       "    </tr>\n",
       "    <tr>\n",
       "      <th>u</th>\n",
       "      <td>-1.009942</td>\n",
       "      <td>0.441736</td>\n",
       "      <td>1.128877</td>\n",
       "      <td>-1.838068</td>\n",
       "      <td>-0.938769</td>\n",
       "    </tr>\n",
       "  </tbody>\n",
       "</table>\n",
       "</div>"
      ],
      "text/plain": [
       "          a         b         c         d         e\n",
       "x  0.666988  0.025813 -0.777619  0.948634  0.701672\n",
       "y -1.051082 -0.367548 -1.137460 -1.322148  1.772258\n",
       "z -0.347459  0.670140  0.322272  0.060343 -1.043450\n",
       "u -1.009942  0.441736  1.128877 -1.838068 -0.938769"
      ]
     },
     "execution_count": 30,
     "metadata": {},
     "output_type": "execute_result"
    }
   ],
   "source": [
    "df1"
   ]
  },
  {
   "cell_type": "code",
   "execution_count": 31,
   "id": "15521837",
   "metadata": {},
   "outputs": [
    {
     "data": {
      "text/plain": [
       "Index(['x', 'y', 'z', 'u'], dtype='object')"
      ]
     },
     "execution_count": 31,
     "metadata": {},
     "output_type": "execute_result"
    }
   ],
   "source": [
    "df1.index"
   ]
  },
  {
   "cell_type": "code",
   "execution_count": 32,
   "id": "3a8b19e4",
   "metadata": {},
   "outputs": [
    {
     "ename": "SyntaxError",
     "evalue": "invalid syntax (Temp/ipykernel_5012/2200925777.py, line 2)",
     "output_type": "error",
     "traceback": [
      "\u001b[1;36m  File \u001b[1;32m\"C:\\Users\\win\\AppData\\Local\\Temp/ipykernel_5012/2200925777.py\"\u001b[1;36m, line \u001b[1;32m2\u001b[0m\n\u001b[1;33m    if df1.loc[i] < 0\u001b[0m\n\u001b[1;37m                     ^\u001b[0m\n\u001b[1;31mSyntaxError\u001b[0m\u001b[1;31m:\u001b[0m invalid syntax\n"
     ]
    }
   ],
   "source": [
    "for i in df1.columns:\n",
    "    if df1.loc[i] < 0\n",
    "        print(df1.i[df1.i < 0])\n"
   ]
  },
  {
   "cell_type": "code",
   "execution_count": null,
   "id": "4c1ec984",
   "metadata": {},
   "outputs": [],
   "source": [
    "print(df1.a[df1['a'] < 0])"
   ]
  },
  {
   "cell_type": "code",
   "execution_count": null,
   "id": "cb1fa7de",
   "metadata": {},
   "outputs": [],
   "source": [
    "df1.columns"
   ]
  },
  {
   "cell_type": "code",
   "execution_count": null,
   "id": "e02a793d",
   "metadata": {},
   "outputs": [],
   "source": [
    "np.where(df1 < 0)"
   ]
  },
  {
   "cell_type": "code",
   "execution_count": null,
   "id": "0d34115c",
   "metadata": {},
   "outputs": [],
   "source": [
    "for i in df1.columns:\n",
    "    for j in df1.index:\n",
    "        if df1.loc[j,i]< 0:\n",
    "            print(j,i)"
   ]
  },
  {
   "cell_type": "code",
   "execution_count": null,
   "id": "412d524a",
   "metadata": {},
   "outputs": [],
   "source": [
    "df1.iloc[0,0]\n"
   ]
  },
  {
   "cell_type": "code",
   "execution_count": 33,
   "id": "b54f926d",
   "metadata": {},
   "outputs": [
    {
     "data": {
      "text/html": [
       "<div>\n",
       "<style scoped>\n",
       "    .dataframe tbody tr th:only-of-type {\n",
       "        vertical-align: middle;\n",
       "    }\n",
       "\n",
       "    .dataframe tbody tr th {\n",
       "        vertical-align: top;\n",
       "    }\n",
       "\n",
       "    .dataframe thead th {\n",
       "        text-align: right;\n",
       "    }\n",
       "</style>\n",
       "<table border=\"1\" class=\"dataframe\">\n",
       "  <thead>\n",
       "    <tr style=\"text-align: right;\">\n",
       "      <th></th>\n",
       "      <th>a</th>\n",
       "      <th>b</th>\n",
       "      <th>c</th>\n",
       "      <th>d</th>\n",
       "      <th>e</th>\n",
       "    </tr>\n",
       "  </thead>\n",
       "  <tbody>\n",
       "    <tr>\n",
       "      <th>x</th>\n",
       "      <td>0.666988</td>\n",
       "      <td>0.025813</td>\n",
       "      <td>-0.777619</td>\n",
       "      <td>0.948634</td>\n",
       "      <td>0.701672</td>\n",
       "    </tr>\n",
       "    <tr>\n",
       "      <th>y</th>\n",
       "      <td>-1.051082</td>\n",
       "      <td>-0.367548</td>\n",
       "      <td>-1.137460</td>\n",
       "      <td>-1.322148</td>\n",
       "      <td>1.772258</td>\n",
       "    </tr>\n",
       "    <tr>\n",
       "      <th>z</th>\n",
       "      <td>-0.347459</td>\n",
       "      <td>0.670140</td>\n",
       "      <td>0.322272</td>\n",
       "      <td>0.060343</td>\n",
       "      <td>-1.043450</td>\n",
       "    </tr>\n",
       "    <tr>\n",
       "      <th>u</th>\n",
       "      <td>-1.009942</td>\n",
       "      <td>0.441736</td>\n",
       "      <td>1.128877</td>\n",
       "      <td>-1.838068</td>\n",
       "      <td>-0.938769</td>\n",
       "    </tr>\n",
       "  </tbody>\n",
       "</table>\n",
       "</div>"
      ],
      "text/plain": [
       "          a         b         c         d         e\n",
       "x  0.666988  0.025813 -0.777619  0.948634  0.701672\n",
       "y -1.051082 -0.367548 -1.137460 -1.322148  1.772258\n",
       "z -0.347459  0.670140  0.322272  0.060343 -1.043450\n",
       "u -1.009942  0.441736  1.128877 -1.838068 -0.938769"
      ]
     },
     "execution_count": 33,
     "metadata": {},
     "output_type": "execute_result"
    }
   ],
   "source": [
    "df1\n"
   ]
  },
  {
   "cell_type": "code",
   "execution_count": 35,
   "id": "b90f5164",
   "metadata": {},
   "outputs": [],
   "source": [
    "LeftArr = np.array([[1,2,3],[4,5,6],[7,8,9]])"
   ]
  },
  {
   "cell_type": "code",
   "execution_count": 39,
   "id": "e98ef1ef",
   "metadata": {},
   "outputs": [
    {
     "ename": "AttributeError",
     "evalue": "'numpy.ndarray' object has no attribute 'row'",
     "output_type": "error",
     "traceback": [
      "\u001b[1;31m---------------------------------------------------------------------------\u001b[0m",
      "\u001b[1;31mAttributeError\u001b[0m                            Traceback (most recent call last)",
      "\u001b[1;32m~\\AppData\\Local\\Temp/ipykernel_5012/740456195.py\u001b[0m in \u001b[0;36m<module>\u001b[1;34m\u001b[0m\n\u001b[1;32m----> 1\u001b[1;33m \u001b[0mLeftArr\u001b[0m\u001b[1;33m.\u001b[0m\u001b[0mrow\u001b[0m\u001b[1;33m\u001b[0m\u001b[1;33m\u001b[0m\u001b[0m\n\u001b[0m",
      "\u001b[1;31mAttributeError\u001b[0m: 'numpy.ndarray' object has no attribute 'row'"
     ]
    }
   ],
   "source": [
    "for i in \n"
   ]
  },
  {
   "cell_type": "code",
   "execution_count": 37,
   "id": "fded65d6",
   "metadata": {},
   "outputs": [
    {
     "data": {
      "text/plain": [
       "array([6, 7, 8, 9])"
      ]
     },
     "execution_count": 37,
     "metadata": {},
     "output_type": "execute_result"
    }
   ],
   "source": [
    "LeftArr[LeftArr > 5]"
   ]
  },
  {
   "cell_type": "code",
   "execution_count": 49,
   "id": "5a2efac7",
   "metadata": {},
   "outputs": [
    {
     "name": "stdout",
     "output_type": "stream",
     "text": [
      "7\n",
      "8\n",
      "6\n",
      "9\n"
     ]
    }
   ],
   "source": [
    "for i in range(len(LeftArr)):\n",
    "    for j in range(len(LeftArr[i])) :\n",
    "        if LeftArr[j, i] > 5:\n",
    "            print(LeftArr[j, i])"
   ]
  },
  {
   "cell_type": "code",
   "execution_count": 45,
   "id": "890f20e5",
   "metadata": {},
   "outputs": [
    {
     "data": {
      "text/plain": [
       "6"
      ]
     },
     "execution_count": 45,
     "metadata": {},
     "output_type": "execute_result"
    }
   ],
   "source": [
    "LeftArr[1,2]"
   ]
  },
  {
   "cell_type": "code",
   "execution_count": 48,
   "id": "7904f74e",
   "metadata": {},
   "outputs": [
    {
     "data": {
      "text/plain": [
       "5.656854249492381"
      ]
     },
     "execution_count": 48,
     "metadata": {},
     "output_type": "execute_result"
    }
   ],
   "source": [
    "2**2.5"
   ]
  },
  {
   "cell_type": "code",
   "execution_count": 52,
   "id": "7f0215e6",
   "metadata": {},
   "outputs": [
    {
     "name": "stdout",
     "output_type": "stream",
     "text": [
      "[4 5 6]\n"
     ]
    },
    {
     "name": "stderr",
     "output_type": "stream",
     "text": [
      "C:\\Users\\win\\AppData\\Local\\Temp/ipykernel_5012/3011847579.py:2: DeprecationWarning: The truth value of an empty array is ambiguous. Returning False, but in future this will result in an error. Use `array.size > 0` to check that an array is not empty.\n",
      "  if i[i>5]:\n"
     ]
    },
    {
     "ename": "ValueError",
     "evalue": "The truth value of an array with more than one element is ambiguous. Use a.any() or a.all()",
     "output_type": "error",
     "traceback": [
      "\u001b[1;31m---------------------------------------------------------------------------\u001b[0m",
      "\u001b[1;31mValueError\u001b[0m                                Traceback (most recent call last)",
      "\u001b[1;32m~\\AppData\\Local\\Temp/ipykernel_5012/3011847579.py\u001b[0m in \u001b[0;36m<module>\u001b[1;34m\u001b[0m\n\u001b[0;32m      1\u001b[0m \u001b[1;32mfor\u001b[0m \u001b[0mi\u001b[0m \u001b[1;32min\u001b[0m \u001b[0mLeftArr\u001b[0m\u001b[1;33m:\u001b[0m\u001b[1;33m\u001b[0m\u001b[1;33m\u001b[0m\u001b[0m\n\u001b[1;32m----> 2\u001b[1;33m     \u001b[1;32mif\u001b[0m \u001b[0mi\u001b[0m\u001b[1;33m[\u001b[0m\u001b[0mi\u001b[0m\u001b[1;33m>\u001b[0m\u001b[1;36m5\u001b[0m\u001b[1;33m]\u001b[0m\u001b[1;33m:\u001b[0m\u001b[1;33m\u001b[0m\u001b[1;33m\u001b[0m\u001b[0m\n\u001b[0m\u001b[0;32m      3\u001b[0m         \u001b[0mprint\u001b[0m\u001b[1;33m(\u001b[0m\u001b[0mi\u001b[0m\u001b[1;33m)\u001b[0m\u001b[1;33m\u001b[0m\u001b[1;33m\u001b[0m\u001b[0m\n",
      "\u001b[1;31mValueError\u001b[0m: The truth value of an array with more than one element is ambiguous. Use a.any() or a.all()"
     ]
    }
   ],
   "source": [
    "for i in LeftArr:\n",
    "    if i[i>5]:\n",
    "        print(i)\n"
   ]
  },
  {
   "cell_type": "code",
   "execution_count": 53,
   "id": "704e961e",
   "metadata": {},
   "outputs": [
    {
     "name": "stdout",
     "output_type": "stream",
     "text": [
      "<class 'numpy.ndarray'>\n",
      "<class 'numpy.ndarray'>\n",
      "<class 'numpy.ndarray'>\n"
     ]
    }
   ],
   "source": [
    "for i in LeftArr:\n",
    "    print(type(i))"
   ]
  },
  {
   "cell_type": "code",
   "execution_count": 55,
   "id": "f2587e8f",
   "metadata": {},
   "outputs": [
    {
     "name": "stdout",
     "output_type": "stream",
     "text": [
      "[1]\n"
     ]
    }
   ],
   "source": [
    "print(arr[arr <2])"
   ]
  },
  {
   "cell_type": "code",
   "execution_count": 1,
   "id": "0f0ac0c0",
   "metadata": {},
   "outputs": [
    {
     "data": {
      "text/plain": [
       "'C:\\\\Users\\\\win'"
      ]
     },
     "execution_count": 1,
     "metadata": {},
     "output_type": "execute_result"
    }
   ],
   "source": [
    "pwd\n"
   ]
  },
  {
   "cell_type": "code",
   "execution_count": 2,
   "id": "414965ab",
   "metadata": {},
   "outputs": [
    {
     "name": "stdout",
     "output_type": "stream",
     "text": [
      " Volume in drive C has no label.\n",
      " Volume Serial Number is 0CEE-C01D\n",
      "\n",
      " Directory of C:\\Users\\win\n",
      "\n",
      "02-01-2022  15:24    <DIR>          .\n",
      "02-01-2022  15:24    <DIR>          ..\n",
      "03-12-2021  01:42    <DIR>          .conda\n",
      "28-11-2021  12:21                25 .condarc\n",
      "28-11-2021  12:21    <DIR>          .continuum\n",
      "04-05-2020  22:54    <DIR>          .idlerc\n",
      "01-01-2022  17:04    <DIR>          .ipynb_checkpoints\n",
      "02-12-2021  22:41    <DIR>          .ipython\n",
      "04-12-2021  10:12    <DIR>          .jupyter\n",
      "25-12-2021  17:13    <DIR>          .matplotlib\n",
      "07-12-2021  00:42                20 .python_history\n",
      "05-10-2020  03:27    <DIR>          3D Objects\n",
      "28-11-2021  12:16    <DIR>          anaconda3\n",
      "26-12-2021  19:42            14,257 Condition and For loop.ipynb\n",
      "05-10-2020  03:27    <DIR>          Contacts\n",
      "14-03-2021  17:31    <DIR>          Desktop\n",
      "28-11-2021  12:16    <DIR>          Documents\n",
      "28-12-2021  23:46    <DIR>          Downloads\n",
      "05-10-2020  03:27    <DIR>          Favorites\n",
      "27-12-2021  01:00            19,974 for loops while loop.ipynb\n",
      "02-01-2022  15:24             9,315 Functions.ipynb\n",
      "05-10-2020  03:27    <DIR>          Links\n",
      "05-10-2020  03:27    <DIR>          Music\n",
      "29-03-2021  19:08    <DIR>          OneDrive\n",
      "26-12-2021  11:36            46,651 Pandas.ipynb\n",
      "05-10-2020  03:27    <DIR>          Pictures\n",
      "31-12-2021  18:32            55,509 practice problem python basic.ipynb\n",
      "29-12-2021  02:54            10,491 Practice.ipynb\n",
      "18-12-2021  17:34            35,677 Python basic (3).ipynb\n",
      "05-10-2020  03:27    <DIR>          Saved Games\n",
      "05-10-2020  03:27    <DIR>          Searches\n",
      "01-05-2020  22:44    <DIR>          source\n",
      "05-12-2021  17:49            18,616 String.ipynb\n",
      "19-12-2021  01:04            30,232 Tuple.ipynb\n",
      "05-10-2020  03:27    <DIR>          Videos\n",
      "              11 File(s)        240,767 bytes\n",
      "              24 Dir(s)  96,208,633,856 bytes free\n"
     ]
    }
   ],
   "source": [
    "ls"
   ]
  },
  {
   "cell_type": "code",
   "execution_count": 9,
   "id": "37ef8fe5",
   "metadata": {},
   "outputs": [],
   "source": [
    "d1 = {\"UserId\": 12, \"Age\": 24}\n",
    "d2 = {\"UserCode\": 25, \"Age\": 20}\n",
    "list1 = []\n",
    "list1.append(d1)\n",
    "list1.append(d2)"
   ]
  },
  {
   "cell_type": "code",
   "execution_count": 10,
   "id": "48076119",
   "metadata": {},
   "outputs": [],
   "source": [
    "import pandas as pd"
   ]
  },
  {
   "cell_type": "code",
   "execution_count": 11,
   "id": "9ddd1206",
   "metadata": {},
   "outputs": [
    {
     "data": {
      "text/html": [
       "<div>\n",
       "<style scoped>\n",
       "    .dataframe tbody tr th:only-of-type {\n",
       "        vertical-align: middle;\n",
       "    }\n",
       "\n",
       "    .dataframe tbody tr th {\n",
       "        vertical-align: top;\n",
       "    }\n",
       "\n",
       "    .dataframe thead th {\n",
       "        text-align: right;\n",
       "    }\n",
       "</style>\n",
       "<table border=\"1\" class=\"dataframe\">\n",
       "  <thead>\n",
       "    <tr style=\"text-align: right;\">\n",
       "      <th></th>\n",
       "      <th>UserId</th>\n",
       "      <th>Age</th>\n",
       "      <th>UserCode</th>\n",
       "    </tr>\n",
       "  </thead>\n",
       "  <tbody>\n",
       "    <tr>\n",
       "      <th>0</th>\n",
       "      <td>12.0</td>\n",
       "      <td>24</td>\n",
       "      <td>NaN</td>\n",
       "    </tr>\n",
       "    <tr>\n",
       "      <th>1</th>\n",
       "      <td>NaN</td>\n",
       "      <td>20</td>\n",
       "      <td>25.0</td>\n",
       "    </tr>\n",
       "  </tbody>\n",
       "</table>\n",
       "</div>"
      ],
      "text/plain": [
       "   UserId  Age  UserCode\n",
       "0    12.0   24       NaN\n",
       "1     NaN   20      25.0"
      ]
     },
     "execution_count": 11,
     "metadata": {},
     "output_type": "execute_result"
    }
   ],
   "source": [
    "pd.DataFrame(list1)"
   ]
  },
  {
   "cell_type": "code",
   "execution_count": 8,
   "id": "1a0bdc76",
   "metadata": {},
   "outputs": [
    {
     "data": {
      "text/plain": [
       "[{'UserId': 12, 'Age': 24}, {'UserId': 25, 'Age': 20}]"
      ]
     },
     "execution_count": 8,
     "metadata": {},
     "output_type": "execute_result"
    }
   ],
   "source": [
    "list1"
   ]
  },
  {
   "cell_type": "code",
   "execution_count": null,
   "id": "619013f2",
   "metadata": {},
   "outputs": [],
   "source": []
  }
 ],
 "metadata": {
  "kernelspec": {
   "display_name": "Python 3 (ipykernel)",
   "language": "python",
   "name": "python3"
  },
  "language_info": {
   "codemirror_mode": {
    "name": "ipython",
    "version": 3
   },
   "file_extension": ".py",
   "mimetype": "text/x-python",
   "name": "python",
   "nbconvert_exporter": "python",
   "pygments_lexer": "ipython3",
   "version": "3.9.7"
  }
 },
 "nbformat": 4,
 "nbformat_minor": 5
}
