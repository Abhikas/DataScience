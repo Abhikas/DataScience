{
 "cells": [
  {
   "cell_type": "code",
   "execution_count": 1,
   "id": "e1691911",
   "metadata": {},
   "outputs": [],
   "source": [
    "import pandas as pd\n"
   ]
  },
  {
   "cell_type": "code",
   "execution_count": 6,
   "id": "22095dc9",
   "metadata": {},
   "outputs": [],
   "source": [
    "df = pd.DataFrame({\n",
    "    'col1': [1,2,3,4,5],\n",
    "    'col2': [45,56,67,34,34],\n",
    "    'col3':\"Abhishek Kumar Bablu Jack Nick\".split()\n",
    "})"
   ]
  },
  {
   "cell_type": "code",
   "execution_count": 7,
   "id": "e4da947a",
   "metadata": {},
   "outputs": [
    {
     "data": {
      "text/html": [
       "<div>\n",
       "<style scoped>\n",
       "    .dataframe tbody tr th:only-of-type {\n",
       "        vertical-align: middle;\n",
       "    }\n",
       "\n",
       "    .dataframe tbody tr th {\n",
       "        vertical-align: top;\n",
       "    }\n",
       "\n",
       "    .dataframe thead th {\n",
       "        text-align: right;\n",
       "    }\n",
       "</style>\n",
       "<table border=\"1\" class=\"dataframe\">\n",
       "  <thead>\n",
       "    <tr style=\"text-align: right;\">\n",
       "      <th></th>\n",
       "      <th>col1</th>\n",
       "      <th>col2</th>\n",
       "      <th>col3</th>\n",
       "    </tr>\n",
       "  </thead>\n",
       "  <tbody>\n",
       "    <tr>\n",
       "      <th>0</th>\n",
       "      <td>1</td>\n",
       "      <td>45</td>\n",
       "      <td>Abhishek</td>\n",
       "    </tr>\n",
       "    <tr>\n",
       "      <th>1</th>\n",
       "      <td>2</td>\n",
       "      <td>56</td>\n",
       "      <td>Kumar</td>\n",
       "    </tr>\n",
       "    <tr>\n",
       "      <th>2</th>\n",
       "      <td>3</td>\n",
       "      <td>67</td>\n",
       "      <td>Bablu</td>\n",
       "    </tr>\n",
       "    <tr>\n",
       "      <th>3</th>\n",
       "      <td>4</td>\n",
       "      <td>34</td>\n",
       "      <td>Jack</td>\n",
       "    </tr>\n",
       "    <tr>\n",
       "      <th>4</th>\n",
       "      <td>5</td>\n",
       "      <td>34</td>\n",
       "      <td>Nick</td>\n",
       "    </tr>\n",
       "  </tbody>\n",
       "</table>\n",
       "</div>"
      ],
      "text/plain": [
       "   col1  col2      col3\n",
       "0     1    45  Abhishek\n",
       "1     2    56     Kumar\n",
       "2     3    67     Bablu\n",
       "3     4    34      Jack\n",
       "4     5    34      Nick"
      ]
     },
     "execution_count": 7,
     "metadata": {},
     "output_type": "execute_result"
    }
   ],
   "source": [
    "df"
   ]
  },
  {
   "cell_type": "code",
   "execution_count": 8,
   "id": "8a8d9df8",
   "metadata": {},
   "outputs": [],
   "source": [
    "df[\"col4\"] = df.col1 * df.col1"
   ]
  },
  {
   "cell_type": "code",
   "execution_count": 9,
   "id": "89988c7b",
   "metadata": {},
   "outputs": [
    {
     "data": {
      "text/html": [
       "<div>\n",
       "<style scoped>\n",
       "    .dataframe tbody tr th:only-of-type {\n",
       "        vertical-align: middle;\n",
       "    }\n",
       "\n",
       "    .dataframe tbody tr th {\n",
       "        vertical-align: top;\n",
       "    }\n",
       "\n",
       "    .dataframe thead th {\n",
       "        text-align: right;\n",
       "    }\n",
       "</style>\n",
       "<table border=\"1\" class=\"dataframe\">\n",
       "  <thead>\n",
       "    <tr style=\"text-align: right;\">\n",
       "      <th></th>\n",
       "      <th>col1</th>\n",
       "      <th>col2</th>\n",
       "      <th>col3</th>\n",
       "      <th>col4</th>\n",
       "    </tr>\n",
       "  </thead>\n",
       "  <tbody>\n",
       "    <tr>\n",
       "      <th>0</th>\n",
       "      <td>1</td>\n",
       "      <td>45</td>\n",
       "      <td>Abhishek</td>\n",
       "      <td>1</td>\n",
       "    </tr>\n",
       "    <tr>\n",
       "      <th>1</th>\n",
       "      <td>2</td>\n",
       "      <td>56</td>\n",
       "      <td>Kumar</td>\n",
       "      <td>4</td>\n",
       "    </tr>\n",
       "    <tr>\n",
       "      <th>2</th>\n",
       "      <td>3</td>\n",
       "      <td>67</td>\n",
       "      <td>Bablu</td>\n",
       "      <td>9</td>\n",
       "    </tr>\n",
       "    <tr>\n",
       "      <th>3</th>\n",
       "      <td>4</td>\n",
       "      <td>34</td>\n",
       "      <td>Jack</td>\n",
       "      <td>16</td>\n",
       "    </tr>\n",
       "    <tr>\n",
       "      <th>4</th>\n",
       "      <td>5</td>\n",
       "      <td>34</td>\n",
       "      <td>Nick</td>\n",
       "      <td>25</td>\n",
       "    </tr>\n",
       "  </tbody>\n",
       "</table>\n",
       "</div>"
      ],
      "text/plain": [
       "   col1  col2      col3  col4\n",
       "0     1    45  Abhishek     1\n",
       "1     2    56     Kumar     4\n",
       "2     3    67     Bablu     9\n",
       "3     4    34      Jack    16\n",
       "4     5    34      Nick    25"
      ]
     },
     "execution_count": 9,
     "metadata": {},
     "output_type": "execute_result"
    }
   ],
   "source": [
    "df"
   ]
  },
  {
   "cell_type": "code",
   "execution_count": 12,
   "id": "35aefe52",
   "metadata": {},
   "outputs": [],
   "source": [
    "df[\"col5\"] = df.col3.str[0]"
   ]
  },
  {
   "cell_type": "code",
   "execution_count": 13,
   "id": "6b1e7d69",
   "metadata": {},
   "outputs": [
    {
     "data": {
      "text/html": [
       "<div>\n",
       "<style scoped>\n",
       "    .dataframe tbody tr th:only-of-type {\n",
       "        vertical-align: middle;\n",
       "    }\n",
       "\n",
       "    .dataframe tbody tr th {\n",
       "        vertical-align: top;\n",
       "    }\n",
       "\n",
       "    .dataframe thead th {\n",
       "        text-align: right;\n",
       "    }\n",
       "</style>\n",
       "<table border=\"1\" class=\"dataframe\">\n",
       "  <thead>\n",
       "    <tr style=\"text-align: right;\">\n",
       "      <th></th>\n",
       "      <th>col1</th>\n",
       "      <th>col2</th>\n",
       "      <th>col3</th>\n",
       "      <th>col4</th>\n",
       "      <th>col5</th>\n",
       "    </tr>\n",
       "  </thead>\n",
       "  <tbody>\n",
       "    <tr>\n",
       "      <th>0</th>\n",
       "      <td>1</td>\n",
       "      <td>45</td>\n",
       "      <td>Abhishek</td>\n",
       "      <td>1</td>\n",
       "      <td>A</td>\n",
       "    </tr>\n",
       "    <tr>\n",
       "      <th>1</th>\n",
       "      <td>2</td>\n",
       "      <td>56</td>\n",
       "      <td>Kumar</td>\n",
       "      <td>4</td>\n",
       "      <td>K</td>\n",
       "    </tr>\n",
       "    <tr>\n",
       "      <th>2</th>\n",
       "      <td>3</td>\n",
       "      <td>67</td>\n",
       "      <td>Bablu</td>\n",
       "      <td>9</td>\n",
       "      <td>B</td>\n",
       "    </tr>\n",
       "    <tr>\n",
       "      <th>3</th>\n",
       "      <td>4</td>\n",
       "      <td>34</td>\n",
       "      <td>Jack</td>\n",
       "      <td>16</td>\n",
       "      <td>J</td>\n",
       "    </tr>\n",
       "    <tr>\n",
       "      <th>4</th>\n",
       "      <td>5</td>\n",
       "      <td>34</td>\n",
       "      <td>Nick</td>\n",
       "      <td>25</td>\n",
       "      <td>N</td>\n",
       "    </tr>\n",
       "  </tbody>\n",
       "</table>\n",
       "</div>"
      ],
      "text/plain": [
       "   col1  col2      col3  col4 col5\n",
       "0     1    45  Abhishek     1    A\n",
       "1     2    56     Kumar     4    K\n",
       "2     3    67     Bablu     9    B\n",
       "3     4    34      Jack    16    J\n",
       "4     5    34      Nick    25    N"
      ]
     },
     "execution_count": 13,
     "metadata": {},
     "output_type": "execute_result"
    }
   ],
   "source": [
    "df"
   ]
  },
  {
   "cell_type": "code",
   "execution_count": 14,
   "id": "5f594264",
   "metadata": {},
   "outputs": [],
   "source": [
    "def test(a):\n",
    "    return a**2"
   ]
  },
  {
   "cell_type": "code",
   "execution_count": 15,
   "id": "e62abd87",
   "metadata": {},
   "outputs": [],
   "source": [
    "df[\"col4_4\"] = df[\"col1\"].apply(test)"
   ]
  },
  {
   "cell_type": "code",
   "execution_count": 16,
   "id": "00ea0da8",
   "metadata": {},
   "outputs": [
    {
     "data": {
      "text/html": [
       "<div>\n",
       "<style scoped>\n",
       "    .dataframe tbody tr th:only-of-type {\n",
       "        vertical-align: middle;\n",
       "    }\n",
       "\n",
       "    .dataframe tbody tr th {\n",
       "        vertical-align: top;\n",
       "    }\n",
       "\n",
       "    .dataframe thead th {\n",
       "        text-align: right;\n",
       "    }\n",
       "</style>\n",
       "<table border=\"1\" class=\"dataframe\">\n",
       "  <thead>\n",
       "    <tr style=\"text-align: right;\">\n",
       "      <th></th>\n",
       "      <th>col1</th>\n",
       "      <th>col2</th>\n",
       "      <th>col3</th>\n",
       "      <th>col4</th>\n",
       "      <th>col5</th>\n",
       "      <th>col4_4</th>\n",
       "    </tr>\n",
       "  </thead>\n",
       "  <tbody>\n",
       "    <tr>\n",
       "      <th>0</th>\n",
       "      <td>1</td>\n",
       "      <td>45</td>\n",
       "      <td>Abhishek</td>\n",
       "      <td>1</td>\n",
       "      <td>A</td>\n",
       "      <td>1</td>\n",
       "    </tr>\n",
       "    <tr>\n",
       "      <th>1</th>\n",
       "      <td>2</td>\n",
       "      <td>56</td>\n",
       "      <td>Kumar</td>\n",
       "      <td>4</td>\n",
       "      <td>K</td>\n",
       "      <td>4</td>\n",
       "    </tr>\n",
       "    <tr>\n",
       "      <th>2</th>\n",
       "      <td>3</td>\n",
       "      <td>67</td>\n",
       "      <td>Bablu</td>\n",
       "      <td>9</td>\n",
       "      <td>B</td>\n",
       "      <td>9</td>\n",
       "    </tr>\n",
       "    <tr>\n",
       "      <th>3</th>\n",
       "      <td>4</td>\n",
       "      <td>34</td>\n",
       "      <td>Jack</td>\n",
       "      <td>16</td>\n",
       "      <td>J</td>\n",
       "      <td>16</td>\n",
       "    </tr>\n",
       "    <tr>\n",
       "      <th>4</th>\n",
       "      <td>5</td>\n",
       "      <td>34</td>\n",
       "      <td>Nick</td>\n",
       "      <td>25</td>\n",
       "      <td>N</td>\n",
       "      <td>25</td>\n",
       "    </tr>\n",
       "  </tbody>\n",
       "</table>\n",
       "</div>"
      ],
      "text/plain": [
       "   col1  col2      col3  col4 col5  col4_4\n",
       "0     1    45  Abhishek     1    A       1\n",
       "1     2    56     Kumar     4    K       4\n",
       "2     3    67     Bablu     9    B       9\n",
       "3     4    34      Jack    16    J      16\n",
       "4     5    34      Nick    25    N      25"
      ]
     },
     "execution_count": 16,
     "metadata": {},
     "output_type": "execute_result"
    }
   ],
   "source": [
    "df"
   ]
  },
  {
   "cell_type": "code",
   "execution_count": 17,
   "id": "f492234a",
   "metadata": {},
   "outputs": [],
   "source": [
    "df[\"col6_6\"] = df[\"col5\"].apply(lambda a : 's' if a == 's' else 'z')"
   ]
  },
  {
   "cell_type": "code",
   "execution_count": 18,
   "id": "2393ebd3",
   "metadata": {},
   "outputs": [
    {
     "data": {
      "text/html": [
       "<div>\n",
       "<style scoped>\n",
       "    .dataframe tbody tr th:only-of-type {\n",
       "        vertical-align: middle;\n",
       "    }\n",
       "\n",
       "    .dataframe tbody tr th {\n",
       "        vertical-align: top;\n",
       "    }\n",
       "\n",
       "    .dataframe thead th {\n",
       "        text-align: right;\n",
       "    }\n",
       "</style>\n",
       "<table border=\"1\" class=\"dataframe\">\n",
       "  <thead>\n",
       "    <tr style=\"text-align: right;\">\n",
       "      <th></th>\n",
       "      <th>col1</th>\n",
       "      <th>col2</th>\n",
       "      <th>col3</th>\n",
       "      <th>col4</th>\n",
       "      <th>col5</th>\n",
       "      <th>col4_4</th>\n",
       "      <th>col6_6</th>\n",
       "    </tr>\n",
       "  </thead>\n",
       "  <tbody>\n",
       "    <tr>\n",
       "      <th>0</th>\n",
       "      <td>1</td>\n",
       "      <td>45</td>\n",
       "      <td>Abhishek</td>\n",
       "      <td>1</td>\n",
       "      <td>A</td>\n",
       "      <td>1</td>\n",
       "      <td>z</td>\n",
       "    </tr>\n",
       "    <tr>\n",
       "      <th>1</th>\n",
       "      <td>2</td>\n",
       "      <td>56</td>\n",
       "      <td>Kumar</td>\n",
       "      <td>4</td>\n",
       "      <td>K</td>\n",
       "      <td>4</td>\n",
       "      <td>z</td>\n",
       "    </tr>\n",
       "    <tr>\n",
       "      <th>2</th>\n",
       "      <td>3</td>\n",
       "      <td>67</td>\n",
       "      <td>Bablu</td>\n",
       "      <td>9</td>\n",
       "      <td>B</td>\n",
       "      <td>9</td>\n",
       "      <td>z</td>\n",
       "    </tr>\n",
       "    <tr>\n",
       "      <th>3</th>\n",
       "      <td>4</td>\n",
       "      <td>34</td>\n",
       "      <td>Jack</td>\n",
       "      <td>16</td>\n",
       "      <td>J</td>\n",
       "      <td>16</td>\n",
       "      <td>z</td>\n",
       "    </tr>\n",
       "    <tr>\n",
       "      <th>4</th>\n",
       "      <td>5</td>\n",
       "      <td>34</td>\n",
       "      <td>Nick</td>\n",
       "      <td>25</td>\n",
       "      <td>N</td>\n",
       "      <td>25</td>\n",
       "      <td>z</td>\n",
       "    </tr>\n",
       "  </tbody>\n",
       "</table>\n",
       "</div>"
      ],
      "text/plain": [
       "   col1  col2      col3  col4 col5  col4_4 col6_6\n",
       "0     1    45  Abhishek     1    A       1      z\n",
       "1     2    56     Kumar     4    K       4      z\n",
       "2     3    67     Bablu     9    B       9      z\n",
       "3     4    34      Jack    16    J      16      z\n",
       "4     5    34      Nick    25    N      25      z"
      ]
     },
     "execution_count": 18,
     "metadata": {},
     "output_type": "execute_result"
    }
   ],
   "source": [
    "df"
   ]
  },
  {
   "cell_type": "code",
   "execution_count": 19,
   "id": "eec40df5",
   "metadata": {},
   "outputs": [],
   "source": [
    "df['col7'] = df['col3'].apply(len)"
   ]
  },
  {
   "cell_type": "code",
   "execution_count": 20,
   "id": "679f6b12",
   "metadata": {},
   "outputs": [
    {
     "data": {
      "text/html": [
       "<div>\n",
       "<style scoped>\n",
       "    .dataframe tbody tr th:only-of-type {\n",
       "        vertical-align: middle;\n",
       "    }\n",
       "\n",
       "    .dataframe tbody tr th {\n",
       "        vertical-align: top;\n",
       "    }\n",
       "\n",
       "    .dataframe thead th {\n",
       "        text-align: right;\n",
       "    }\n",
       "</style>\n",
       "<table border=\"1\" class=\"dataframe\">\n",
       "  <thead>\n",
       "    <tr style=\"text-align: right;\">\n",
       "      <th></th>\n",
       "      <th>col1</th>\n",
       "      <th>col2</th>\n",
       "      <th>col3</th>\n",
       "      <th>col4</th>\n",
       "      <th>col5</th>\n",
       "      <th>col4_4</th>\n",
       "      <th>col6_6</th>\n",
       "      <th>col7</th>\n",
       "    </tr>\n",
       "  </thead>\n",
       "  <tbody>\n",
       "    <tr>\n",
       "      <th>0</th>\n",
       "      <td>1</td>\n",
       "      <td>45</td>\n",
       "      <td>Abhishek</td>\n",
       "      <td>1</td>\n",
       "      <td>A</td>\n",
       "      <td>1</td>\n",
       "      <td>z</td>\n",
       "      <td>8</td>\n",
       "    </tr>\n",
       "    <tr>\n",
       "      <th>1</th>\n",
       "      <td>2</td>\n",
       "      <td>56</td>\n",
       "      <td>Kumar</td>\n",
       "      <td>4</td>\n",
       "      <td>K</td>\n",
       "      <td>4</td>\n",
       "      <td>z</td>\n",
       "      <td>5</td>\n",
       "    </tr>\n",
       "    <tr>\n",
       "      <th>2</th>\n",
       "      <td>3</td>\n",
       "      <td>67</td>\n",
       "      <td>Bablu</td>\n",
       "      <td>9</td>\n",
       "      <td>B</td>\n",
       "      <td>9</td>\n",
       "      <td>z</td>\n",
       "      <td>5</td>\n",
       "    </tr>\n",
       "    <tr>\n",
       "      <th>3</th>\n",
       "      <td>4</td>\n",
       "      <td>34</td>\n",
       "      <td>Jack</td>\n",
       "      <td>16</td>\n",
       "      <td>J</td>\n",
       "      <td>16</td>\n",
       "      <td>z</td>\n",
       "      <td>4</td>\n",
       "    </tr>\n",
       "    <tr>\n",
       "      <th>4</th>\n",
       "      <td>5</td>\n",
       "      <td>34</td>\n",
       "      <td>Nick</td>\n",
       "      <td>25</td>\n",
       "      <td>N</td>\n",
       "      <td>25</td>\n",
       "      <td>z</td>\n",
       "      <td>4</td>\n",
       "    </tr>\n",
       "  </tbody>\n",
       "</table>\n",
       "</div>"
      ],
      "text/plain": [
       "   col1  col2      col3  col4 col5  col4_4 col6_6  col7\n",
       "0     1    45  Abhishek     1    A       1      z     8\n",
       "1     2    56     Kumar     4    K       4      z     5\n",
       "2     3    67     Bablu     9    B       9      z     5\n",
       "3     4    34      Jack    16    J      16      z     4\n",
       "4     5    34      Nick    25    N      25      z     4"
      ]
     },
     "execution_count": 20,
     "metadata": {},
     "output_type": "execute_result"
    }
   ],
   "source": [
    "df"
   ]
  },
  {
   "cell_type": "code",
   "execution_count": 22,
   "id": "11b3bfa7",
   "metadata": {},
   "outputs": [],
   "source": [
    "import math"
   ]
  },
  {
   "cell_type": "code",
   "execution_count": 24,
   "id": "ee7ad5aa",
   "metadata": {},
   "outputs": [],
   "source": [
    "df['col8'] = df['col2'].apply(math.log)"
   ]
  },
  {
   "cell_type": "code",
   "execution_count": 25,
   "id": "90c9cba8",
   "metadata": {},
   "outputs": [
    {
     "data": {
      "text/html": [
       "<div>\n",
       "<style scoped>\n",
       "    .dataframe tbody tr th:only-of-type {\n",
       "        vertical-align: middle;\n",
       "    }\n",
       "\n",
       "    .dataframe tbody tr th {\n",
       "        vertical-align: top;\n",
       "    }\n",
       "\n",
       "    .dataframe thead th {\n",
       "        text-align: right;\n",
       "    }\n",
       "</style>\n",
       "<table border=\"1\" class=\"dataframe\">\n",
       "  <thead>\n",
       "    <tr style=\"text-align: right;\">\n",
       "      <th></th>\n",
       "      <th>col1</th>\n",
       "      <th>col2</th>\n",
       "      <th>col3</th>\n",
       "      <th>col4</th>\n",
       "      <th>col5</th>\n",
       "      <th>col4_4</th>\n",
       "      <th>col6_6</th>\n",
       "      <th>col7</th>\n",
       "      <th>col8</th>\n",
       "    </tr>\n",
       "  </thead>\n",
       "  <tbody>\n",
       "    <tr>\n",
       "      <th>0</th>\n",
       "      <td>1</td>\n",
       "      <td>45</td>\n",
       "      <td>Abhishek</td>\n",
       "      <td>1</td>\n",
       "      <td>A</td>\n",
       "      <td>1</td>\n",
       "      <td>z</td>\n",
       "      <td>8</td>\n",
       "      <td>3.806662</td>\n",
       "    </tr>\n",
       "    <tr>\n",
       "      <th>1</th>\n",
       "      <td>2</td>\n",
       "      <td>56</td>\n",
       "      <td>Kumar</td>\n",
       "      <td>4</td>\n",
       "      <td>K</td>\n",
       "      <td>4</td>\n",
       "      <td>z</td>\n",
       "      <td>5</td>\n",
       "      <td>4.025352</td>\n",
       "    </tr>\n",
       "    <tr>\n",
       "      <th>2</th>\n",
       "      <td>3</td>\n",
       "      <td>67</td>\n",
       "      <td>Bablu</td>\n",
       "      <td>9</td>\n",
       "      <td>B</td>\n",
       "      <td>9</td>\n",
       "      <td>z</td>\n",
       "      <td>5</td>\n",
       "      <td>4.204693</td>\n",
       "    </tr>\n",
       "    <tr>\n",
       "      <th>3</th>\n",
       "      <td>4</td>\n",
       "      <td>34</td>\n",
       "      <td>Jack</td>\n",
       "      <td>16</td>\n",
       "      <td>J</td>\n",
       "      <td>16</td>\n",
       "      <td>z</td>\n",
       "      <td>4</td>\n",
       "      <td>3.526361</td>\n",
       "    </tr>\n",
       "    <tr>\n",
       "      <th>4</th>\n",
       "      <td>5</td>\n",
       "      <td>34</td>\n",
       "      <td>Nick</td>\n",
       "      <td>25</td>\n",
       "      <td>N</td>\n",
       "      <td>25</td>\n",
       "      <td>z</td>\n",
       "      <td>4</td>\n",
       "      <td>3.526361</td>\n",
       "    </tr>\n",
       "  </tbody>\n",
       "</table>\n",
       "</div>"
      ],
      "text/plain": [
       "   col1  col2      col3  col4 col5  col4_4 col6_6  col7      col8\n",
       "0     1    45  Abhishek     1    A       1      z     8  3.806662\n",
       "1     2    56     Kumar     4    K       4      z     5  4.025352\n",
       "2     3    67     Bablu     9    B       9      z     5  4.204693\n",
       "3     4    34      Jack    16    J      16      z     4  3.526361\n",
       "4     5    34      Nick    25    N      25      z     4  3.526361"
      ]
     },
     "execution_count": 25,
     "metadata": {},
     "output_type": "execute_result"
    }
   ],
   "source": [
    "df"
   ]
  },
  {
   "cell_type": "code",
   "execution_count": 26,
   "id": "099198d2",
   "metadata": {},
   "outputs": [],
   "source": [
    "df[\"col_9\"] = [i**2 for i in df.col8]"
   ]
  },
  {
   "cell_type": "code",
   "execution_count": 27,
   "id": "d1249c71",
   "metadata": {},
   "outputs": [
    {
     "data": {
      "text/html": [
       "<div>\n",
       "<style scoped>\n",
       "    .dataframe tbody tr th:only-of-type {\n",
       "        vertical-align: middle;\n",
       "    }\n",
       "\n",
       "    .dataframe tbody tr th {\n",
       "        vertical-align: top;\n",
       "    }\n",
       "\n",
       "    .dataframe thead th {\n",
       "        text-align: right;\n",
       "    }\n",
       "</style>\n",
       "<table border=\"1\" class=\"dataframe\">\n",
       "  <thead>\n",
       "    <tr style=\"text-align: right;\">\n",
       "      <th></th>\n",
       "      <th>col1</th>\n",
       "      <th>col2</th>\n",
       "      <th>col3</th>\n",
       "      <th>col4</th>\n",
       "      <th>col5</th>\n",
       "      <th>col4_4</th>\n",
       "      <th>col6_6</th>\n",
       "      <th>col7</th>\n",
       "      <th>col8</th>\n",
       "      <th>col_9</th>\n",
       "    </tr>\n",
       "  </thead>\n",
       "  <tbody>\n",
       "    <tr>\n",
       "      <th>0</th>\n",
       "      <td>1</td>\n",
       "      <td>45</td>\n",
       "      <td>Abhishek</td>\n",
       "      <td>1</td>\n",
       "      <td>A</td>\n",
       "      <td>1</td>\n",
       "      <td>z</td>\n",
       "      <td>8</td>\n",
       "      <td>3.806662</td>\n",
       "      <td>14.490679</td>\n",
       "    </tr>\n",
       "    <tr>\n",
       "      <th>1</th>\n",
       "      <td>2</td>\n",
       "      <td>56</td>\n",
       "      <td>Kumar</td>\n",
       "      <td>4</td>\n",
       "      <td>K</td>\n",
       "      <td>4</td>\n",
       "      <td>z</td>\n",
       "      <td>5</td>\n",
       "      <td>4.025352</td>\n",
       "      <td>16.203456</td>\n",
       "    </tr>\n",
       "    <tr>\n",
       "      <th>2</th>\n",
       "      <td>3</td>\n",
       "      <td>67</td>\n",
       "      <td>Bablu</td>\n",
       "      <td>9</td>\n",
       "      <td>B</td>\n",
       "      <td>9</td>\n",
       "      <td>z</td>\n",
       "      <td>5</td>\n",
       "      <td>4.204693</td>\n",
       "      <td>17.679440</td>\n",
       "    </tr>\n",
       "    <tr>\n",
       "      <th>3</th>\n",
       "      <td>4</td>\n",
       "      <td>34</td>\n",
       "      <td>Jack</td>\n",
       "      <td>16</td>\n",
       "      <td>J</td>\n",
       "      <td>16</td>\n",
       "      <td>z</td>\n",
       "      <td>4</td>\n",
       "      <td>3.526361</td>\n",
       "      <td>12.435219</td>\n",
       "    </tr>\n",
       "    <tr>\n",
       "      <th>4</th>\n",
       "      <td>5</td>\n",
       "      <td>34</td>\n",
       "      <td>Nick</td>\n",
       "      <td>25</td>\n",
       "      <td>N</td>\n",
       "      <td>25</td>\n",
       "      <td>z</td>\n",
       "      <td>4</td>\n",
       "      <td>3.526361</td>\n",
       "      <td>12.435219</td>\n",
       "    </tr>\n",
       "  </tbody>\n",
       "</table>\n",
       "</div>"
      ],
      "text/plain": [
       "   col1  col2      col3  col4 col5  col4_4 col6_6  col7      col8      col_9\n",
       "0     1    45  Abhishek     1    A       1      z     8  3.806662  14.490679\n",
       "1     2    56     Kumar     4    K       4      z     5  4.025352  16.203456\n",
       "2     3    67     Bablu     9    B       9      z     5  4.204693  17.679440\n",
       "3     4    34      Jack    16    J      16      z     4  3.526361  12.435219\n",
       "4     5    34      Nick    25    N      25      z     4  3.526361  12.435219"
      ]
     },
     "execution_count": 27,
     "metadata": {},
     "output_type": "execute_result"
    }
   ],
   "source": [
    "df"
   ]
  },
  {
   "cell_type": "code",
   "execution_count": 29,
   "id": "2c4f9769",
   "metadata": {},
   "outputs": [],
   "source": [
    "df[\"col_10\"] = list(map(lambda a : a**2, df.col8))"
   ]
  },
  {
   "cell_type": "code",
   "execution_count": 30,
   "id": "799a61c9",
   "metadata": {},
   "outputs": [
    {
     "data": {
      "text/html": [
       "<div>\n",
       "<style scoped>\n",
       "    .dataframe tbody tr th:only-of-type {\n",
       "        vertical-align: middle;\n",
       "    }\n",
       "\n",
       "    .dataframe tbody tr th {\n",
       "        vertical-align: top;\n",
       "    }\n",
       "\n",
       "    .dataframe thead th {\n",
       "        text-align: right;\n",
       "    }\n",
       "</style>\n",
       "<table border=\"1\" class=\"dataframe\">\n",
       "  <thead>\n",
       "    <tr style=\"text-align: right;\">\n",
       "      <th></th>\n",
       "      <th>col1</th>\n",
       "      <th>col2</th>\n",
       "      <th>col3</th>\n",
       "      <th>col4</th>\n",
       "      <th>col5</th>\n",
       "      <th>col4_4</th>\n",
       "      <th>col6_6</th>\n",
       "      <th>col7</th>\n",
       "      <th>col8</th>\n",
       "      <th>col_9</th>\n",
       "      <th>col_10</th>\n",
       "    </tr>\n",
       "  </thead>\n",
       "  <tbody>\n",
       "    <tr>\n",
       "      <th>0</th>\n",
       "      <td>1</td>\n",
       "      <td>45</td>\n",
       "      <td>Abhishek</td>\n",
       "      <td>1</td>\n",
       "      <td>A</td>\n",
       "      <td>1</td>\n",
       "      <td>z</td>\n",
       "      <td>8</td>\n",
       "      <td>3.806662</td>\n",
       "      <td>14.490679</td>\n",
       "      <td>14.490679</td>\n",
       "    </tr>\n",
       "    <tr>\n",
       "      <th>1</th>\n",
       "      <td>2</td>\n",
       "      <td>56</td>\n",
       "      <td>Kumar</td>\n",
       "      <td>4</td>\n",
       "      <td>K</td>\n",
       "      <td>4</td>\n",
       "      <td>z</td>\n",
       "      <td>5</td>\n",
       "      <td>4.025352</td>\n",
       "      <td>16.203456</td>\n",
       "      <td>16.203456</td>\n",
       "    </tr>\n",
       "    <tr>\n",
       "      <th>2</th>\n",
       "      <td>3</td>\n",
       "      <td>67</td>\n",
       "      <td>Bablu</td>\n",
       "      <td>9</td>\n",
       "      <td>B</td>\n",
       "      <td>9</td>\n",
       "      <td>z</td>\n",
       "      <td>5</td>\n",
       "      <td>4.204693</td>\n",
       "      <td>17.679440</td>\n",
       "      <td>17.679440</td>\n",
       "    </tr>\n",
       "    <tr>\n",
       "      <th>3</th>\n",
       "      <td>4</td>\n",
       "      <td>34</td>\n",
       "      <td>Jack</td>\n",
       "      <td>16</td>\n",
       "      <td>J</td>\n",
       "      <td>16</td>\n",
       "      <td>z</td>\n",
       "      <td>4</td>\n",
       "      <td>3.526361</td>\n",
       "      <td>12.435219</td>\n",
       "      <td>12.435219</td>\n",
       "    </tr>\n",
       "    <tr>\n",
       "      <th>4</th>\n",
       "      <td>5</td>\n",
       "      <td>34</td>\n",
       "      <td>Nick</td>\n",
       "      <td>25</td>\n",
       "      <td>N</td>\n",
       "      <td>25</td>\n",
       "      <td>z</td>\n",
       "      <td>4</td>\n",
       "      <td>3.526361</td>\n",
       "      <td>12.435219</td>\n",
       "      <td>12.435219</td>\n",
       "    </tr>\n",
       "  </tbody>\n",
       "</table>\n",
       "</div>"
      ],
      "text/plain": [
       "   col1  col2      col3  col4 col5  col4_4 col6_6  col7      col8      col_9  \\\n",
       "0     1    45  Abhishek     1    A       1      z     8  3.806662  14.490679   \n",
       "1     2    56     Kumar     4    K       4      z     5  4.025352  16.203456   \n",
       "2     3    67     Bablu     9    B       9      z     5  4.204693  17.679440   \n",
       "3     4    34      Jack    16    J      16      z     4  3.526361  12.435219   \n",
       "4     5    34      Nick    25    N      25      z     4  3.526361  12.435219   \n",
       "\n",
       "      col_10  \n",
       "0  14.490679  \n",
       "1  16.203456  \n",
       "2  17.679440  \n",
       "3  12.435219  \n",
       "4  12.435219  "
      ]
     },
     "execution_count": 30,
     "metadata": {},
     "output_type": "execute_result"
    }
   ],
   "source": [
    "df"
   ]
  },
  {
   "cell_type": "code",
   "execution_count": 31,
   "id": "06575ba8",
   "metadata": {},
   "outputs": [],
   "source": [
    "import numpy as np"
   ]
  },
  {
   "cell_type": "code",
   "execution_count": 32,
   "id": "c4ea3db7",
   "metadata": {},
   "outputs": [],
   "source": [
    "l = [\"Abhi\", 1,2,3,4]"
   ]
  },
  {
   "cell_type": "code",
   "execution_count": 34,
   "id": "ec0c54b6",
   "metadata": {},
   "outputs": [
    {
     "data": {
      "text/plain": [
       "numpy.ndarray"
      ]
     },
     "execution_count": 34,
     "metadata": {},
     "output_type": "execute_result"
    }
   ],
   "source": [
    "type(np.array(l))"
   ]
  },
  {
   "cell_type": "code",
   "execution_count": 36,
   "id": "b8c99dde",
   "metadata": {},
   "outputs": [
    {
     "data": {
      "text/plain": [
       "array([3., 4., 5., 6., 3.])"
      ]
     },
     "execution_count": 36,
     "metadata": {},
     "output_type": "execute_result"
    }
   ],
   "source": [
    "np.array([3,4,5,6,3.0])"
   ]
  },
  {
   "cell_type": "code",
   "execution_count": 39,
   "id": "e24e2e44",
   "metadata": {},
   "outputs": [],
   "source": [
    "a = np.array([[1,2], [3,4]])"
   ]
  },
  {
   "cell_type": "code",
   "execution_count": 40,
   "id": "01f640eb",
   "metadata": {},
   "outputs": [
    {
     "data": {
      "text/plain": [
       "array([[1, 2],\n",
       "       [3, 4]])"
      ]
     },
     "execution_count": 40,
     "metadata": {},
     "output_type": "execute_result"
    }
   ],
   "source": [
    "a"
   ]
  },
  {
   "cell_type": "code",
   "execution_count": 41,
   "id": "472c427c",
   "metadata": {},
   "outputs": [
    {
     "data": {
      "text/plain": [
       "4"
      ]
     },
     "execution_count": 41,
     "metadata": {},
     "output_type": "execute_result"
    }
   ],
   "source": [
    "a[1][1]"
   ]
  },
  {
   "cell_type": "code",
   "execution_count": 44,
   "id": "9aa5e897",
   "metadata": {},
   "outputs": [],
   "source": [
    "a = np.array([1,2,3,4], ndmin = 4)"
   ]
  },
  {
   "cell_type": "code",
   "execution_count": 48,
   "id": "99107bc8",
   "metadata": {},
   "outputs": [
    {
     "data": {
      "text/plain": [
       "1"
      ]
     },
     "execution_count": 48,
     "metadata": {},
     "output_type": "execute_result"
    }
   ],
   "source": [
    "a[0][0][0][0]"
   ]
  },
  {
   "cell_type": "code",
   "execution_count": 49,
   "id": "b1fe0c4e",
   "metadata": {},
   "outputs": [
    {
     "data": {
      "text/plain": [
       "array([1, 2, 3, 4, 5])"
      ]
     },
     "execution_count": 49,
     "metadata": {},
     "output_type": "execute_result"
    }
   ],
   "source": [
    "np.asanyarray([1,2,3,4,5])"
   ]
  },
  {
   "cell_type": "code",
   "execution_count": 50,
   "id": "134de1d4",
   "metadata": {},
   "outputs": [
    {
     "data": {
      "text/plain": [
       "matrix([[1, 2, 3, 4]])"
      ]
     },
     "execution_count": 50,
     "metadata": {},
     "output_type": "execute_result"
    }
   ],
   "source": [
    "np.mat([1,2,3,4])"
   ]
  },
  {
   "cell_type": "code",
   "execution_count": 51,
   "id": "c3557777",
   "metadata": {},
   "outputs": [
    {
     "data": {
      "text/plain": [
       "matrix([[1, 2, 3, 4]])"
      ]
     },
     "execution_count": 51,
     "metadata": {},
     "output_type": "execute_result"
    }
   ],
   "source": [
    "np.asanyarray(np.mat(a))"
   ]
  },
  {
   "cell_type": "code",
   "execution_count": 52,
   "id": "4027a30d",
   "metadata": {},
   "outputs": [
    {
     "data": {
      "text/plain": [
       "array([[[[1, 2, 3, 4]]]])"
      ]
     },
     "execution_count": 52,
     "metadata": {},
     "output_type": "execute_result"
    }
   ],
   "source": [
    "np.asanyarray(a)"
   ]
  },
  {
   "cell_type": "code",
   "execution_count": 53,
   "id": "714d313c",
   "metadata": {},
   "outputs": [
    {
     "data": {
      "text/plain": [
       "array([[ True, False, False],\n",
       "       [False,  True, False],\n",
       "       [False, False,  True]])"
      ]
     },
     "execution_count": 53,
     "metadata": {},
     "output_type": "execute_result"
    }
   ],
   "source": [
    "np.fromfunction(lambda i, j : i ==j, (3,3))"
   ]
  },
  {
   "cell_type": "code",
   "execution_count": 59,
   "id": "3b5cab42",
   "metadata": {},
   "outputs": [
    {
     "data": {
      "text/plain": [
       "array([[[0, 0],\n",
       "        [0, 0],\n",
       "        [0, 0]],\n",
       "\n",
       "       [[0, 0],\n",
       "        [0, 1],\n",
       "        [0, 2]],\n",
       "\n",
       "       [[0, 0],\n",
       "        [0, 2],\n",
       "        [0, 4]]])"
      ]
     },
     "execution_count": 59,
     "metadata": {},
     "output_type": "execute_result"
    }
   ],
   "source": [
    "(np.fromfunction(lambda i, j, z : i*j*z, (3,3,2), dtype = int))"
   ]
  },
  {
   "cell_type": "code",
   "execution_count": 60,
   "id": "1121a565",
   "metadata": {},
   "outputs": [
    {
     "data": {
      "text/plain": [
       "array([[[[ 0,  0],\n",
       "         [ 0,  0],\n",
       "         [ 0,  0]],\n",
       "\n",
       "        [[ 0,  0],\n",
       "         [ 0,  0],\n",
       "         [ 0,  0]],\n",
       "\n",
       "        [[ 0,  0],\n",
       "         [ 0,  0],\n",
       "         [ 0,  0]]],\n",
       "\n",
       "\n",
       "       [[[ 0,  0],\n",
       "         [ 0,  0],\n",
       "         [ 0,  0]],\n",
       "\n",
       "        [[ 0,  0],\n",
       "         [ 0,  1],\n",
       "         [ 0,  2]],\n",
       "\n",
       "        [[ 0,  0],\n",
       "         [ 0,  2],\n",
       "         [ 0,  4]]],\n",
       "\n",
       "\n",
       "       [[[ 0,  0],\n",
       "         [ 0,  0],\n",
       "         [ 0,  0]],\n",
       "\n",
       "        [[ 0,  0],\n",
       "         [ 0,  2],\n",
       "         [ 0,  4]],\n",
       "\n",
       "        [[ 0,  0],\n",
       "         [ 0,  4],\n",
       "         [ 0,  8]]],\n",
       "\n",
       "\n",
       "       [[[ 0,  0],\n",
       "         [ 0,  0],\n",
       "         [ 0,  0]],\n",
       "\n",
       "        [[ 0,  0],\n",
       "         [ 0,  3],\n",
       "         [ 0,  6]],\n",
       "\n",
       "        [[ 0,  0],\n",
       "         [ 0,  6],\n",
       "         [ 0, 12]]]])"
      ]
     },
     "execution_count": 60,
     "metadata": {},
     "output_type": "execute_result"
    }
   ],
   "source": [
    "np.fromfunction(lambda i, j, z, p : i*j*z*p, (4,3,3,2), dtype = int)"
   ]
  },
  {
   "cell_type": "code",
   "execution_count": 76,
   "id": "797a4745",
   "metadata": {},
   "outputs": [],
   "source": [
    "a = np.fromfunction(lambda i, j, z : i*j*z, (4,3,2), dtype = int)"
   ]
  },
  {
   "cell_type": "code",
   "execution_count": 77,
   "id": "ab9469fc",
   "metadata": {},
   "outputs": [
    {
     "data": {
      "text/plain": [
       "array([[0, 0, 0, 0, 0, 0, 0, 0],\n",
       "       [0, 1, 0, 2, 0, 0, 0, 2],\n",
       "       [0, 4, 0, 0, 0, 3, 0, 6]])"
      ]
     },
     "execution_count": 77,
     "metadata": {},
     "output_type": "execute_result"
    }
   ],
   "source": [
    "a.reshape(3,8)"
   ]
  },
  {
   "cell_type": "code",
   "execution_count": 82,
   "id": "5f407ff2",
   "metadata": {},
   "outputs": [
    {
     "data": {
      "text/plain": [
       "array([[0, 0, 0, 0, 0, 0, 0, 0],\n",
       "       [0, 1, 0, 2, 0, 0, 0, 2],\n",
       "       [0, 4, 0, 0, 0, 3, 0, 6]])"
      ]
     },
     "execution_count": 82,
     "metadata": {},
     "output_type": "execute_result"
    }
   ],
   "source": [
    "a.reshape(3,-1)"
   ]
  },
  {
   "cell_type": "code",
   "execution_count": 64,
   "id": "c7035c26",
   "metadata": {},
   "outputs": [
    {
     "data": {
      "text/plain": [
       "3"
      ]
     },
     "execution_count": 64,
     "metadata": {},
     "output_type": "execute_result"
    }
   ],
   "source": [
    "a.ndim"
   ]
  },
  {
   "cell_type": "code",
   "execution_count": 65,
   "id": "c5acdafe",
   "metadata": {},
   "outputs": [
    {
     "data": {
      "text/plain": [
       "24"
      ]
     },
     "execution_count": 65,
     "metadata": {},
     "output_type": "execute_result"
    }
   ],
   "source": [
    "a.size"
   ]
  },
  {
   "cell_type": "code",
   "execution_count": 66,
   "id": "486b4b19",
   "metadata": {},
   "outputs": [
    {
     "data": {
      "text/plain": [
       "(4, 3, 2)"
      ]
     },
     "execution_count": 66,
     "metadata": {},
     "output_type": "execute_result"
    }
   ],
   "source": [
    "a.shape"
   ]
  },
  {
   "cell_type": "code",
   "execution_count": 67,
   "id": "2687ecec",
   "metadata": {},
   "outputs": [
    {
     "data": {
      "text/plain": [
       "dtype('int32')"
      ]
     },
     "execution_count": 67,
     "metadata": {},
     "output_type": "execute_result"
    }
   ],
   "source": [
    "a.dtype\n"
   ]
  },
  {
   "cell_type": "code",
   "execution_count": 69,
   "id": "a51ce913",
   "metadata": {},
   "outputs": [],
   "source": [
    "a = np.fromfunction(lambda i, j : i*j, (4,3), dtype = int)"
   ]
  },
  {
   "cell_type": "code",
   "execution_count": 70,
   "id": "3a4355ba",
   "metadata": {},
   "outputs": [
    {
     "data": {
      "text/html": [
       "<div>\n",
       "<style scoped>\n",
       "    .dataframe tbody tr th:only-of-type {\n",
       "        vertical-align: middle;\n",
       "    }\n",
       "\n",
       "    .dataframe tbody tr th {\n",
       "        vertical-align: top;\n",
       "    }\n",
       "\n",
       "    .dataframe thead th {\n",
       "        text-align: right;\n",
       "    }\n",
       "</style>\n",
       "<table border=\"1\" class=\"dataframe\">\n",
       "  <thead>\n",
       "    <tr style=\"text-align: right;\">\n",
       "      <th></th>\n",
       "      <th>0</th>\n",
       "      <th>1</th>\n",
       "      <th>2</th>\n",
       "    </tr>\n",
       "  </thead>\n",
       "  <tbody>\n",
       "    <tr>\n",
       "      <th>0</th>\n",
       "      <td>0</td>\n",
       "      <td>0</td>\n",
       "      <td>0</td>\n",
       "    </tr>\n",
       "    <tr>\n",
       "      <th>1</th>\n",
       "      <td>0</td>\n",
       "      <td>1</td>\n",
       "      <td>2</td>\n",
       "    </tr>\n",
       "    <tr>\n",
       "      <th>2</th>\n",
       "      <td>0</td>\n",
       "      <td>2</td>\n",
       "      <td>4</td>\n",
       "    </tr>\n",
       "    <tr>\n",
       "      <th>3</th>\n",
       "      <td>0</td>\n",
       "      <td>3</td>\n",
       "      <td>6</td>\n",
       "    </tr>\n",
       "  </tbody>\n",
       "</table>\n",
       "</div>"
      ],
      "text/plain": [
       "   0  1  2\n",
       "0  0  0  0\n",
       "1  0  1  2\n",
       "2  0  2  4\n",
       "3  0  3  6"
      ]
     },
     "execution_count": 70,
     "metadata": {},
     "output_type": "execute_result"
    }
   ],
   "source": [
    "pd.DataFrame(a)"
   ]
  },
  {
   "cell_type": "code",
   "execution_count": 71,
   "id": "a36572c6",
   "metadata": {},
   "outputs": [
    {
     "data": {
      "text/plain": [
       "array([[0.29044664, 0.6465325 , 0.59746002, 0.42808992],\n",
       "       [0.74351191, 0.83847512, 0.42554465, 0.27509966],\n",
       "       [0.73412914, 0.62100592, 0.89116919, 0.62981587],\n",
       "       [0.35600036, 0.09923121, 0.2235596 , 0.39003112],\n",
       "       [0.37523878, 0.46859895, 0.21260613, 0.49525332],\n",
       "       [0.44950145, 0.40161701, 0.88966637, 0.78549061],\n",
       "       [0.39432126, 0.56248731, 0.91613726, 0.34242886],\n",
       "       [0.10717064, 0.50442337, 0.05753632, 0.17891349],\n",
       "       [0.25498846, 0.83266539, 0.27844321, 0.63750088],\n",
       "       [0.85527415, 0.55488266, 0.68054161, 0.82370275],\n",
       "       [0.93136814, 0.55599215, 0.95120693, 0.58062121],\n",
       "       [0.34747083, 0.51806418, 0.38574016, 0.64088189],\n",
       "       [0.64915165, 0.75873777, 0.09740154, 0.64538815],\n",
       "       [0.75429615, 0.32978093, 0.97772025, 0.5894759 ],\n",
       "       [0.45629183, 0.71404687, 0.55886962, 0.26705881],\n",
       "       [0.83554623, 0.22034689, 0.05236685, 0.83880171],\n",
       "       [0.52905797, 0.08784294, 0.09012902, 0.23447412],\n",
       "       [0.92024218, 0.06521705, 0.59639062, 0.16145885],\n",
       "       [0.96280259, 0.6139857 , 0.0592268 , 0.37982284],\n",
       "       [0.87811248, 0.83279763, 0.17344071, 0.59621962],\n",
       "       [0.95014699, 0.51984031, 0.84295246, 0.34427321],\n",
       "       [0.5395534 , 0.55076831, 0.53461507, 0.42910794],\n",
       "       [0.69978293, 0.43105627, 0.39391004, 0.71244244],\n",
       "       [0.36035963, 0.4165391 , 0.73495557, 0.69261167],\n",
       "       [0.48706814, 0.84609308, 0.75259631, 0.99615926],\n",
       "       [0.54538915, 0.1901348 , 0.19792453, 0.12918273],\n",
       "       [0.58740708, 0.76249908, 0.08072627, 0.44480118],\n",
       "       [0.7320901 , 0.54799569, 0.36572125, 0.1599362 ],\n",
       "       [0.52420943, 0.39364254, 0.44530088, 0.30438303],\n",
       "       [0.57236831, 0.30537722, 0.01188953, 0.02100305],\n",
       "       [0.40220359, 0.8655617 , 0.47659357, 0.67442337],\n",
       "       [0.78832546, 0.88164683, 0.15192084, 0.79444489],\n",
       "       [0.48063519, 0.22512545, 0.3206637 , 0.64691314],\n",
       "       [0.01246588, 0.4189888 , 0.6372781 , 0.91718337],\n",
       "       [0.25391527, 0.70938638, 0.99261745, 0.95213397],\n",
       "       [0.00202236, 0.00271583, 0.39571896, 0.38842458],\n",
       "       [0.73509475, 0.5431638 , 0.58941106, 0.60797594],\n",
       "       [0.27317147, 0.39020215, 0.95401077, 0.19902463],\n",
       "       [0.84816577, 0.95352845, 0.30934154, 0.56204929],\n",
       "       [0.55615236, 0.65630679, 0.44083175, 0.24035893],\n",
       "       [0.74744511, 0.16807855, 0.28697483, 0.28097609],\n",
       "       [0.43014231, 0.58443292, 0.78797186, 0.73780596],\n",
       "       [0.82833009, 0.40275325, 0.48899345, 0.43667263],\n",
       "       [0.5907086 , 0.99828675, 0.97984457, 0.01344269],\n",
       "       [0.00104961, 0.61806276, 0.18814542, 0.57252213],\n",
       "       [0.00566536, 0.10864762, 0.12299888, 0.86356149],\n",
       "       [0.58067864, 0.70685123, 0.55073285, 0.75202491],\n",
       "       [0.09004178, 0.46489068, 0.35630163, 0.14444197],\n",
       "       [0.73766283, 0.12141981, 0.78859225, 0.2210105 ],\n",
       "       [0.27846595, 0.93502127, 0.37989225, 0.85664995],\n",
       "       [0.4260708 , 0.12608649, 0.45216511, 0.84761131],\n",
       "       [0.72334156, 0.45765754, 0.95783219, 0.28228514],\n",
       "       [0.02491567, 0.60204291, 0.7918761 , 0.60975755],\n",
       "       [0.05113505, 0.12290559, 0.40554064, 0.16918236],\n",
       "       [0.48620133, 0.82363192, 0.91003637, 0.20582286],\n",
       "       [0.71083564, 0.80374614, 0.22694955, 0.62566368],\n",
       "       [0.30764978, 0.10450777, 0.84014849, 0.29446555],\n",
       "       [0.31284977, 0.38703333, 0.25087585, 0.4644047 ],\n",
       "       [0.92360537, 0.52020736, 0.36069649, 0.24994416],\n",
       "       [0.81748603, 0.58625919, 0.08265375, 0.31641862],\n",
       "       [0.70563116, 0.62940975, 0.32558571, 0.14895038],\n",
       "       [0.00329827, 0.31050016, 0.74529742, 0.47618956],\n",
       "       [0.34362597, 0.03792359, 0.8744313 , 0.45902095],\n",
       "       [0.67000544, 0.40192117, 0.72983445, 0.64328083],\n",
       "       [0.4319315 , 0.64035012, 0.29960843, 0.27329975],\n",
       "       [0.95647272, 0.93404817, 0.1232973 , 0.08499627],\n",
       "       [0.78006804, 0.94049176, 0.67520995, 0.84686769],\n",
       "       [0.70366989, 0.72835643, 0.96928679, 0.69034281],\n",
       "       [0.45642094, 0.35539932, 0.8036179 , 0.14904409],\n",
       "       [0.13661623, 0.72712429, 0.21807682, 0.4570444 ],\n",
       "       [0.80171092, 0.95642538, 0.39914552, 0.85823707],\n",
       "       [0.32835911, 0.09718829, 0.32317963, 0.34737524],\n",
       "       [0.1936906 , 0.38815623, 0.35305638, 0.94885118],\n",
       "       [0.86072157, 0.06523194, 0.64941295, 0.93974594],\n",
       "       [0.19177314, 0.80856663, 0.49895143, 0.04994329],\n",
       "       [0.33267212, 0.24735388, 0.18170105, 0.79210328],\n",
       "       [0.57870474, 0.90723781, 0.19387232, 0.03376622],\n",
       "       [0.39928801, 0.14997413, 0.33719437, 0.32201259],\n",
       "       [0.11222538, 0.77695774, 0.85180756, 0.1553522 ],\n",
       "       [0.60172361, 0.61154222, 0.51739382, 0.29632655],\n",
       "       [0.56844592, 0.61834112, 0.26708411, 0.32726074],\n",
       "       [0.00511521, 0.46532462, 0.35603407, 0.23668205],\n",
       "       [0.16723809, 0.61762283, 0.04357518, 0.33412359],\n",
       "       [0.15288977, 0.82017609, 0.35672146, 0.65303116],\n",
       "       [0.03607597, 0.69748303, 0.14821623, 0.96657773],\n",
       "       [0.7099205 , 0.62154785, 0.48919308, 0.39678341],\n",
       "       [0.61114629, 0.75929604, 0.16379235, 0.11517838],\n",
       "       [0.3689392 , 0.79550253, 0.48589264, 0.59375043],\n",
       "       [0.54175548, 0.99531227, 0.80642429, 0.72560781],\n",
       "       [0.94338389, 0.75683885, 0.40924337, 0.06427033],\n",
       "       [0.15720202, 0.48851256, 0.95851935, 0.142495  ],\n",
       "       [0.70828982, 0.45702463, 0.81751066, 0.03260006],\n",
       "       [0.47932901, 0.46762909, 0.35873935, 0.97715476],\n",
       "       [0.27808141, 0.51924544, 0.90060218, 0.06892435],\n",
       "       [0.73695029, 0.97593603, 0.3532222 , 0.6361212 ],\n",
       "       [0.76613599, 0.91947076, 0.33409686, 0.64248546],\n",
       "       [0.78714092, 0.84305022, 0.5179016 , 0.41022265],\n",
       "       [0.39793287, 0.98098363, 0.31135208, 0.08808622],\n",
       "       [0.31245048, 0.21356103, 0.699731  , 0.93797543],\n",
       "       [0.72651356, 0.20914349, 0.34483256, 0.02569489]])"
      ]
     },
     "execution_count": 71,
     "metadata": {},
     "output_type": "execute_result"
    }
   ],
   "source": [
    "np.random.rand(100, 4)"
   ]
  },
  {
   "cell_type": "code",
   "execution_count": 73,
   "id": "9380b949",
   "metadata": {},
   "outputs": [
    {
     "data": {
      "text/plain": [
       "26"
      ]
     },
     "execution_count": 73,
     "metadata": {},
     "output_type": "execute_result"
    }
   ],
   "source": [
    "np.random.randint(4,50)"
   ]
  },
  {
   "cell_type": "code",
   "execution_count": 74,
   "id": "49981361",
   "metadata": {},
   "outputs": [
    {
     "data": {
      "text/plain": [
       "array([[-0.12062521, -0.73930471,  1.47230303, -0.20177108,  1.34977866],\n",
       "       [ 1.1984009 , -0.27337058,  1.08665872,  0.86335124,  0.34936973],\n",
       "       [ 0.10119261, -0.42562812, -0.11003527, -0.07165053,  0.7171724 ],\n",
       "       [ 0.31390027,  0.40741077,  0.11353099,  1.10784389,  0.02587471]])"
      ]
     },
     "execution_count": 74,
     "metadata": {},
     "output_type": "execute_result"
    }
   ],
   "source": [
    "np.random.randn(4,5)"
   ]
  },
  {
   "cell_type": "code",
   "execution_count": 75,
   "id": "d830854d",
   "metadata": {},
   "outputs": [
    {
     "data": {
      "text/html": [
       "<div>\n",
       "<style scoped>\n",
       "    .dataframe tbody tr th:only-of-type {\n",
       "        vertical-align: middle;\n",
       "    }\n",
       "\n",
       "    .dataframe tbody tr th {\n",
       "        vertical-align: top;\n",
       "    }\n",
       "\n",
       "    .dataframe thead th {\n",
       "        text-align: right;\n",
       "    }\n",
       "</style>\n",
       "<table border=\"1\" class=\"dataframe\">\n",
       "  <thead>\n",
       "    <tr style=\"text-align: right;\">\n",
       "      <th></th>\n",
       "      <th>0</th>\n",
       "      <th>1</th>\n",
       "      <th>2</th>\n",
       "      <th>3</th>\n",
       "      <th>4</th>\n",
       "    </tr>\n",
       "  </thead>\n",
       "  <tbody>\n",
       "    <tr>\n",
       "      <th>0</th>\n",
       "      <td>-0.950458</td>\n",
       "      <td>0.329538</td>\n",
       "      <td>-0.003609</td>\n",
       "      <td>-0.277984</td>\n",
       "      <td>-0.411856</td>\n",
       "    </tr>\n",
       "    <tr>\n",
       "      <th>1</th>\n",
       "      <td>-0.750503</td>\n",
       "      <td>0.665443</td>\n",
       "      <td>-0.637305</td>\n",
       "      <td>0.142859</td>\n",
       "      <td>-0.271625</td>\n",
       "    </tr>\n",
       "    <tr>\n",
       "      <th>2</th>\n",
       "      <td>1.421488</td>\n",
       "      <td>0.955253</td>\n",
       "      <td>0.681413</td>\n",
       "      <td>1.932530</td>\n",
       "      <td>0.149864</td>\n",
       "    </tr>\n",
       "    <tr>\n",
       "      <th>3</th>\n",
       "      <td>1.344453</td>\n",
       "      <td>-0.571256</td>\n",
       "      <td>0.429407</td>\n",
       "      <td>-0.287517</td>\n",
       "      <td>0.484030</td>\n",
       "    </tr>\n",
       "  </tbody>\n",
       "</table>\n",
       "</div>"
      ],
      "text/plain": [
       "          0         1         2         3         4\n",
       "0 -0.950458  0.329538 -0.003609 -0.277984 -0.411856\n",
       "1 -0.750503  0.665443 -0.637305  0.142859 -0.271625\n",
       "2  1.421488  0.955253  0.681413  1.932530  0.149864\n",
       "3  1.344453 -0.571256  0.429407 -0.287517  0.484030"
      ]
     },
     "execution_count": 75,
     "metadata": {},
     "output_type": "execute_result"
    }
   ],
   "source": [
    "pd.DataFrame(np.random.randn(4,5))"
   ]
  },
  {
   "cell_type": "code",
   "execution_count": 84,
   "id": "2a3763fc",
   "metadata": {},
   "outputs": [],
   "source": [
    "a1 = np.arange(4,10,.2)"
   ]
  },
  {
   "cell_type": "code",
   "execution_count": 85,
   "id": "3cf5a893",
   "metadata": {},
   "outputs": [
    {
     "data": {
      "text/plain": [
       "array([4. , 4.2, 4.4, 4.6, 4.8, 5. , 5.2, 5.4, 5.6, 5.8, 6. , 6.2, 6.4,\n",
       "       6.6, 6.8, 7. , 7.2, 7.4, 7.6, 7.8, 8. , 8.2, 8.4, 8.6, 8.8, 9. ,\n",
       "       9.2, 9.4, 9.6, 9.8])"
      ]
     },
     "execution_count": 85,
     "metadata": {},
     "output_type": "execute_result"
    }
   ],
   "source": [
    "a1"
   ]
  },
  {
   "cell_type": "code",
   "execution_count": 86,
   "id": "d0d4fc38",
   "metadata": {},
   "outputs": [
    {
     "data": {
      "text/plain": [
       "array([4.2, 4.4, 4.6])"
      ]
     },
     "execution_count": 86,
     "metadata": {},
     "output_type": "execute_result"
    }
   ],
   "source": [
    "a1[1:4]"
   ]
  },
  {
   "cell_type": "code",
   "execution_count": 88,
   "id": "22e439a7",
   "metadata": {},
   "outputs": [],
   "source": [
    "arr = np.random.rand(4, 5)"
   ]
  },
  {
   "cell_type": "code",
   "execution_count": 90,
   "id": "ba7eca19",
   "metadata": {},
   "outputs": [
    {
     "data": {
      "text/plain": [
       "array([[0.34011707, 0.76321887, 0.46959978, 0.96842855, 0.94926278],\n",
       "       [0.00578079, 0.11008426, 0.97456154, 0.25350418, 0.37955959],\n",
       "       [0.47534932, 0.93694308, 0.25583818, 0.58251287, 0.6674287 ],\n",
       "       [0.84622084, 0.07690218, 0.84918105, 0.92705247, 0.70841282]])"
      ]
     },
     "execution_count": 90,
     "metadata": {},
     "output_type": "execute_result"
    }
   ],
   "source": [
    "arr"
   ]
  },
  {
   "cell_type": "code",
   "execution_count": 91,
   "id": "92fb3714",
   "metadata": {},
   "outputs": [
    {
     "data": {
      "text/plain": [
       "array([[False,  True, False,  True,  True],\n",
       "       [False, False,  True, False, False],\n",
       "       [False,  True, False,  True,  True],\n",
       "       [ True, False,  True,  True,  True]])"
      ]
     },
     "execution_count": 91,
     "metadata": {},
     "output_type": "execute_result"
    }
   ],
   "source": [
    "arr> .5"
   ]
  },
  {
   "cell_type": "code",
   "execution_count": 93,
   "id": "1601f960",
   "metadata": {},
   "outputs": [
    {
     "data": {
      "text/plain": [
       "array([0.76321887, 0.96842855, 0.94926278, 0.97456154, 0.93694308,\n",
       "       0.58251287, 0.6674287 , 0.84622084, 0.84918105, 0.92705247,\n",
       "       0.70841282])"
      ]
     },
     "execution_count": 93,
     "metadata": {},
     "output_type": "execute_result"
    }
   ],
   "source": [
    "arr[arr > .5]"
   ]
  },
  {
   "cell_type": "code",
   "execution_count": 94,
   "id": "ec0c978c",
   "metadata": {},
   "outputs": [
    {
     "data": {
      "text/plain": [
       "array([0.97456154, 0.25583818])"
      ]
     },
     "execution_count": 94,
     "metadata": {},
     "output_type": "execute_result"
    }
   ],
   "source": [
    "arr[[1,2], [2]]"
   ]
  },
  {
   "cell_type": "code",
   "execution_count": 95,
   "id": "fcec4466",
   "metadata": {},
   "outputs": [],
   "source": [
    "arr = np.random.rand(8, 5)"
   ]
  },
  {
   "cell_type": "code",
   "execution_count": 96,
   "id": "ebf11e4a",
   "metadata": {},
   "outputs": [
    {
     "data": {
      "text/plain": [
       "array([[0.61918031, 0.87394225, 0.70802798],\n",
       "       [0.97234119, 0.04109977, 0.51181196],\n",
       "       [0.94974209, 0.23466926, 0.80707858],\n",
       "       [0.51561936, 0.30381498, 0.35259447],\n",
       "       [0.46321336, 0.20728387, 0.22678734],\n",
       "       [0.83655565, 0.46821719, 0.64324384],\n",
       "       [0.32979151, 0.57534815, 0.92997747]])"
      ]
     },
     "execution_count": 96,
     "metadata": {},
     "output_type": "execute_result"
    }
   ],
   "source": [
    "arr[1:8, [0,1,2]]"
   ]
  },
  {
   "cell_type": "code",
   "execution_count": 101,
   "id": "ec780ca5",
   "metadata": {},
   "outputs": [],
   "source": [
    "a = np.array([[1,2],[3,4]])"
   ]
  },
  {
   "cell_type": "code",
   "execution_count": 102,
   "id": "6f9a2696",
   "metadata": {},
   "outputs": [],
   "source": [
    "b = np.array([[1,5],[3,5]])"
   ]
  },
  {
   "cell_type": "code",
   "execution_count": 104,
   "id": "9556633a",
   "metadata": {},
   "outputs": [],
   "source": [
    "m = a@b"
   ]
  },
  {
   "cell_type": "code",
   "execution_count": 105,
   "id": "40411e48",
   "metadata": {},
   "outputs": [
    {
     "name": "stderr",
     "output_type": "stream",
     "text": [
      "C:\\Users\\win\\AppData\\Local\\Temp/ipykernel_15920/3791875896.py:1: RuntimeWarning: divide by zero encountered in true_divide\n",
      "  m/0\n"
     ]
    },
    {
     "data": {
      "text/plain": [
       "array([[inf, inf],\n",
       "       [inf, inf]])"
      ]
     },
     "execution_count": 105,
     "metadata": {},
     "output_type": "execute_result"
    }
   ],
   "source": [
    "m/0"
   ]
  },
  {
   "cell_type": "code",
   "execution_count": null,
   "id": "97c4752a",
   "metadata": {},
   "outputs": [],
   "source": []
  }
 ],
 "metadata": {
  "kernelspec": {
   "display_name": "Python 3 (ipykernel)",
   "language": "python",
   "name": "python3"
  },
  "language_info": {
   "codemirror_mode": {
    "name": "ipython",
    "version": 3
   },
   "file_extension": ".py",
   "mimetype": "text/x-python",
   "name": "python",
   "nbconvert_exporter": "python",
   "pygments_lexer": "ipython3",
   "version": "3.9.7"
  }
 },
 "nbformat": 4,
 "nbformat_minor": 5
}
