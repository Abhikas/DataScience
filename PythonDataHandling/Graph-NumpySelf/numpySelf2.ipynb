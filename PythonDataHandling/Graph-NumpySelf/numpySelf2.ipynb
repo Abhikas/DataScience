{
 "cells": [
  {
   "cell_type": "code",
   "execution_count": 1,
   "id": "244e61c9",
   "metadata": {},
   "outputs": [],
   "source": [
    "import numpy as np"
   ]
  },
  {
   "cell_type": "code",
   "execution_count": 2,
   "id": "bb12a6bb",
   "metadata": {},
   "outputs": [
    {
     "data": {
      "text/plain": [
       "array([0., 0., 0., 0., 0.])"
      ]
     },
     "execution_count": 2,
     "metadata": {},
     "output_type": "execute_result"
    }
   ],
   "source": [
    "np.zeros(5)"
   ]
  },
  {
   "cell_type": "code",
   "execution_count": 3,
   "id": "aa023da7",
   "metadata": {},
   "outputs": [
    {
     "data": {
      "text/plain": [
       "array([[0., 0., 0., 0.],\n",
       "       [0., 0., 0., 0.],\n",
       "       [0., 0., 0., 0.]])"
      ]
     },
     "execution_count": 3,
     "metadata": {},
     "output_type": "execute_result"
    }
   ],
   "source": [
    "np.zeros((3,4))"
   ]
  },
  {
   "cell_type": "code",
   "execution_count": 7,
   "id": "46059298",
   "metadata": {},
   "outputs": [
    {
     "data": {
      "text/plain": [
       "array([[1., 1., 1., 1.],\n",
       "       [1., 1., 1., 1.],\n",
       "       [1., 1., 1., 1.]])"
      ]
     },
     "execution_count": 7,
     "metadata": {},
     "output_type": "execute_result"
    }
   ],
   "source": [
    "np.ones((3,4))"
   ]
  },
  {
   "cell_type": "code",
   "execution_count": 9,
   "id": "74f747de",
   "metadata": {},
   "outputs": [
    {
     "data": {
      "text/plain": [
       "array([[1, 0, 0],\n",
       "       [0, 1, 0],\n",
       "       [0, 0, 1]])"
      ]
     },
     "execution_count": 9,
     "metadata": {},
     "output_type": "execute_result"
    }
   ],
   "source": [
    "np.identity(3, dtype = int)"
   ]
  },
  {
   "cell_type": "code",
   "execution_count": 10,
   "id": "8001f772",
   "metadata": {},
   "outputs": [
    {
     "data": {
      "text/plain": [
       "array([[5., 5., 5., 5.],\n",
       "       [5., 5., 5., 5.],\n",
       "       [5., 5., 5., 5.]])"
      ]
     },
     "execution_count": 10,
     "metadata": {},
     "output_type": "execute_result"
    }
   ],
   "source": [
    "np.zeros((3,4))+5"
   ]
  },
  {
   "cell_type": "code",
   "execution_count": 22,
   "id": "a7f5e5f2",
   "metadata": {},
   "outputs": [
    {
     "data": {
      "text/plain": [
       "array([[[6.79038653e-313, 6.79038653e-313],\n",
       "        [2.14321575e-312, 2.48273508e-312],\n",
       "        [2.33419537e-312, 2.31297541e-312],\n",
       "        [2.46151512e-312, 2.22809558e-312]],\n",
       "\n",
       "       [[8.48798317e-313, 2.05833592e-312],\n",
       "        [2.05833592e-312, 6.79038653e-313],\n",
       "        [2.46151512e-312, 2.37663529e-312],\n",
       "        [1.29441743e-312, 2.46151512e-312]],\n",
       "\n",
       "       [[2.37663529e-312, 9.33678149e-313],\n",
       "        [2.10077583e-312, 2.37663529e-312],\n",
       "        [1.29441743e-312, 2.05833592e-312],\n",
       "        [2.44029516e-312, 8.70018275e-313]]])"
      ]
     },
     "execution_count": 22,
     "metadata": {},
     "output_type": "execute_result"
    }
   ],
   "source": [
    "np.empty((3,4,2))"
   ]
  },
  {
   "cell_type": "code",
   "execution_count": 23,
   "id": "a9673010",
   "metadata": {},
   "outputs": [
    {
     "data": {
      "text/plain": [
       "array([2.        , 2.08163265, 2.16326531, 2.24489796, 2.32653061,\n",
       "       2.40816327, 2.48979592, 2.57142857, 2.65306122, 2.73469388,\n",
       "       2.81632653, 2.89795918, 2.97959184, 3.06122449, 3.14285714,\n",
       "       3.2244898 , 3.30612245, 3.3877551 , 3.46938776, 3.55102041,\n",
       "       3.63265306, 3.71428571, 3.79591837, 3.87755102, 3.95918367,\n",
       "       4.04081633, 4.12244898, 4.20408163, 4.28571429, 4.36734694,\n",
       "       4.44897959, 4.53061224, 4.6122449 , 4.69387755, 4.7755102 ,\n",
       "       4.85714286, 4.93877551, 5.02040816, 5.10204082, 5.18367347,\n",
       "       5.26530612, 5.34693878, 5.42857143, 5.51020408, 5.59183673,\n",
       "       5.67346939, 5.75510204, 5.83673469, 5.91836735, 6.        ])"
      ]
     },
     "execution_count": 23,
     "metadata": {},
     "output_type": "execute_result"
    }
   ],
   "source": [
    "np.linspace(2,6)"
   ]
  },
  {
   "cell_type": "code",
   "execution_count": 24,
   "id": "960078c1",
   "metadata": {},
   "outputs": [
    {
     "data": {
      "text/plain": [
       "array([2.        , 2.44444444, 2.88888889, 3.33333333, 3.77777778,\n",
       "       4.22222222, 4.66666667, 5.11111111, 5.55555556, 6.        ])"
      ]
     },
     "execution_count": 24,
     "metadata": {},
     "output_type": "execute_result"
    }
   ],
   "source": [
    "np.linspace(2,6, 10)"
   ]
  },
  {
   "cell_type": "code",
   "execution_count": 25,
   "id": "25dbd0f2",
   "metadata": {},
   "outputs": [
    {
     "data": {
      "text/plain": [
       "array([  100.        ,   166.81005372,   278.25594022,   464.15888336,\n",
       "         774.26368268,  1291.54966501,  2154.43469003,  3593.8136638 ,\n",
       "        5994.84250319, 10000.        ])"
      ]
     },
     "execution_count": 25,
     "metadata": {},
     "output_type": "execute_result"
    }
   ],
   "source": [
    "np.logspace(2,4,10, base = 10)"
   ]
  },
  {
   "cell_type": "code",
   "execution_count": 26,
   "id": "2848378d",
   "metadata": {},
   "outputs": [],
   "source": [
    "a = np.arange(4,20).reshape(4,4)"
   ]
  },
  {
   "cell_type": "code",
   "execution_count": 27,
   "id": "c0f0f9e4",
   "metadata": {},
   "outputs": [
    {
     "data": {
      "text/plain": [
       "array([[ 4,  5,  6,  7],\n",
       "       [ 8,  9, 10, 11],\n",
       "       [12, 13, 14, 15],\n",
       "       [16, 17, 18, 19]])"
      ]
     },
     "execution_count": 27,
     "metadata": {},
     "output_type": "execute_result"
    }
   ],
   "source": [
    "a"
   ]
  },
  {
   "cell_type": "code",
   "execution_count": 29,
   "id": "b82b625a",
   "metadata": {},
   "outputs": [
    {
     "data": {
      "text/plain": [
       "array([ 7, 11, 15, 19])"
      ]
     },
     "execution_count": 29,
     "metadata": {},
     "output_type": "execute_result"
    }
   ],
   "source": [
    "a.max(axis = 1)"
   ]
  },
  {
   "cell_type": "code",
   "execution_count": 30,
   "id": "a40032d0",
   "metadata": {},
   "outputs": [
    {
     "data": {
      "text/plain": [
       "array([16, 17, 18, 19])"
      ]
     },
     "execution_count": 30,
     "metadata": {},
     "output_type": "execute_result"
    }
   ],
   "source": [
    "a.max(axis = 0)"
   ]
  },
  {
   "cell_type": "code",
   "execution_count": 120,
   "id": "1f5742bc",
   "metadata": {},
   "outputs": [],
   "source": [
    "b = np.array([1000,2,3,4])"
   ]
  },
  {
   "cell_type": "code",
   "execution_count": 121,
   "id": "8ff6a009",
   "metadata": {},
   "outputs": [
    {
     "data": {
      "text/plain": [
       "array([1000,    2,    3,    4])"
      ]
     },
     "execution_count": 121,
     "metadata": {},
     "output_type": "execute_result"
    }
   ],
   "source": [
    "b"
   ]
  },
  {
   "cell_type": "code",
   "execution_count": 33,
   "id": "d3b13187",
   "metadata": {},
   "outputs": [
    {
     "data": {
      "text/plain": [
       "array([1, 2, 3, 4])"
      ]
     },
     "execution_count": 33,
     "metadata": {},
     "output_type": "execute_result"
    }
   ],
   "source": [
    "#transpose of b is same as b doesn't have second degree of freedom\n",
    "b.T"
   ]
  },
  {
   "cell_type": "code",
   "execution_count": 122,
   "id": "bf38436c",
   "metadata": {},
   "outputs": [],
   "source": [
    "x = b"
   ]
  },
  {
   "cell_type": "code",
   "execution_count": 123,
   "id": "8d816e70",
   "metadata": {},
   "outputs": [
    {
     "data": {
      "text/plain": [
       "2829728442960"
      ]
     },
     "execution_count": 123,
     "metadata": {},
     "output_type": "execute_result"
    }
   ],
   "source": [
    "id(x)"
   ]
  },
  {
   "cell_type": "code",
   "execution_count": 124,
   "id": "d6d9e268",
   "metadata": {},
   "outputs": [
    {
     "data": {
      "text/plain": [
       "2829728442960"
      ]
     },
     "execution_count": 124,
     "metadata": {},
     "output_type": "execute_result"
    }
   ],
   "source": [
    "id(b)"
   ]
  },
  {
   "cell_type": "code",
   "execution_count": 125,
   "id": "e55178ce",
   "metadata": {},
   "outputs": [
    {
     "data": {
      "text/plain": [
       "2829731209808"
      ]
     },
     "execution_count": 125,
     "metadata": {},
     "output_type": "execute_result"
    }
   ],
   "source": [
    "id(x[0])"
   ]
  },
  {
   "cell_type": "code",
   "execution_count": 128,
   "id": "33246346",
   "metadata": {},
   "outputs": [
    {
     "data": {
      "text/plain": [
       "2829731184464"
      ]
     },
     "execution_count": 128,
     "metadata": {},
     "output_type": "execute_result"
    }
   ],
   "source": [
    "id(b[0])"
   ]
  },
  {
   "cell_type": "code",
   "execution_count": 127,
   "id": "6e3ef4fb",
   "metadata": {},
   "outputs": [
    {
     "data": {
      "text/plain": [
       "True"
      ]
     },
     "execution_count": 127,
     "metadata": {},
     "output_type": "execute_result"
    }
   ],
   "source": [
    "id(x[0]) == id(b[0])"
   ]
  },
  {
   "cell_type": "code",
   "execution_count": 41,
   "id": "4473e0b9",
   "metadata": {},
   "outputs": [
    {
     "data": {
      "text/plain": [
       "True"
      ]
     },
     "execution_count": 41,
     "metadata": {},
     "output_type": "execute_result"
    }
   ],
   "source": [
    "id(x[1]) == id(b[0])"
   ]
  },
  {
   "cell_type": "code",
   "execution_count": 109,
   "id": "079fdfdc",
   "metadata": {},
   "outputs": [],
   "source": [
    "b1 = np.array([10,2,3,4])"
   ]
  },
  {
   "cell_type": "code",
   "execution_count": 110,
   "id": "c88b8283",
   "metadata": {},
   "outputs": [],
   "source": [
    "x = b1"
   ]
  },
  {
   "cell_type": "code",
   "execution_count": 111,
   "id": "c4a6968c",
   "metadata": {},
   "outputs": [
    {
     "data": {
      "text/plain": [
       "array([10,  2,  3,  4])"
      ]
     },
     "execution_count": 111,
     "metadata": {},
     "output_type": "execute_result"
    }
   ],
   "source": [
    "x\n"
   ]
  },
  {
   "cell_type": "code",
   "execution_count": 112,
   "id": "b363418b",
   "metadata": {},
   "outputs": [
    {
     "data": {
      "text/plain": [
       "2829731209264"
      ]
     },
     "execution_count": 112,
     "metadata": {},
     "output_type": "execute_result"
    }
   ],
   "source": [
    "id(x[0])"
   ]
  },
  {
   "cell_type": "code",
   "execution_count": 113,
   "id": "d1805c02",
   "metadata": {},
   "outputs": [
    {
     "data": {
      "text/plain": [
       "2829731181648"
      ]
     },
     "execution_count": 113,
     "metadata": {},
     "output_type": "execute_result"
    }
   ],
   "source": [
    "id(b1[0])"
   ]
  },
  {
   "cell_type": "code",
   "execution_count": 114,
   "id": "3592b020",
   "metadata": {},
   "outputs": [],
   "source": [
    "a = 10"
   ]
  },
  {
   "cell_type": "code",
   "execution_count": 117,
   "id": "bebf9418",
   "metadata": {},
   "outputs": [
    {
     "data": {
      "text/plain": [
       "2829608512080"
      ]
     },
     "execution_count": 117,
     "metadata": {},
     "output_type": "execute_result"
    }
   ],
   "source": [
    "id(a)"
   ]
  },
  {
   "cell_type": "code",
   "execution_count": 119,
   "id": "e98b431d",
   "metadata": {},
   "outputs": [
    {
     "data": {
      "text/plain": [
       "True"
      ]
     },
     "execution_count": 119,
     "metadata": {},
     "output_type": "execute_result"
    }
   ],
   "source": [
    "id(x[0]) == id(b1[0])"
   ]
  },
  {
   "cell_type": "code",
   "execution_count": 100,
   "id": "c14d3e10",
   "metadata": {},
   "outputs": [
    {
     "name": "stdout",
     "output_type": "stream",
     "text": [
      "2829731184240\n"
     ]
    }
   ],
   "source": [
    "print(id(x[0]))"
   ]
  },
  {
   "cell_type": "code",
   "execution_count": 101,
   "id": "360f0260",
   "metadata": {},
   "outputs": [
    {
     "name": "stdout",
     "output_type": "stream",
     "text": [
      "2829731182512\n"
     ]
    }
   ],
   "source": [
    "print(id(b1[0]))"
   ]
  },
  {
   "cell_type": "code",
   "execution_count": 99,
   "id": "16d4d53b",
   "metadata": {},
   "outputs": [
    {
     "data": {
      "text/plain": [
       "2829728443632"
      ]
     },
     "execution_count": 99,
     "metadata": {},
     "output_type": "execute_result"
    }
   ],
   "source": [
    "id(x)"
   ]
  },
  {
   "cell_type": "code",
   "execution_count": 74,
   "id": "dd063c86",
   "metadata": {},
   "outputs": [
    {
     "data": {
      "text/plain": [
       "2829728443632"
      ]
     },
     "execution_count": 74,
     "metadata": {},
     "output_type": "execute_result"
    }
   ],
   "source": [
    "id(b1)"
   ]
  },
  {
   "cell_type": "code",
   "execution_count": 86,
   "id": "d0a19c7f",
   "metadata": {},
   "outputs": [
    {
     "data": {
      "text/plain": [
       "True"
      ]
     },
     "execution_count": 86,
     "metadata": {},
     "output_type": "execute_result"
    }
   ],
   "source": [
    "id(x[0])  == id(b1[0])"
   ]
  },
  {
   "cell_type": "code",
   "execution_count": 87,
   "id": "b25322d5",
   "metadata": {},
   "outputs": [
    {
     "data": {
      "text/plain": [
       "numpy.int32"
      ]
     },
     "execution_count": 87,
     "metadata": {},
     "output_type": "execute_result"
    }
   ],
   "source": [
    "type(x[0])"
   ]
  },
  {
   "cell_type": "code",
   "execution_count": 88,
   "id": "1e56ede5",
   "metadata": {},
   "outputs": [
    {
     "data": {
      "text/plain": [
       "numpy.int32"
      ]
     },
     "execution_count": 88,
     "metadata": {},
     "output_type": "execute_result"
    }
   ],
   "source": [
    "type(b1[0])"
   ]
  },
  {
   "cell_type": "code",
   "execution_count": 89,
   "id": "d0490f6b",
   "metadata": {},
   "outputs": [
    {
     "data": {
      "text/plain": [
       "numpy.ndarray"
      ]
     },
     "execution_count": 89,
     "metadata": {},
     "output_type": "execute_result"
    }
   ],
   "source": [
    "type(b1)"
   ]
  },
  {
   "cell_type": "code",
   "execution_count": 103,
   "id": "77240439",
   "metadata": {},
   "outputs": [],
   "source": [
    "a = np.arange(27)"
   ]
  },
  {
   "cell_type": "code",
   "execution_count": 108,
   "id": "22850951",
   "metadata": {},
   "outputs": [
    {
     "data": {
      "text/plain": [
       "array([ 0,  1,  2,  3,  4,  5,  6,  7,  8,  9, 10, 11, 12, 13, 14, 15, 16,\n",
       "       17, 18, 19, 20, 21, 22, 23, 24, 25, 26])"
      ]
     },
     "execution_count": 108,
     "metadata": {},
     "output_type": "execute_result"
    }
   ],
   "source": [
    "a"
   ]
  },
  {
   "cell_type": "code",
   "execution_count": 104,
   "id": "6934922f",
   "metadata": {},
   "outputs": [],
   "source": [
    "b = a[1:5]"
   ]
  },
  {
   "cell_type": "code",
   "execution_count": 105,
   "id": "b3ad4222",
   "metadata": {},
   "outputs": [
    {
     "data": {
      "text/plain": [
       "0"
      ]
     },
     "execution_count": 105,
     "metadata": {},
     "output_type": "execute_result"
    }
   ],
   "source": [
    "a[0]"
   ]
  },
  {
   "cell_type": "code",
   "execution_count": 107,
   "id": "6b98f1e3",
   "metadata": {},
   "outputs": [
    {
     "data": {
      "text/plain": [
       "2"
      ]
     },
     "execution_count": 107,
     "metadata": {},
     "output_type": "execute_result"
    }
   ],
   "source": [
    "b[1]"
   ]
  },
  {
   "cell_type": "code",
   "execution_count": 129,
   "id": "4c9ab8ea",
   "metadata": {},
   "outputs": [],
   "source": [
    "u, v = id(x[0]), id(b1[0])"
   ]
  },
  {
   "cell_type": "code",
   "execution_count": 132,
   "id": "029c1ca8",
   "metadata": {},
   "outputs": [
    {
     "data": {
      "text/plain": [
       "2829731209584"
      ]
     },
     "execution_count": 132,
     "metadata": {},
     "output_type": "execute_result"
    }
   ],
   "source": [
    "u"
   ]
  },
  {
   "cell_type": "code",
   "execution_count": 133,
   "id": "38a1ac8c",
   "metadata": {},
   "outputs": [
    {
     "data": {
      "text/plain": [
       "2829731209584"
      ]
     },
     "execution_count": 133,
     "metadata": {},
     "output_type": "execute_result"
    }
   ],
   "source": [
    "v"
   ]
  },
  {
   "cell_type": "code",
   "execution_count": null,
   "id": "080ef8f6",
   "metadata": {},
   "outputs": [],
   "source": []
  }
 ],
 "metadata": {
  "kernelspec": {
   "display_name": "Python 3 (ipykernel)",
   "language": "python",
   "name": "python3"
  },
  "language_info": {
   "codemirror_mode": {
    "name": "ipython",
    "version": 3
   },
   "file_extension": ".py",
   "mimetype": "text/x-python",
   "name": "python",
   "nbconvert_exporter": "python",
   "pygments_lexer": "ipython3",
   "version": "3.9.7"
  }
 },
 "nbformat": 4,
 "nbformat_minor": 5
}
