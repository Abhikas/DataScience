{
 "cells": [
  {
   "cell_type": "code",
   "execution_count": 2,
   "id": "e46bcc54",
   "metadata": {},
   "outputs": [],
   "source": [
    "class car:\n",
    "    def __init__(self, body_type, engine, fuel_type):\n",
    "        self.body_type = body_type\n",
    "        self.engine = engine\n",
    "        self.fuel_type = fuel_type\n",
    "    def test(self):\n",
    "        print(\"this is my first method in  car class\")"
   ]
  },
  {
   "cell_type": "code",
   "execution_count": 3,
   "id": "281fc5d5",
   "metadata": {},
   "outputs": [],
   "source": [
    "fortune = car(\"suv\", \"bs4\", \"petrol\")"
   ]
  },
  {
   "cell_type": "code",
   "execution_count": 4,
   "id": "20dc9b71",
   "metadata": {},
   "outputs": [
    {
     "data": {
      "text/plain": [
       "'suv'"
      ]
     },
     "execution_count": 4,
     "metadata": {},
     "output_type": "execute_result"
    }
   ],
   "source": [
    "fortune.body_type"
   ]
  },
  {
   "cell_type": "code",
   "execution_count": 8,
   "id": "96f67592",
   "metadata": {},
   "outputs": [
    {
     "name": "stdout",
     "output_type": "stream",
     "text": [
      "this is my first method in  car class\n"
     ]
    }
   ],
   "source": [
    "fortune.test()"
   ]
  },
  {
   "cell_type": "code",
   "execution_count": 9,
   "id": "92724de7",
   "metadata": {},
   "outputs": [],
   "source": [
    "nexon = car(\"suv\", \"abc\", \"petrol\")"
   ]
  },
  {
   "cell_type": "code",
   "execution_count": 10,
   "id": "464add62",
   "metadata": {},
   "outputs": [],
   "source": [
    "class car:\n",
    "    def test(self):\n",
    "        print(\"this is my first method in  car class\")"
   ]
  },
  {
   "cell_type": "code",
   "execution_count": 11,
   "id": "69502289",
   "metadata": {},
   "outputs": [],
   "source": [
    "x = car()"
   ]
  },
  {
   "cell_type": "code",
   "execution_count": 12,
   "id": "bdfe8653",
   "metadata": {},
   "outputs": [
    {
     "name": "stdout",
     "output_type": "stream",
     "text": [
      "this is my first method in  car class\n"
     ]
    }
   ],
   "source": [
    "x.test()"
   ]
  },
  {
   "cell_type": "code",
   "execution_count": 29,
   "id": "2e342e33",
   "metadata": {},
   "outputs": [],
   "source": [
    "class list_parser:\n",
    "    \n",
    "    def __init__(self, l):\n",
    "        self.l = l\n",
    "    \n",
    "    def parcer(self):\n",
    "        if type(self.l) == list:\n",
    "            for i in self.l:\n",
    "                print(i)\n",
    "    def reverser_list(self):\n",
    "        if type(self.l) == list:\n",
    "            return self.l[::-1]\n",
    "            "
   ]
  },
  {
   "cell_type": "code",
   "execution_count": 30,
   "id": "3a41690c",
   "metadata": {},
   "outputs": [
    {
     "name": "stdout",
     "output_type": "stream",
     "text": [
      "1\n",
      "2\n",
      "3\n",
      "6\n",
      "4\n",
      "7\n"
     ]
    },
    {
     "data": {
      "text/plain": [
       "[7, 4, 6, 3, 2, 1]"
      ]
     },
     "execution_count": 30,
     "metadata": {},
     "output_type": "execute_result"
    }
   ],
   "source": [
    "c = list_parser([1,2,3,6,4,7])\n",
    "c.parcer()\n",
    "c.reverser_list()"
   ]
  },
  {
   "cell_type": "code",
   "execution_count": 64,
   "id": "d3cd2d89",
   "metadata": {},
   "outputs": [],
   "source": [
    "class dict_parser:\n",
    "    def __init__(self, input_dict):\n",
    "        self.input_dict = input_dict\n",
    "        \n",
    "    #1.Display the keys\n",
    "    def displayKeys(self):\n",
    "        for i in self.input_dict:\n",
    "            print(i)\n",
    "            \n",
    "     #2.Display the values       \n",
    "    def displayValues(self):\n",
    "        for i in self.input_dict.values():\n",
    "            print(i)\n",
    "            \n",
    "     #3.Throwing exception\n",
    "    def check_input(self):\n",
    "        new_inp = eval(input(\"Enter a dictionary\"))\n",
    "        if type(new_inp) != dict:\n",
    "            raise Exception(\"Pls enter dictionary\")\n",
    "            \n",
    "     #4.Key value pair of user input dictionary\n",
    "    def userinput(self):\n",
    "        self.input_dict = eval(input(\"Enter a dictionary\"))\n",
    "        print(self.displayKeys())\n",
    "        print(self.displayValues())\n",
    "        \n",
    "          \n",
    "     \n",
    "     #5.Insert key values       \n",
    "    def AddKeyValue(self, keys, values):\n",
    "        self.input_dict[keys] = values;\n",
    "        \n",
    "        \n",
    "                "
   ]
  },
  {
   "cell_type": "code",
   "execution_count": 55,
   "id": "4f204fa9",
   "metadata": {},
   "outputs": [],
   "source": [
    "dict1 = dict_parser({\"Name\": \"Abhishek\", \"Age\": 25})"
   ]
  },
  {
   "cell_type": "code",
   "execution_count": 56,
   "id": "8e72bd6e",
   "metadata": {},
   "outputs": [
    {
     "name": "stdout",
     "output_type": "stream",
     "text": [
      "Name\n",
      "Age\n",
      "Abhishek\n",
      "25\n"
     ]
    }
   ],
   "source": [
    "dict1.displayKeys()\n",
    "dict1.displayValues()\n"
   ]
  },
  {
   "cell_type": "code",
   "execution_count": 57,
   "id": "2bed953f",
   "metadata": {},
   "outputs": [
    {
     "name": "stdout",
     "output_type": "stream",
     "text": [
      "Enter a dictionary{\"1\":2}\n"
     ]
    }
   ],
   "source": [
    "dict1.check_input()"
   ]
  },
  {
   "cell_type": "code",
   "execution_count": 58,
   "id": "5a4aba9f",
   "metadata": {},
   "outputs": [
    {
     "name": "stdout",
     "output_type": "stream",
     "text": [
      "Enter a dictionary{\"1\": 345}\n",
      "1\n",
      "None\n",
      "345\n",
      "None\n"
     ]
    }
   ],
   "source": [
    "dict1.userinput()"
   ]
  },
  {
   "cell_type": "code",
   "execution_count": 59,
   "id": "ef087f29",
   "metadata": {},
   "outputs": [],
   "source": [
    "dict1.AddKeyValue(3,4)"
   ]
  },
  {
   "cell_type": "code",
   "execution_count": 63,
   "id": "b0f53a46",
   "metadata": {},
   "outputs": [
    {
     "name": "stdout",
     "output_type": "stream",
     "text": [
      "{'1': 345, 3: 4}\n"
     ]
    }
   ],
   "source": [
    "print(dict1.input_dict)"
   ]
  },
  {
   "cell_type": "code",
   "execution_count": 66,
   "id": "04af0613",
   "metadata": {},
   "outputs": [
    {
     "data": {
      "text/plain": [
       "3"
      ]
     },
     "execution_count": 66,
     "metadata": {},
     "output_type": "execute_result"
    }
   ],
   "source": [
    "d2[1]"
   ]
  },
  {
   "cell_type": "code",
   "execution_count": 82,
   "id": "f7af7a0a",
   "metadata": {},
   "outputs": [
    {
     "name": "stdout",
     "output_type": "stream",
     "text": [
      "Enter a dictionary\"fghhg\"\n"
     ]
    }
   ],
   "source": [
    "new_inp1 = eval(input(\"Enter a dictionary\"))"
   ]
  },
  {
   "cell_type": "code",
   "execution_count": 83,
   "id": "dfb3a0fe",
   "metadata": {},
   "outputs": [
    {
     "name": "stdout",
     "output_type": "stream",
     "text": [
      "<class 'str'>\n"
     ]
    }
   ],
   "source": [
    "print(type(new_inp1))"
   ]
  },
  {
   "cell_type": "code",
   "execution_count": null,
   "id": "a5c17ed5",
   "metadata": {},
   "outputs": [],
   "source": [
    "if(type(int(input(\"Enter the integer\"))))"
   ]
  }
 ],
 "metadata": {
  "kernelspec": {
   "display_name": "Python 3 (ipykernel)",
   "language": "python",
   "name": "python3"
  },
  "language_info": {
   "codemirror_mode": {
    "name": "ipython",
    "version": 3
   },
   "file_extension": ".py",
   "mimetype": "text/x-python",
   "name": "python",
   "nbconvert_exporter": "python",
   "pygments_lexer": "ipython3",
   "version": "3.9.7"
  }
 },
 "nbformat": 4,
 "nbformat_minor": 5
}
