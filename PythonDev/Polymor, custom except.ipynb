{
 "cells": [
  {
   "cell_type": "code",
   "execution_count": 19,
   "id": "719d9ebe",
   "metadata": {},
   "outputs": [],
   "source": [
    "class socialmedia:\n",
    "    def share_stories(self):\n",
    "        print(\"base class\")\n",
    "class insta(socialmedia):\n",
    "    def share_stories(self):\n",
    "        print(\"This is insta stories\")\n",
    "        \n",
    "class facebook(socialmedia):\n",
    "    def share_stories(self):\n",
    "        print(\"This is facebook stories\")"
   ]
  },
  {
   "cell_type": "code",
   "execution_count": 9,
   "id": "08cbb467",
   "metadata": {},
   "outputs": [],
   "source": [
    "def sharestories(app):\n",
    "    app.share_stories()"
   ]
  },
  {
   "cell_type": "code",
   "execution_count": 20,
   "id": "33d0301f",
   "metadata": {},
   "outputs": [],
   "source": [
    "i = insta()\n",
    "f = facebook()"
   ]
  },
  {
   "cell_type": "code",
   "execution_count": 11,
   "id": "b80f43cc",
   "metadata": {},
   "outputs": [
    {
     "name": "stdout",
     "output_type": "stream",
     "text": [
      "This is facebook stories\n"
     ]
    }
   ],
   "source": [
    "sharestories(f)"
   ]
  },
  {
   "cell_type": "code",
   "execution_count": 22,
   "id": "87f36d3b",
   "metadata": {},
   "outputs": [
    {
     "name": "stdout",
     "output_type": "stream",
     "text": [
      "This is insta stories\n"
     ]
    }
   ],
   "source": [
    "i.share_stories()"
   ]
  },
  {
   "cell_type": "code",
   "execution_count": 23,
   "id": "1842be35",
   "metadata": {},
   "outputs": [
    {
     "name": "stdout",
     "output_type": "stream",
     "text": [
      "This is facebook stories\n"
     ]
    }
   ],
   "source": [
    "f.share_stories()"
   ]
  },
  {
   "cell_type": "code",
   "execution_count": 12,
   "id": "c30491da",
   "metadata": {},
   "outputs": [],
   "source": [
    "#Custom exception\n",
    "class test(Exception):\n",
    "    def __init__(self, msg):\n",
    "        self.msg = msg"
   ]
  },
  {
   "cell_type": "code",
   "execution_count": 13,
   "id": "00bcad67",
   "metadata": {},
   "outputs": [
    {
     "name": "stdout",
     "output_type": "stream",
     "text": [
      "This is custom exception class\n"
     ]
    }
   ],
   "source": [
    "try:\n",
    "    raise(test(\"This is custom exception class\"))\n",
    "    \n",
    "except test as t:\n",
    "    print(t)"
   ]
  },
  {
   "cell_type": "code",
   "execution_count": 14,
   "id": "fb49c423",
   "metadata": {},
   "outputs": [],
   "source": [
    "t = test(\"Custom error\")"
   ]
  },
  {
   "cell_type": "code",
   "execution_count": 17,
   "id": "f8f9d956",
   "metadata": {},
   "outputs": [],
   "source": [
    "t1 = Exception()"
   ]
  },
  {
   "cell_type": "code",
   "execution_count": 18,
   "id": "045eca2d",
   "metadata": {},
   "outputs": [
    {
     "data": {
      "text/plain": [
       "()"
      ]
     },
     "execution_count": 18,
     "metadata": {},
     "output_type": "execute_result"
    }
   ],
   "source": [
    "t1.args"
   ]
  },
  {
   "cell_type": "code",
   "execution_count": 32,
   "id": "e85754f4",
   "metadata": {},
   "outputs": [],
   "source": [
    "#Static class or method \n",
    "class Batch_number:\n",
    "    batchnumber = \"ABCD\"\n",
    "    \n",
    "    def __init__(self, a, b, c):\n",
    "        self.a = a\n",
    "        self.b = b\n",
    "        self.c = c\n",
    "    @staticmethod    \n",
    "    def batch():\n",
    "        print(\"This is static method\")\n",
    "        \n",
    "    def batch1(self):\n",
    "        print(\"This is static method\")"
   ]
  },
  {
   "cell_type": "code",
   "execution_count": 33,
   "id": "316672ce",
   "metadata": {},
   "outputs": [
    {
     "name": "stdout",
     "output_type": "stream",
     "text": [
      "This is static method\n"
     ]
    }
   ],
   "source": [
    "Batch_number.batch()"
   ]
  },
  {
   "cell_type": "code",
   "execution_count": 34,
   "id": "b9e3dab7",
   "metadata": {
    "scrolled": true
   },
   "outputs": [
    {
     "ename": "TypeError",
     "evalue": "batch1() missing 1 required positional argument: 'self'",
     "output_type": "error",
     "traceback": [
      "\u001b[1;31m---------------------------------------------------------------------------\u001b[0m",
      "\u001b[1;31mTypeError\u001b[0m                                 Traceback (most recent call last)",
      "\u001b[1;32m~\\AppData\\Local\\Temp/ipykernel_18060/1380430957.py\u001b[0m in \u001b[0;36m<module>\u001b[1;34m\u001b[0m\n\u001b[1;32m----> 1\u001b[1;33m \u001b[0mBatch_number\u001b[0m\u001b[1;33m.\u001b[0m\u001b[0mbatch1\u001b[0m\u001b[1;33m(\u001b[0m\u001b[1;33m)\u001b[0m\u001b[1;33m\u001b[0m\u001b[1;33m\u001b[0m\u001b[0m\n\u001b[0m",
      "\u001b[1;31mTypeError\u001b[0m: batch1() missing 1 required positional argument: 'self'"
     ]
    }
   ],
   "source": [
    "Batch_number.batch1()"
   ]
  },
  {
   "cell_type": "code",
   "execution_count": 35,
   "id": "35e79a0a",
   "metadata": {},
   "outputs": [
    {
     "data": {
      "text/plain": [
       "'ABCD'"
      ]
     },
     "execution_count": 35,
     "metadata": {},
     "output_type": "execute_result"
    }
   ],
   "source": [
    "Batch_number.batchnumber"
   ]
  },
  {
   "cell_type": "code",
   "execution_count": 58,
   "id": "e7e66dc0",
   "metadata": {},
   "outputs": [],
   "source": [
    "class test:\n",
    "    def fun(self):\n",
    "        print(\"This is simple class\")\n",
    "        \n",
    "    def __str__(self):\n",
    "        print(\"This is simple class\")\n",
    "        \n"
   ]
  },
  {
   "cell_type": "code",
   "execution_count": 59,
   "id": "cd74ebb0",
   "metadata": {},
   "outputs": [],
   "source": [
    "t = test()"
   ]
  },
  {
   "cell_type": "code",
   "execution_count": 60,
   "id": "62dbe237",
   "metadata": {},
   "outputs": [
    {
     "name": "stdout",
     "output_type": "stream",
     "text": [
      "This is simple class\n"
     ]
    }
   ],
   "source": [
    "t.__str__()"
   ]
  },
  {
   "cell_type": "code",
   "execution_count": null,
   "id": "9e66c9e8",
   "metadata": {},
   "outputs": [],
   "source": []
  }
 ],
 "metadata": {
  "kernelspec": {
   "display_name": "Python 3 (ipykernel)",
   "language": "python",
   "name": "python3"
  },
  "language_info": {
   "codemirror_mode": {
    "name": "ipython",
    "version": 3
   },
   "file_extension": ".py",
   "mimetype": "text/x-python",
   "name": "python",
   "nbconvert_exporter": "python",
   "pygments_lexer": "ipython3",
   "version": "3.9.7"
  }
 },
 "nbformat": 4,
 "nbformat_minor": 5
}
