{
 "cells": [
  {
   "cell_type": "code",
   "execution_count": 2,
   "id": "79cfdb55",
   "metadata": {},
   "outputs": [],
   "source": [
    "import logging"
   ]
  },
  {
   "cell_type": "code",
   "execution_count": 3,
   "id": "4354ac33",
   "metadata": {},
   "outputs": [],
   "source": [
    "logging.basicConfig(filename = \"test2.log\")"
   ]
  },
  {
   "cell_type": "code",
   "execution_count": 4,
   "id": "69242857",
   "metadata": {},
   "outputs": [],
   "source": [
    "logging.info(\"this is my info log\")\n",
    "logging.warning(\"warning log\")\n",
    "logging.error(\"this is my error log\")"
   ]
  },
  {
   "cell_type": "code",
   "execution_count": 22,
   "id": "3d366677",
   "metadata": {},
   "outputs": [],
   "source": [
    "def inputasint():\n",
    "    flag = True\n",
    "    while flag:\n",
    "        try:\n",
    "            x = int(input(\"Enter the integer\"))\n",
    "            if type(x) == int:\n",
    "                flag = False\n",
    "                print(\"corectly Entered\")\n",
    "                break\n",
    "        except Exception as e:\n",
    "             print(\"Wrong Entry\")\n",
    "        "
   ]
  },
  {
   "cell_type": "code",
   "execution_count": 23,
   "id": "948f61cf",
   "metadata": {},
   "outputs": [
    {
     "name": "stdout",
     "output_type": "stream",
     "text": [
      "Enter the integerhghjj\n",
      "Wrong Entry\n",
      "Enter the integerjkhkjh\n",
      "Wrong Entry\n",
      "Enter the integer678\n",
      "corectly Entered\n"
     ]
    }
   ],
   "source": [
    "inputasint()"
   ]
  },
  {
   "cell_type": "code",
   "execution_count": 17,
   "id": "937d95b1",
   "metadata": {},
   "outputs": [
    {
     "name": "stdout",
     "output_type": "stream",
     "text": [
      "12\n"
     ]
    }
   ],
   "source": [
    "x = input()"
   ]
  },
  {
   "cell_type": "code",
   "execution_count": 18,
   "id": "6c2589b9",
   "metadata": {},
   "outputs": [
    {
     "data": {
      "text/plain": [
       "str"
      ]
     },
     "execution_count": 18,
     "metadata": {},
     "output_type": "execute_result"
    }
   ],
   "source": [
    "type(x)"
   ]
  },
  {
   "cell_type": "code",
   "execution_count": null,
   "id": "b6126743",
   "metadata": {},
   "outputs": [],
   "source": []
  }
 ],
 "metadata": {
  "kernelspec": {
   "display_name": "Python 3 (ipykernel)",
   "language": "python",
   "name": "python3"
  },
  "language_info": {
   "codemirror_mode": {
    "name": "ipython",
    "version": 3
   },
   "file_extension": ".py",
   "mimetype": "text/x-python",
   "name": "python",
   "nbconvert_exporter": "python",
   "pygments_lexer": "ipython3",
   "version": "3.9.7"
  }
 },
 "nbformat": 4,
 "nbformat_minor": 5
}
