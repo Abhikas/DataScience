{
 "cells": [
  {
   "cell_type": "code",
   "execution_count": 1,
   "id": "af9596fb",
   "metadata": {},
   "outputs": [
    {
     "data": {
      "text/plain": [
       "'C:\\\\Users\\\\win'"
      ]
     },
     "execution_count": 1,
     "metadata": {},
     "output_type": "execute_result"
    }
   ],
   "source": [
    "pwd()\n"
   ]
  },
  {
   "cell_type": "code",
   "execution_count": 2,
   "id": "8eee0990",
   "metadata": {},
   "outputs": [
    {
     "name": "stdout",
     "output_type": "stream",
     "text": [
      " Volume in drive C has no label.\n",
      " Volume Serial Number is 0CEE-C01D\n",
      "\n",
      " Directory of C:\\Users\\win\n",
      "\n",
      "22-01-2022  10:27    <DIR>          .\n",
      "22-01-2022  10:27    <DIR>          ..\n",
      "03-12-2021  01:42    <DIR>          .conda\n",
      "28-11-2021  12:21                25 .condarc\n",
      "28-11-2021  12:21    <DIR>          .continuum\n",
      "15-01-2022  15:48    <DIR>          .cufflinks\n",
      "04-05-2020  22:54    <DIR>          .idlerc\n",
      "22-01-2022  10:11    <DIR>          .ipynb_checkpoints\n",
      "02-12-2021  22:41    <DIR>          .ipython\n",
      "04-12-2021  10:12    <DIR>          .jupyter\n",
      "25-12-2021  17:13    <DIR>          .matplotlib\n",
      "07-12-2021  00:42                20 .python_history\n",
      "05-10-2020  03:27    <DIR>          3D Objects\n",
      "28-11-2021  12:16    <DIR>          anaconda3\n",
      "26-12-2021  19:42            14,257 Condition and For loop.ipynb\n",
      "05-10-2020  03:27    <DIR>          Contacts\n",
      "15-01-2022  15:55           416,199 Data Manipulation.ipynb\n",
      "14-03-2021  17:31    <DIR>          Desktop\n",
      "28-11-2021  12:16    <DIR>          Documents\n",
      "17-01-2022  00:39    <DIR>          Downloads\n",
      "17-01-2022  01:50            19,637 ExceptionHandling.ipynb\n",
      "05-10-2020  03:27    <DIR>          Favorites\n",
      "27-12-2021  01:00            19,974 for loops while loop.ipynb\n",
      "11-01-2022  11:49            30,111 Function and holiday task.ipynb\n",
      "11-01-2022  11:46            10,193 Functions.ipynb\n",
      "15-01-2022  12:24            35,648 Lambda function, file handling.ipynb\n",
      "05-10-2020  03:27    <DIR>          Links\n",
      "16-01-2022  18:46             2,760 Logging.ipynb\n",
      "22-01-2022  10:06               588 Modules.ipynb\n",
      "05-10-2020  03:27    <DIR>          Music\n",
      "15-01-2022  12:18                 0 new1.pdf\n",
      "29-03-2021  19:08    <DIR>          OneDrive\n",
      "04-01-2022  00:37         1,055,333 Pandas session 1 (1).ipynb\n",
      "04-01-2022  00:55            51,952 Pandas.ipynb\n",
      "05-10-2020  03:27    <DIR>          Pictures\n",
      "31-12-2021  18:32            55,509 practice problem python basic.ipynb\n",
      "29-12-2021  02:54            10,491 Practice.ipynb\n",
      "20-01-2022  02:39             9,328 PracticeProblem.ipynb\n",
      "18-12-2021  17:34            35,677 Python basic (3).ipynb\n",
      "22-01-2022  10:27                 0 sample.py\n",
      "05-10-2020  03:27    <DIR>          Saved Games\n",
      "14-01-2022  19:18    <DIR>          seaborn-data\n",
      "05-10-2020  03:27    <DIR>          Searches\n",
      "01-05-2020  22:44    <DIR>          source\n",
      "05-12-2021  17:49            18,616 String.ipynb\n",
      "16-01-2022  12:39               236 test.log\n",
      "15-01-2022  10:34                17 test.pdf\n",
      "15-01-2022  10:42                17 test.txt\n",
      "16-01-2022  13:01                59 test2.log\n",
      "09-01-2022  10:08    <DIR>          Tracing\n",
      "19-12-2021  01:04            30,232 Tuple.ipynb\n",
      "12-01-2022  02:12             7,493 Untitled.ipynb\n",
      "05-10-2020  03:27    <DIR>          Videos\n",
      "              26 File(s)      1,824,372 bytes\n",
      "              27 Dir(s)  91,789,869,056 bytes free\n"
     ]
    }
   ],
   "source": [
    "ls"
   ]
  },
  {
   "cell_type": "code",
   "execution_count": 1,
   "id": "3dccbf45",
   "metadata": {},
   "outputs": [],
   "source": [
    "import sample"
   ]
  },
  {
   "cell_type": "code",
   "execution_count": 2,
   "id": "a7120db7",
   "metadata": {},
   "outputs": [
    {
     "data": {
      "text/plain": [
       "7"
      ]
     },
     "execution_count": 2,
     "metadata": {},
     "output_type": "execute_result"
    }
   ],
   "source": [
    "sample.test(3,4)"
   ]
  },
  {
   "cell_type": "code",
   "execution_count": 2,
   "id": "45b825d4",
   "metadata": {},
   "outputs": [
    {
     "data": {
      "text/plain": [
       "20"
      ]
     },
     "execution_count": 2,
     "metadata": {},
     "output_type": "execute_result"
    }
   ],
   "source": [
    "sample.test1(4,5)"
   ]
  },
  {
   "cell_type": "code",
   "execution_count": 4,
   "id": "787752a1",
   "metadata": {},
   "outputs": [],
   "source": [
    "from sample import test2"
   ]
  },
  {
   "cell_type": "code",
   "execution_count": 5,
   "id": "aca32550",
   "metadata": {},
   "outputs": [
    {
     "data": {
      "text/plain": [
       "2.0"
      ]
     },
     "execution_count": 5,
     "metadata": {},
     "output_type": "execute_result"
    }
   ],
   "source": [
    "test2(4,2)"
   ]
  },
  {
   "cell_type": "code",
   "execution_count": 3,
   "id": "54949162",
   "metadata": {
    "scrolled": true
   },
   "outputs": [
    {
     "data": {
      "text/plain": [
       "['In',\n",
       " 'Out',\n",
       " '_',\n",
       " '_2',\n",
       " '__',\n",
       " '___',\n",
       " '__builtin__',\n",
       " '__builtins__',\n",
       " '__doc__',\n",
       " '__loader__',\n",
       " '__name__',\n",
       " '__package__',\n",
       " '__spec__',\n",
       " '_dh',\n",
       " '_i',\n",
       " '_i1',\n",
       " '_i2',\n",
       " '_i3',\n",
       " '_ih',\n",
       " '_ii',\n",
       " '_iii',\n",
       " '_oh',\n",
       " 'exit',\n",
       " 'get_ipython',\n",
       " 'quit',\n",
       " 'sample']"
      ]
     },
     "execution_count": 3,
     "metadata": {},
     "output_type": "execute_result"
    }
   ],
   "source": [
    "dir()"
   ]
  },
  {
   "cell_type": "code",
   "execution_count": 4,
   "id": "9337e2c5",
   "metadata": {},
   "outputs": [],
   "source": [
    "class car:\n",
    "    pass"
   ]
  },
  {
   "cell_type": "code",
   "execution_count": 14,
   "id": "47a7ff9d",
   "metadata": {},
   "outputs": [],
   "source": [
    "class car1:\n",
    "    def __init__(self, brandname, fueltype, bodytype):\n",
    "\n",
    "        self.brandname = brandname\n",
    "        self.fueltype = fueltype\n",
    "        self.bodytype = bodytype\n",
    "        \n",
    "    def desc_car(self):\n",
    "        print(self.brandname, self.fueltype, self.bodytype)\n",
    "    \n",
    "        "
   ]
  },
  {
   "cell_type": "code",
   "execution_count": 15,
   "id": "4909053d",
   "metadata": {},
   "outputs": [],
   "source": [
    "innova = car1(\"toyota\", \"petrol\", \"suv\")"
   ]
  },
  {
   "cell_type": "code",
   "execution_count": 16,
   "id": "d4ceb59e",
   "metadata": {},
   "outputs": [
    {
     "name": "stdout",
     "output_type": "stream",
     "text": [
      "toyota petrol suv\n"
     ]
    }
   ],
   "source": [
    "innova.desc_car()"
   ]
  },
  {
   "cell_type": "code",
   "execution_count": 17,
   "id": "8cda419c",
   "metadata": {},
   "outputs": [
    {
     "name": "stdout",
     "output_type": "stream",
     "text": [
      "Hello, my name is Nikhil\n"
     ]
    }
   ],
   "source": [
    "class Person:\n",
    "   \n",
    "    # init method or constructor \n",
    "    def __init__(self, name):\n",
    "        self.name = name\n",
    "   \n",
    "    # Sample Method \n",
    "    def say_hi(self):\n",
    "        print('Hello, my name is', self.name)\n",
    "   \n",
    "p = Person('Nikhil')\n",
    "p.say_hi()"
   ]
  },
  {
   "cell_type": "code",
   "execution_count": null,
   "id": "233ae8f4",
   "metadata": {},
   "outputs": [],
   "source": []
  }
 ],
 "metadata": {
  "kernelspec": {
   "display_name": "Python 3 (ipykernel)",
   "language": "python",
   "name": "python3"
  },
  "language_info": {
   "codemirror_mode": {
    "name": "ipython",
    "version": 3
   },
   "file_extension": ".py",
   "mimetype": "text/x-python",
   "name": "python",
   "nbconvert_exporter": "python",
   "pygments_lexer": "ipython3",
   "version": "3.9.7"
  }
 },
 "nbformat": 4,
 "nbformat_minor": 5
}
