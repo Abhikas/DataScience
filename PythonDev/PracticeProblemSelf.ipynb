{
 "cells": [
  {
   "cell_type": "code",
   "execution_count": null,
   "id": "995126de",
   "metadata": {},
   "outputs": [],
   "source": [
    "x = 500\n",
    "y = 1000"
   ]
  },
  {
   "cell_type": "code",
   "execution_count": null,
   "id": "3e748cbf",
   "metadata": {},
   "outputs": [],
   "source": [
    "id(x)\n"
   ]
  },
  {
   "cell_type": "code",
   "execution_count": null,
   "id": "1c5114bd",
   "metadata": {},
   "outputs": [],
   "source": [
    "id(y)"
   ]
  },
  {
   "cell_type": "code",
   "execution_count": null,
   "id": "ad3745df",
   "metadata": {},
   "outputs": [],
   "source": [
    "x, y = y,x"
   ]
  },
  {
   "cell_type": "code",
   "execution_count": null,
   "id": "b97cdd49",
   "metadata": {},
   "outputs": [],
   "source": [
    "x,y"
   ]
  },
  {
   "cell_type": "code",
   "execution_count": null,
   "id": "b6b6494b",
   "metadata": {},
   "outputs": [],
   "source": [
    "id(x)"
   ]
  },
  {
   "cell_type": "code",
   "execution_count": null,
   "id": "f2d56ca2",
   "metadata": {},
   "outputs": [],
   "source": [
    "id(y)"
   ]
  },
  {
   "cell_type": "code",
   "execution_count": null,
   "id": "091478e3",
   "metadata": {},
   "outputs": [],
   "source": [
    "import random"
   ]
  },
  {
   "cell_type": "code",
   "execution_count": null,
   "id": "7ee9c0d4",
   "metadata": {},
   "outputs": [],
   "source": [
    "random.uniform(0,1)"
   ]
  },
  {
   "cell_type": "code",
   "execution_count": null,
   "id": "49fd1b75",
   "metadata": {},
   "outputs": [],
   "source": [
    "import numpy as np"
   ]
  },
  {
   "cell_type": "code",
   "execution_count": null,
   "id": "db18c2de",
   "metadata": {},
   "outputs": [],
   "source": [
    "np.random.uniform(0,2,5)"
   ]
  },
  {
   "cell_type": "code",
   "execution_count": null,
   "id": "932cdc52",
   "metadata": {},
   "outputs": [],
   "source": [
    "max(1,2,3)"
   ]
  },
  {
   "cell_type": "code",
   "execution_count": null,
   "id": "222eb2c6",
   "metadata": {},
   "outputs": [],
   "source": [
    "max(1,2,3)"
   ]
  },
  {
   "cell_type": "code",
   "execution_count": null,
   "id": "f4bdd85d",
   "metadata": {},
   "outputs": [],
   "source": [
    "a = lambda x:\"even\" if x%2 == 0 else \"Odd\""
   ]
  },
  {
   "cell_type": "code",
   "execution_count": null,
   "id": "a4ac3647",
   "metadata": {},
   "outputs": [],
   "source": [
    "a(4)"
   ]
  },
  {
   "cell_type": "code",
   "execution_count": null,
   "id": "419dafba",
   "metadata": {},
   "outputs": [],
   "source": [
    "l = [1,2,3,4]"
   ]
  },
  {
   "cell_type": "code",
   "execution_count": null,
   "id": "7f47cf5e",
   "metadata": {},
   "outputs": [],
   "source": [
    "a = [x for x in l if x%2 == 0]"
   ]
  },
  {
   "cell_type": "code",
   "execution_count": null,
   "id": "7d82730e",
   "metadata": {},
   "outputs": [],
   "source": [
    "a"
   ]
  },
  {
   "cell_type": "code",
   "execution_count": null,
   "id": "6172c5b9",
   "metadata": {},
   "outputs": [],
   "source": [
    "a = [x*2 for x in range(1,10)]"
   ]
  },
  {
   "cell_type": "code",
   "execution_count": null,
   "id": "3df9d7b2",
   "metadata": {},
   "outputs": [],
   "source": [
    "a"
   ]
  },
  {
   "cell_type": "code",
   "execution_count": null,
   "id": "91bca825",
   "metadata": {},
   "outputs": [],
   "source": [
    "s = 'aba'"
   ]
  },
  {
   "cell_type": "code",
   "execution_count": null,
   "id": "3f2a81e9",
   "metadata": {},
   "outputs": [],
   "source": [
    "s[::-1]==s"
   ]
  },
  {
   "cell_type": "code",
   "execution_count": null,
   "id": "f69f2c34",
   "metadata": {},
   "outputs": [],
   "source": [
    "l = ['aba', '1991', 'abc']"
   ]
  },
  {
   "cell_type": "code",
   "execution_count": null,
   "id": "c47a4d7b",
   "metadata": {},
   "outputs": [],
   "source": [
    "count = 0\n",
    "for i in l:\n",
    "    if len(i) > 2 and i == i[::-1]:\n",
    "        count = count+1\n",
    "count   "
   ]
  },
  {
   "cell_type": "code",
   "execution_count": null,
   "id": "6ee4bea1",
   "metadata": {},
   "outputs": [],
   "source": [
    "count = 0\n",
    "[count+1 for i in l if len(i) > 2 and i == i[::-1]]"
   ]
  },
  {
   "cell_type": "code",
   "execution_count": null,
   "id": "04f89ded",
   "metadata": {},
   "outputs": [],
   "source": [
    "l = [1,2,3,4]\n",
    "a = list(map(lambda i : i+2, [i for i in l if i%2 == 0]))\n",
    "a"
   ]
  },
  {
   "cell_type": "code",
   "execution_count": null,
   "id": "3ac4f4eb",
   "metadata": {},
   "outputs": [],
   "source": [
    "#output: [[0,0,0,0],[0,1,2,3], [0,2,4,6],[0,3,6,9]]"
   ]
  },
  {
   "cell_type": "code",
   "execution_count": null,
   "id": "eb9bec38",
   "metadata": {},
   "outputs": [],
   "source": [
    "matrix = []\n",
    "for i in range(4):\n",
    "    temp = []\n",
    "    for j in range(4):\n",
    "        temp.append(i*j)\n",
    "    matrix.append(temp)\n",
    "matrix"
   ]
  },
  {
   "cell_type": "code",
   "execution_count": null,
   "id": "e75e8f98",
   "metadata": {},
   "outputs": [],
   "source": [
    "matrix = [[i*j for j in range(4)] for i in range(4)]"
   ]
  },
  {
   "cell_type": "code",
   "execution_count": null,
   "id": "489ceca4",
   "metadata": {},
   "outputs": [],
   "source": [
    "matrix1 = [[i*j for j in range(4)] for i in range(4)]"
   ]
  },
  {
   "cell_type": "code",
   "execution_count": null,
   "id": "16ac55a9",
   "metadata": {},
   "outputs": [],
   "source": [
    "matrix1"
   ]
  },
  {
   "cell_type": "code",
   "execution_count": null,
   "id": "a2f593c5",
   "metadata": {},
   "outputs": [],
   "source": [
    "#Output: \n",
    "#[\n",
    "#     [[0,0,0,0,0,0],[0,0,0,0,0,0],[0,0,0,0,0,0],[0,0,0,0,0,0]],\n",
    "#     [[0,0,0,0,0,0],[1,1,1,1,1,1],[2,2,2,2,2,2],[3,3,3,3,3,3]],\n",
    "#     [[0,0,0,0,0,0],[2,2,2,2,2,2],[4,4,4,4,4,4],[6,6,6,6,6,6]]\n",
    "# ]"
   ]
  },
  {
   "cell_type": "code",
   "execution_count": null,
   "id": "35ea5c39",
   "metadata": {},
   "outputs": [],
   "source": [
    "matrix2 = [[[i*j for k in range(6)] for j in range(4)] for i in range(3)]"
   ]
  },
  {
   "cell_type": "code",
   "execution_count": null,
   "id": "4682f637",
   "metadata": {},
   "outputs": [],
   "source": [
    "matrix2"
   ]
  },
  {
   "cell_type": "code",
   "execution_count": null,
   "id": "113636c2",
   "metadata": {},
   "outputs": [],
   "source": [
    "y = input()\n",
    "x = int(input())\n",
    "eval(y)"
   ]
  },
  {
   "cell_type": "code",
   "execution_count": 5,
   "id": "b8dd63e7",
   "metadata": {},
   "outputs": [
    {
     "name": "stdout",
     "output_type": "stream",
     "text": [
      "enter a integerhkjhljk\n",
      "Wrong input type\n",
      "enter a integerhjh\n",
      "Wrong input type\n",
      "enter a integer234\n",
      "Great!\n"
     ]
    }
   ],
   "source": [
    "flag = True\n",
    "while flag:\n",
    "    try:\n",
    "        x = int(input(\"enter a integer \"))\n",
    "        if type(x) == int:\n",
    "            flag = False\n",
    "            print(\"Great!\")\n",
    "    except:\n",
    "        print(\"Wrong input type\")\n",
    "        \n"
   ]
  },
  {
   "cell_type": "code",
   "execution_count": 8,
   "id": "349d3411",
   "metadata": {},
   "outputs": [
    {
     "name": "stdout",
     "output_type": "stream",
     "text": [
      "enter a no576\n"
     ]
    }
   ],
   "source": [
    "try:\n",
    "    x = int(input(\"enter a no\"))\n",
    "    if x < 0:\n",
    "        raise()\n",
    "except:\n",
    "    print(\"Wrong Input\")\n",
    "    "
   ]
  },
  {
   "cell_type": "code",
   "execution_count": 21,
   "id": "f34a15bd",
   "metadata": {},
   "outputs": [],
   "source": [
    "def func(l):\n",
    "    for i in range(len(l)):\n",
    "        if type(l[i]) != list:\n",
    "            print(l[i])\n",
    "            \n",
    "            \n",
    "        "
   ]
  },
  {
   "cell_type": "code",
   "execution_count": 24,
   "id": "0483eeea",
   "metadata": {},
   "outputs": [],
   "source": [
    "l = [[0,1,2]]"
   ]
  },
  {
   "cell_type": "code",
   "execution_count": 25,
   "id": "25ca81ff",
   "metadata": {},
   "outputs": [
    {
     "name": "stdout",
     "output_type": "stream",
     "text": [
      "[0, 1, 2]\n"
     ]
    }
   ],
   "source": [
    "func(l)"
   ]
  },
  {
   "cell_type": "code",
   "execution_count": 26,
   "id": "069c1091",
   "metadata": {},
   "outputs": [
    {
     "name": "stdout",
     "output_type": "stream",
     "text": [
      "[0, 1, 2]\n"
     ]
    }
   ],
   "source": [
    "for i in l:\n",
    "    if type(i) == list:\n",
    "        func(l)\n",
    "    else:\n",
    "        print(i)"
   ]
  },
  {
   "cell_type": "code",
   "execution_count": 38,
   "id": "05ec6feb",
   "metadata": {},
   "outputs": [],
   "source": [
    "a = lambda x: print(\"even\") if(x%2 == 0) else print(\"Odd\")"
   ]
  },
  {
   "cell_type": "code",
   "execution_count": 39,
   "id": "ab80b54e",
   "metadata": {},
   "outputs": [
    {
     "name": "stdout",
     "output_type": "stream",
     "text": [
      "even\n"
     ]
    }
   ],
   "source": [
    "a(4)"
   ]
  },
  {
   "cell_type": "code",
   "execution_count": 43,
   "id": "46bc866d",
   "metadata": {},
   "outputs": [
    {
     "data": {
      "text/plain": [
       "5"
      ]
     },
     "execution_count": 43,
     "metadata": {},
     "output_type": "execute_result"
    }
   ],
   "source": [
    "max(3,4,5)"
   ]
  },
  {
   "cell_type": "code",
   "execution_count": 11,
   "id": "d467962a",
   "metadata": {},
   "outputs": [],
   "source": [
    "def func(a):\n",
    "    count = 0\n",
    "    for i in range(2,a):\n",
    "        if a%i == 0:\n",
    "            count = count + 1\n",
    "            \n",
    "    if count > 0:\n",
    "        #print(\"It's not a prime\")\n",
    "        return 0\n",
    "    else:\n",
    "        #print(\"its a prime\")\n",
    "        return a\n",
    "            "
   ]
  },
  {
   "cell_type": "code",
   "execution_count": 63,
   "id": "e9ef07d5",
   "metadata": {},
   "outputs": [
    {
     "data": {
      "text/plain": [
       "0"
      ]
     },
     "execution_count": 63,
     "metadata": {},
     "output_type": "execute_result"
    }
   ],
   "source": [
    "func(25)"
   ]
  },
  {
   "cell_type": "code",
   "execution_count": 13,
   "id": "0639f70b",
   "metadata": {},
   "outputs": [
    {
     "name": "stdout",
     "output_type": "stream",
     "text": [
      "2\n",
      "3\n",
      "5\n",
      "7\n",
      "11\n",
      "13\n",
      "17\n",
      "19\n",
      "23\n",
      "29\n",
      "31\n",
      "37\n",
      "41\n",
      "43\n",
      "47\n",
      "53\n",
      "59\n",
      "61\n",
      "67\n",
      "71\n"
     ]
    }
   ],
   "source": [
    "count = 0\n",
    "i = 2\n",
    "while count < 20:\n",
    "    c = func(i)\n",
    "    if(c != 0):\n",
    "        print(c)\n",
    "        count = count+1\n",
    "    i = i + 1"
   ]
  },
  {
   "cell_type": "code",
   "execution_count": 2,
   "id": "10263b75",
   "metadata": {},
   "outputs": [],
   "source": [
    "def fact(n):\n",
    "    if n < 1:\n",
    "        return 1\n",
    "    else:\n",
    "        return n * fact(n-1)"
   ]
  },
  {
   "cell_type": "code",
   "execution_count": 3,
   "id": "7cf9afcd",
   "metadata": {},
   "outputs": [
    {
     "data": {
      "text/plain": [
       "120"
      ]
     },
     "execution_count": 3,
     "metadata": {},
     "output_type": "execute_result"
    }
   ],
   "source": [
    "fact(5)"
   ]
  },
  {
   "cell_type": "code",
   "execution_count": 22,
   "id": "206a4c55",
   "metadata": {},
   "outputs": [],
   "source": [
    "def fib(n):\n",
    "    if n == 0 or n ==1:\n",
    "        return n\n",
    "    else:\n",
    "        return fib(n-1) + fib(n-2)"
   ]
  },
  {
   "cell_type": "code",
   "execution_count": 28,
   "id": "565e764f",
   "metadata": {},
   "outputs": [
    {
     "name": "stdout",
     "output_type": "stream",
     "text": [
      "0\n",
      "1\n",
      "1\n",
      "2\n",
      "3\n",
      "5\n",
      "8\n",
      "13\n",
      "21\n",
      "34\n"
     ]
    }
   ],
   "source": [
    "n = 10\n",
    "for i in range(n):\n",
    "    print(fib(i))\n",
    "  "
   ]
  },
  {
   "cell_type": "code",
   "execution_count": 29,
   "id": "530ee693",
   "metadata": {},
   "outputs": [
    {
     "name": "stdout",
     "output_type": "stream",
     "text": [
      "1\n",
      "2\n",
      "4\n",
      "8\n",
      "16\n",
      "32\n",
      "64\n",
      "128\n",
      "256\n",
      "512\n"
     ]
    }
   ],
   "source": [
    "for i in range(10):\n",
    "    print(2**i)"
   ]
  },
  {
   "cell_type": "code",
   "execution_count": 40,
   "id": "59253c99",
   "metadata": {},
   "outputs": [],
   "source": [
    "a = list(map(lambda x : 2**x, [i for i in range(10)]))"
   ]
  },
  {
   "cell_type": "code",
   "execution_count": 41,
   "id": "7ce565c8",
   "metadata": {},
   "outputs": [
    {
     "data": {
      "text/plain": [
       "[1, 2, 4, 8, 16, 32, 64, 128, 256, 512]"
      ]
     },
     "execution_count": 41,
     "metadata": {},
     "output_type": "execute_result"
    }
   ],
   "source": [
    "a"
   ]
  },
  {
   "cell_type": "code",
   "execution_count": 42,
   "id": "4723ebdf",
   "metadata": {},
   "outputs": [],
   "source": [
    "l = [10, 13, 26]"
   ]
  },
  {
   "cell_type": "code",
   "execution_count": 58,
   "id": "7efe9c69",
   "metadata": {},
   "outputs": [],
   "source": [
    "a = list(filter(lambda x :(x % 13 == 0) , l))"
   ]
  },
  {
   "cell_type": "code",
   "execution_count": 59,
   "id": "5a7d9c98",
   "metadata": {},
   "outputs": [
    {
     "data": {
      "text/plain": [
       "[13, 26]"
      ]
     },
     "execution_count": 59,
     "metadata": {},
     "output_type": "execute_result"
    }
   ],
   "source": [
    "a"
   ]
  },
  {
   "cell_type": "code",
   "execution_count": 1,
   "id": "6d017a27",
   "metadata": {},
   "outputs": [],
   "source": [
    "l = [1,2,3]"
   ]
  },
  {
   "cell_type": "code",
   "execution_count": 3,
   "id": "7b124541",
   "metadata": {},
   "outputs": [],
   "source": [
    "l[0] = 3"
   ]
  },
  {
   "cell_type": "code",
   "execution_count": 4,
   "id": "ff9ede0c",
   "metadata": {},
   "outputs": [
    {
     "data": {
      "text/plain": [
       "[3, 2, 3]"
      ]
     },
     "execution_count": 4,
     "metadata": {},
     "output_type": "execute_result"
    }
   ],
   "source": [
    "l"
   ]
  },
  {
   "cell_type": "code",
   "execution_count": 5,
   "id": "a20f520b",
   "metadata": {},
   "outputs": [],
   "source": [
    "s= \"Babu\""
   ]
  },
  {
   "cell_type": "code",
   "execution_count": 7,
   "id": "91b5f02d",
   "metadata": {},
   "outputs": [
    {
     "ename": "TypeError",
     "evalue": "'str' object does not support item assignment",
     "output_type": "error",
     "traceback": [
      "\u001b[1;31m---------------------------------------------------------------------------\u001b[0m",
      "\u001b[1;31mTypeError\u001b[0m                                 Traceback (most recent call last)",
      "\u001b[1;32m~\\AppData\\Local\\Temp/ipykernel_13256/249830078.py\u001b[0m in \u001b[0;36m<module>\u001b[1;34m\u001b[0m\n\u001b[1;32m----> 1\u001b[1;33m \u001b[0ms\u001b[0m\u001b[1;33m[\u001b[0m\u001b[1;36m0\u001b[0m\u001b[1;33m]\u001b[0m \u001b[1;33m=\u001b[0m \u001b[1;34m'c'\u001b[0m\u001b[1;33m\u001b[0m\u001b[1;33m\u001b[0m\u001b[0m\n\u001b[0m",
      "\u001b[1;31mTypeError\u001b[0m: 'str' object does not support item assignment"
     ]
    }
   ],
   "source": [
    "s[0] = 'c'"
   ]
  },
  {
   "cell_type": "code",
   "execution_count": null,
   "id": "306ee61d",
   "metadata": {},
   "outputs": [],
   "source": []
  }
 ],
 "metadata": {
  "kernelspec": {
   "display_name": "Python 3 (ipykernel)",
   "language": "python",
   "name": "python3"
  },
  "language_info": {
   "codemirror_mode": {
    "name": "ipython",
    "version": 3
   },
   "file_extension": ".py",
   "mimetype": "text/x-python",
   "name": "python",
   "nbconvert_exporter": "python",
   "pygments_lexer": "ipython3",
   "version": "3.9.7"
  }
 },
 "nbformat": 4,
 "nbformat_minor": 5
}
