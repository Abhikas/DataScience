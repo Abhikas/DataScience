{
 "cells": [
  {
   "cell_type": "code",
   "execution_count": 1,
   "id": "befb143a",
   "metadata": {},
   "outputs": [],
   "source": [
    "class xyz:\n",
    "    def __init__(self, a, b, c):\n",
    "        self.a = a\n",
    "        self.b = b        \n",
    "        self.c = c     \n",
    "        \n",
    "    def test(self):\n",
    "        print(\"This is my first method of xyz class\")\n",
    "        \n",
    "    def test1(self):\n",
    "        print(\"This is test1 method of xyz class\")"
   ]
  },
  {
   "cell_type": "code",
   "execution_count": 2,
   "id": "5b4fa75f",
   "metadata": {},
   "outputs": [],
   "source": [
    "p = xyz(1,2,3)"
   ]
  },
  {
   "cell_type": "code",
   "execution_count": 3,
   "id": "484a163a",
   "metadata": {},
   "outputs": [
    {
     "name": "stdout",
     "output_type": "stream",
     "text": [
      "This is test1 method of xyz class\n"
     ]
    }
   ],
   "source": [
    "p.test1()"
   ]
  },
  {
   "cell_type": "code",
   "execution_count": 4,
   "id": "1a912c80",
   "metadata": {},
   "outputs": [],
   "source": [
    "class xyz1(xyz):\n",
    "    pass"
   ]
  },
  {
   "cell_type": "code",
   "execution_count": 5,
   "id": "8a181c47",
   "metadata": {},
   "outputs": [],
   "source": [
    "q= xyz1(3,4,5)"
   ]
  },
  {
   "cell_type": "code",
   "execution_count": 6,
   "id": "496d1f09",
   "metadata": {},
   "outputs": [
    {
     "name": "stdout",
     "output_type": "stream",
     "text": [
      "This is test1 method of xyz class\n"
     ]
    }
   ],
   "source": [
    "q.test1()"
   ]
  },
  {
   "cell_type": "code",
   "execution_count": 7,
   "id": "09aef5e2",
   "metadata": {},
   "outputs": [],
   "source": [
    "class xyz1(xyz):\n",
    "    def test(self):\n",
    "        print(\"This is a test meth. in xyz1\")"
   ]
  },
  {
   "cell_type": "code",
   "execution_count": 8,
   "id": "b88ea5b1",
   "metadata": {},
   "outputs": [],
   "source": [
    "g = xyz1(4,5,6)"
   ]
  },
  {
   "cell_type": "code",
   "execution_count": 9,
   "id": "85b08c0a",
   "metadata": {},
   "outputs": [
    {
     "name": "stdout",
     "output_type": "stream",
     "text": [
      "This is a test meth. in xyz1\n"
     ]
    }
   ],
   "source": [
    "g.test()"
   ]
  },
  {
   "cell_type": "code",
   "execution_count": 10,
   "id": "d3e61a60",
   "metadata": {},
   "outputs": [],
   "source": [
    "class xyz:\n",
    "    def __init__(self, a, b, c):\n",
    "        self.a = a\n",
    "        self.b = b        \n",
    "        self.c = c     \n",
    "        \n",
    "    def test(self):\n",
    "        print(\"This is method of xyz class\")\n",
    "        \n",
    "class xyz1:\n",
    "    def __init__(self, p, q, v):\n",
    "        self.p = p\n",
    "        self.q = q        \n",
    "        self.v = v\n",
    "    def test1(self):\n",
    "        print(\"This is a method from xyz1\")"
   ]
  },
  {
   "cell_type": "code",
   "execution_count": 84,
   "id": "65dab79f",
   "metadata": {},
   "outputs": [],
   "source": [
    "class child(xyz1, xyz):\n",
    "    def __init__(self,a,b,c,p,q,r):\n",
    "        xyz.__init__(self,a,b,c)\n",
    "        xyz1.__init__(self, p,q,r)"
   ]
  },
  {
   "cell_type": "code",
   "execution_count": 86,
   "id": "5bda2fed",
   "metadata": {},
   "outputs": [],
   "source": [
    "n = child(1,2,3,3,4,5)"
   ]
  },
  {
   "cell_type": "code",
   "execution_count": 88,
   "id": "aecb6e31",
   "metadata": {},
   "outputs": [
    {
     "data": {
      "text/plain": [
       "3"
      ]
     },
     "execution_count": 88,
     "metadata": {},
     "output_type": "execute_result"
    }
   ],
   "source": [
    "n.p"
   ]
  },
  {
   "cell_type": "code",
   "execution_count": 83,
   "id": "0409c68f",
   "metadata": {},
   "outputs": [
    {
     "data": {
      "text/plain": [
       "5"
      ]
     },
     "execution_count": 83,
     "metadata": {},
     "output_type": "execute_result"
    }
   ],
   "source": [
    "n.a"
   ]
  },
  {
   "cell_type": "code",
   "execution_count": null,
   "id": "249f2826",
   "metadata": {},
   "outputs": [],
   "source": [
    "#Multiple inheritance\n",
    "class child(xyz1, xyz):\n",
    "    def __init__(self, *args, **kwargs):\n",
    "        xyz.__init__(self, *args)\n",
    "        xyz1.__init__(self, **kwargs)\n",
    "        \n"
   ]
  },
  {
   "cell_type": "code",
   "execution_count": null,
   "id": "4ab62cb3",
   "metadata": {},
   "outputs": [],
   "source": [
    "n = child(4,5,6, p = 3, q = 4, v = 5)"
   ]
  },
  {
   "cell_type": "code",
   "execution_count": 108,
   "id": "709797c7",
   "metadata": {},
   "outputs": [],
   "source": [
    "class q1:\n",
    "    def __init__(self, fname):\n",
    "        self.fname = fname\n",
    "        \n",
    "        \n",
    "    def read(self):\n",
    "        f = open(self.fname, \"r\")\n",
    "        return f.read()\n",
    "        \n",
    "    def write(self):\n",
    "        f = open(self.fname, \"w\")\n",
    "        f.write(\"hjgjhjkj\")\n",
    "        f.close()"
   ]
  },
  {
   "cell_type": "code",
   "execution_count": 109,
   "id": "e681409e",
   "metadata": {},
   "outputs": [],
   "source": [
    "class q2(q1):\n",
    "    pass"
   ]
  },
  {
   "cell_type": "code",
   "execution_count": 110,
   "id": "aeb78d5e",
   "metadata": {},
   "outputs": [],
   "source": [
    "n1 = q2(\"fil1.txt\")"
   ]
  },
  {
   "cell_type": "code",
   "execution_count": 111,
   "id": "f57b16ff",
   "metadata": {},
   "outputs": [
    {
     "data": {
      "text/plain": [
       "'fil1.txt'"
      ]
     },
     "execution_count": 111,
     "metadata": {},
     "output_type": "execute_result"
    }
   ],
   "source": [
    "n1.fname"
   ]
  },
  {
   "cell_type": "code",
   "execution_count": 112,
   "id": "e49f131b",
   "metadata": {},
   "outputs": [],
   "source": [
    "n1.write()"
   ]
  },
  {
   "cell_type": "code",
   "execution_count": 113,
   "id": "e541965c",
   "metadata": {},
   "outputs": [
    {
     "data": {
      "text/plain": [
       "'hjgjhjkj'"
      ]
     },
     "execution_count": 113,
     "metadata": {},
     "output_type": "execute_result"
    }
   ],
   "source": [
    "n1.read()"
   ]
  },
  {
   "cell_type": "code",
   "execution_count": null,
   "id": "c80bac9d",
   "metadata": {},
   "outputs": [],
   "source": [
    "#Public member \n",
    "class test:\n",
    "    def __init__(self, a, b, c):\n",
    "        self.a = a\n",
    "        self.b = b        \n",
    "        self.c = c     \n",
    "class test1(test):\n",
    "    pass\n",
    "u = test(4,5,6)"
   ]
  },
  {
   "cell_type": "code",
   "execution_count": null,
   "id": "dbdb075a",
   "metadata": {},
   "outputs": [],
   "source": [
    "v = test1(3,4,5)"
   ]
  },
  {
   "cell_type": "code",
   "execution_count": 53,
   "id": "d0d08745",
   "metadata": {},
   "outputs": [],
   "source": [
    "#Single inheritance\n",
    "class test:\n",
    "    def __init__(self):\n",
    "        self.a = 4\n",
    "        \n",
    "class test1(test):\n",
    "    def __init__(self):\n",
    "        test.__init__(self)\n",
    "        self.b = 7 \n",
    "        \n",
    "u = test()"
   ]
  },
  {
   "cell_type": "code",
   "execution_count": 57,
   "id": "afd58c59",
   "metadata": {},
   "outputs": [
    {
     "data": {
      "text/plain": [
       "7"
      ]
     },
     "execution_count": 57,
     "metadata": {},
     "output_type": "execute_result"
    }
   ],
   "source": [
    "v1 = test1()\n",
    "v1.b"
   ]
  },
  {
   "cell_type": "code",
   "execution_count": 55,
   "id": "7df8bdfd",
   "metadata": {},
   "outputs": [
    {
     "data": {
      "text/plain": [
       "4"
      ]
     },
     "execution_count": 55,
     "metadata": {},
     "output_type": "execute_result"
    }
   ],
   "source": [
    "u.a"
   ]
  },
  {
   "cell_type": "code",
   "execution_count": 37,
   "id": "fe644302",
   "metadata": {},
   "outputs": [],
   "source": [
    "v1 = test2()"
   ]
  },
  {
   "cell_type": "code",
   "execution_count": 38,
   "id": "2f18b5e9",
   "metadata": {},
   "outputs": [
    {
     "data": {
      "text/plain": [
       "7"
      ]
     },
     "execution_count": 38,
     "metadata": {},
     "output_type": "execute_result"
    }
   ],
   "source": [
    "v1.b"
   ]
  },
  {
   "cell_type": "code",
   "execution_count": 2,
   "id": "52c55dfe",
   "metadata": {},
   "outputs": [],
   "source": [
    "#a is protected, b is private and c is public\n",
    "class test:\n",
    "    def __init__(self):\n",
    "        self._a = 5 \n",
    "        self.__b = 6\n",
    "        self.c = 4\n",
    "        \n",
    "class test1(test):\n",
    "    pass\n"
   ]
  },
  {
   "cell_type": "code",
   "execution_count": 3,
   "id": "1c95cdf3",
   "metadata": {},
   "outputs": [],
   "source": [
    "u1 = test()"
   ]
  },
  {
   "cell_type": "code",
   "execution_count": 4,
   "id": "3c509370",
   "metadata": {},
   "outputs": [
    {
     "data": {
      "text/plain": [
       "4"
      ]
     },
     "execution_count": 4,
     "metadata": {},
     "output_type": "execute_result"
    }
   ],
   "source": [
    "u1.c"
   ]
  },
  {
   "cell_type": "code",
   "execution_count": 5,
   "id": "298ce7af",
   "metadata": {},
   "outputs": [
    {
     "data": {
      "text/plain": [
       "5"
      ]
     },
     "execution_count": 5,
     "metadata": {},
     "output_type": "execute_result"
    }
   ],
   "source": [
    "u1._a"
   ]
  },
  {
   "cell_type": "code",
   "execution_count": 6,
   "id": "9f659d61",
   "metadata": {},
   "outputs": [
    {
     "data": {
      "text/plain": [
       "6"
      ]
     },
     "execution_count": 6,
     "metadata": {},
     "output_type": "execute_result"
    }
   ],
   "source": [
    "u1._test__b"
   ]
  },
  {
   "cell_type": "code",
   "execution_count": 7,
   "id": "87db9a27",
   "metadata": {},
   "outputs": [],
   "source": [
    "v = test1()"
   ]
  },
  {
   "cell_type": "code",
   "execution_count": 8,
   "id": "a050379b",
   "metadata": {},
   "outputs": [
    {
     "data": {
      "text/plain": [
       "4"
      ]
     },
     "execution_count": 8,
     "metadata": {},
     "output_type": "execute_result"
    }
   ],
   "source": [
    "v.c"
   ]
  },
  {
   "cell_type": "code",
   "execution_count": 9,
   "id": "f8bbed2a",
   "metadata": {},
   "outputs": [
    {
     "data": {
      "text/plain": [
       "5"
      ]
     },
     "execution_count": 9,
     "metadata": {},
     "output_type": "execute_result"
    }
   ],
   "source": [
    "#Access the protected member outside the class\n",
    "v._a"
   ]
  },
  {
   "cell_type": "code",
   "execution_count": 10,
   "id": "c0015f05",
   "metadata": {},
   "outputs": [
    {
     "data": {
      "text/plain": [
       "6"
      ]
     },
     "execution_count": 10,
     "metadata": {},
     "output_type": "execute_result"
    }
   ],
   "source": [
    "#Access the private member outside the class\n",
    "v._test__b"
   ]
  },
  {
   "cell_type": "code",
   "execution_count": null,
   "id": "305baab0",
   "metadata": {},
   "outputs": [],
   "source": []
  }
 ],
 "metadata": {
  "kernelspec": {
   "display_name": "Python 3 (ipykernel)",
   "language": "python",
   "name": "python3"
  },
  "language_info": {
   "codemirror_mode": {
    "name": "ipython",
    "version": 3
   },
   "file_extension": ".py",
   "mimetype": "text/x-python",
   "name": "python",
   "nbconvert_exporter": "python",
   "pygments_lexer": "ipython3",
   "version": "3.9.7"
  }
 },
 "nbformat": 4,
 "nbformat_minor": 5
}
