{
 "cells": [
  {
   "cell_type": "code",
   "execution_count": 1,
   "id": "a8c17d23",
   "metadata": {},
   "outputs": [],
   "source": [
    "a = 10"
   ]
  },
  {
   "cell_type": "code",
   "execution_count": 2,
   "id": "f7cf673a",
   "metadata": {
    "scrolled": true
   },
   "outputs": [],
   "source": [
    "if a < 15:\n",
    "    pass"
   ]
  },
  {
   "cell_type": "code",
   "execution_count": 3,
   "id": "74ca3d42",
   "metadata": {},
   "outputs": [],
   "source": [
    "if 24 < 15:\n",
    "    print(\"Abhi\")"
   ]
  },
  {
   "cell_type": "code",
   "execution_count": 4,
   "id": "ed4c241b",
   "metadata": {},
   "outputs": [
    {
     "name": "stdout",
     "output_type": "stream",
     "text": [
      "Abhi\n"
     ]
    }
   ],
   "source": [
    "if 24 :\n",
    "    print(\"Abhi\")"
   ]
  },
  {
   "cell_type": "code",
   "execution_count": 5,
   "id": "6b772a60",
   "metadata": {},
   "outputs": [
    {
     "name": "stdout",
     "output_type": "stream",
     "text": [
      "Prem\n"
     ]
    }
   ],
   "source": [
    "if 0 :\n",
    "    print(\"Abhi\")\n",
    "else:\n",
    "    print(\"Prem\")"
   ]
  },
  {
   "cell_type": "code",
   "execution_count": 6,
   "id": "9ccc9ca5",
   "metadata": {},
   "outputs": [
    {
     "name": "stdout",
     "output_type": "stream",
     "text": [
      "Enter the income: 50\n",
      "buy a car\n"
     ]
    }
   ],
   "source": [
    "income = int(input(\"Enter the income: \"))\n",
    "if income < 50:\n",
    "    print(\"buy a phone\")\n",
    "elif income < 70:\n",
    "    print(\"buy a car\")\n",
    "elif income < 90:\n",
    "    print(\"buy a home\")\n",
    "else:\n",
    "    print(\"buy a bunglow\")\n"
   ]
  },
  {
   "cell_type": "code",
   "execution_count": 7,
   "id": "33bc4a67",
   "metadata": {},
   "outputs": [
    {
     "name": "stdout",
     "output_type": "stream",
     "text": [
      "Enter the price: 60\n"
     ]
    }
   ],
   "source": [
    "Total_price = int(input(\"Enter the price: \"))\n",
    "if Total_price > 20000:\n",
    "    discount = Total_price*.20\n",
    "    print(\"Discpunt will be\", discount)\n",
    "elif Total_price < 70000:\n",
    "    discount = Total_price*.05\n",
    "else:\n",
    "    print(\"won't get anything\")"
   ]
  },
  {
   "cell_type": "code",
   "execution_count": 8,
   "id": "26cdca59",
   "metadata": {},
   "outputs": [
    {
     "data": {
      "text/plain": [
       "True"
      ]
     },
     "execution_count": 8,
     "metadata": {},
     "output_type": "execute_result"
    }
   ],
   "source": [
    "\"sudh\" == \"sudh\""
   ]
  },
  {
   "cell_type": "code",
   "execution_count": 9,
   "id": "ac2c5818",
   "metadata": {},
   "outputs": [
    {
     "name": "stdout",
     "output_type": "stream",
     "text": [
      "Enter Coupon code34\n",
      "not valid coupon code\n"
     ]
    }
   ],
   "source": [
    "coup = input(\"Enter Coupon code\")\n",
    "if coup == \"SUDHANSHU5\":\n",
    "     print(\"Discount is 5%\")\n",
    "else:\n",
    "    print(\"not valid coupon code\")"
   ]
  },
  {
   "cell_type": "code",
   "execution_count": 10,
   "id": "0b1df763",
   "metadata": {},
   "outputs": [
    {
     "name": "stdout",
     "output_type": "stream",
     "text": [
      "Enter the hours2\n",
      "will take 6 months\n"
     ]
    }
   ],
   "source": [
    "study_hour = int(input(\"Enter the hours\"))\n",
    "if study_hour < 1:\n",
    "    print(\"will take 9 months\")\n",
    "elif study_hour > 1 and study_hour < 4:\n",
    "    print(\"will take 6 months\")\n",
    "else:\n",
    "    print(\"very difficult\")"
   ]
  },
  {
   "cell_type": "code",
   "execution_count": 11,
   "id": "1ea37738",
   "metadata": {},
   "outputs": [
    {
     "name": "stdout",
     "output_type": "stream",
     "text": [
      "Enter the portal 2\n",
      "Kindly connect with the team\n"
     ]
    }
   ],
   "source": [
    "s = input(\"Enter the portal \")\n",
    "\n",
    "if s ==\"Oneneuron\":\n",
    "    course = input(\"Enter the course \")\n",
    "    if course == \"DSA\":\n",
    "        print(\"it's available\")\n",
    "    elif course == \"BlockChain\":\n",
    "        print(\"not vailable\")\n",
    "    else:\n",
    "        print(\"raise ur demand\")\n",
    "elif s == \"services\":\n",
    "    service= input(\"Enter the service \")\n",
    "    if service == \"newModule\":\n",
    "        print(\"raise a request\")\n",
    "else:\n",
    "    print(\"Kindly connect with the team\")"
   ]
  },
  {
   "cell_type": "code",
   "execution_count": 12,
   "id": "2f0499e5",
   "metadata": {},
   "outputs": [
    {
     "name": "stdout",
     "output_type": "stream",
     "text": [
      "type of 1 is <class 'int'>\n",
      "type of 2 is <class 'int'>\n",
      "type of 3.0 is <class 'float'>\n",
      "type of (4+6j) is <class 'complex'>\n",
      "type of Abhi is <class 'str'>\n"
     ]
    }
   ],
   "source": [
    "l = [1,2,3.0, 4+6j,\"Abhi\"]\n",
    "for i in l:\n",
    "    print(\"type of\", i, \"is\", type(i))"
   ]
  },
  {
   "cell_type": "code",
   "execution_count": 13,
   "id": "c4b9b3c7",
   "metadata": {},
   "outputs": [
    {
     "name": "stdout",
     "output_type": "stream",
     "text": [
      "[3, 6, 7, 8]\n"
     ]
    }
   ],
   "source": [
    "l = [1,4,5,6]\n",
    "l1 = []\n",
    "for i in l:\n",
    "    l1.append(i+2)\n",
    "print(l1)"
   ]
  },
  {
   "cell_type": "code",
   "execution_count": 14,
   "id": "2cd6db09",
   "metadata": {},
   "outputs": [
    {
     "name": "stdout",
     "output_type": "stream",
     "text": [
      "[1, 2, 3]\n"
     ]
    }
   ],
   "source": [
    "l = [1,2,3.0, 4+6j,\"Abhi\", [1,2,3]]\n",
    "for i in l:\n",
    "    if type(i) == list:\n",
    "        print(i)"
   ]
  },
  {
   "cell_type": "code",
   "execution_count": 15,
   "id": "0619cfe0",
   "metadata": {},
   "outputs": [
    {
     "data": {
      "text/plain": [
       "0"
      ]
     },
     "execution_count": 15,
     "metadata": {},
     "output_type": "execute_result"
    }
   ],
   "source": [
    "l.index(1)"
   ]
  },
  {
   "cell_type": "code",
   "execution_count": 16,
   "id": "05f2242f",
   "metadata": {},
   "outputs": [],
   "source": [
    "l = [2,45,78, 12, \"sudh\", \"6+7J\", [56,67,78,\"dsfdsf\"]]\n"
   ]
  },
  {
   "cell_type": "code",
   "execution_count": 17,
   "id": "789a9c89",
   "metadata": {},
   "outputs": [
    {
     "data": {
      "text/plain": [
       "[2, 45, 78, 12, 'sudh', '6+7J', [56, 67, 78, 'dsfdsf']]"
      ]
     },
     "execution_count": 17,
     "metadata": {},
     "output_type": "execute_result"
    }
   ],
   "source": [
    "l\n"
   ]
  },
  {
   "cell_type": "code",
   "execution_count": 18,
   "id": "2bb3ee85",
   "metadata": {},
   "outputs": [
    {
     "name": "stdout",
     "output_type": "stream",
     "text": [
      "0\n",
      "1\n",
      "2\n",
      "3\n",
      "4\n",
      "5\n",
      "6\n"
     ]
    }
   ],
   "source": [
    "for i in l:\n",
    "    print(l.index(i))"
   ]
  },
  {
   "cell_type": "code",
   "execution_count": 19,
   "id": "e4b703f9",
   "metadata": {},
   "outputs": [
    {
     "name": "stdout",
     "output_type": "stream",
     "text": [
      "['s', 'u', 'd', 'h']\n",
      "['6', '+', '7', 'J']\n"
     ]
    }
   ],
   "source": [
    "for i in l:\n",
    "    if type(i) == str:\n",
    "        print(list(i))"
   ]
  },
  {
   "cell_type": "code",
   "execution_count": 20,
   "id": "ee0c2ac5",
   "metadata": {},
   "outputs": [
    {
     "data": {
      "text/plain": [
       "[2, 45, 78, 12, 'sudh', '6+7J', [56, 67, 78, 'dsfdsf']]"
      ]
     },
     "execution_count": 20,
     "metadata": {},
     "output_type": "execute_result"
    }
   ],
   "source": [
    "l"
   ]
  },
  {
   "cell_type": "code",
   "execution_count": 21,
   "id": "434be33f",
   "metadata": {},
   "outputs": [
    {
     "data": {
      "text/plain": [
       "str"
      ]
     },
     "execution_count": 21,
     "metadata": {},
     "output_type": "execute_result"
    }
   ],
   "source": [
    "type('sudh')"
   ]
  },
  {
   "cell_type": "code",
   "execution_count": 22,
   "id": "b3d22e8d",
   "metadata": {},
   "outputs": [
    {
     "name": "stdout",
     "output_type": "stream",
     "text": [
      "[4, 2025, 6084, 144]\n"
     ]
    }
   ],
   "source": [
    "l1 = []\n",
    "for i in l:\n",
    "    if type(i) == int:\n",
    "        l1.append(i**2)\n",
    "print(l1)"
   ]
  },
  {
   "cell_type": "code",
   "execution_count": 23,
   "id": "d60cb053",
   "metadata": {},
   "outputs": [],
   "source": [
    "s = 'Abhi'"
   ]
  },
  {
   "cell_type": "code",
   "execution_count": 24,
   "id": "bcaedc7d",
   "metadata": {},
   "outputs": [
    {
     "data": {
      "text/plain": [
       "str"
      ]
     },
     "execution_count": 24,
     "metadata": {},
     "output_type": "execute_result"
    }
   ],
   "source": [
    "type(s)"
   ]
  },
  {
   "cell_type": "code",
   "execution_count": 25,
   "id": "29da654f",
   "metadata": {},
   "outputs": [
    {
     "data": {
      "text/plain": [
       "['Abhi']"
      ]
     },
     "execution_count": 25,
     "metadata": {},
     "output_type": "execute_result"
    }
   ],
   "source": [
    "s.split()"
   ]
  },
  {
   "cell_type": "code",
   "execution_count": 26,
   "id": "ec43ce94",
   "metadata": {},
   "outputs": [
    {
     "data": {
      "text/plain": [
       "['A', 'b', 'h', 'i']"
      ]
     },
     "execution_count": 26,
     "metadata": {},
     "output_type": "execute_result"
    }
   ],
   "source": [
    "list(s)"
   ]
  },
  {
   "cell_type": "code",
   "execution_count": 27,
   "id": "b4482b57",
   "metadata": {},
   "outputs": [],
   "source": [
    "l = [2,45,78, 12, 12, \"sudh\", \"kumar\", 6+7J, [56,67,78,\"dsfdsf\"]]"
   ]
  },
  {
   "cell_type": "code",
   "execution_count": 28,
   "id": "66eb5e4c",
   "metadata": {},
   "outputs": [
    {
     "name": "stdout",
     "output_type": "stream",
     "text": [
      "0\n",
      "1\n",
      "2\n",
      "3\n",
      "4\n",
      "5\n",
      "6\n",
      "7\n",
      "8\n"
     ]
    }
   ],
   "source": [
    "for i in range(len(l)):\n",
    "    print(i)"
   ]
  },
  {
   "cell_type": "code",
   "execution_count": 30,
   "id": "4e58dd99",
   "metadata": {},
   "outputs": [
    {
     "name": "stdout",
     "output_type": "stream",
     "text": [
      "(0, 2)\n",
      "(1, 45)\n",
      "(2, 78)\n",
      "(3, 12)\n",
      "(4, 12)\n",
      "(5, 'sudh')\n",
      "(6, 'kumar')\n",
      "(7, (6+7j))\n",
      "(8, [56, 67, 78, 'dsfdsf'])\n"
     ]
    }
   ],
   "source": [
    "for i in enumerate(l):\n",
    "    print(i)"
   ]
  },
  {
   "cell_type": "code",
   "execution_count": 31,
   "id": "13787527",
   "metadata": {},
   "outputs": [],
   "source": [
    "s = \"Abhishek\""
   ]
  },
  {
   "cell_type": "code",
   "execution_count": 42,
   "id": "cec4193c",
   "metadata": {},
   "outputs": [],
   "source": [
    "abc =  set(\"Prem\")"
   ]
  },
  {
   "cell_type": "code",
   "execution_count": 43,
   "id": "9572b514",
   "metadata": {
    "scrolled": true
   },
   "outputs": [
    {
     "data": {
      "text/plain": [
       "{'P', 'e', 'm', 'r'}"
      ]
     },
     "execution_count": 43,
     "metadata": {},
     "output_type": "execute_result"
    }
   ],
   "source": [
    "abc"
   ]
  },
  {
   "cell_type": "code",
   "execution_count": 37,
   "id": "42112679",
   "metadata": {},
   "outputs": [],
   "source": [
    "abc.add('hunny')"
   ]
  },
  {
   "cell_type": "code",
   "execution_count": 38,
   "id": "0ef0c768",
   "metadata": {},
   "outputs": [
    {
     "data": {
      "text/plain": [
       "{'P', 'e', 'hunny', 'm', 'r'}"
      ]
     },
     "execution_count": 38,
     "metadata": {},
     "output_type": "execute_result"
    }
   ],
   "source": [
    "abc"
   ]
  },
  {
   "cell_type": "code",
   "execution_count": 40,
   "id": "86c77e72",
   "metadata": {},
   "outputs": [],
   "source": [
    "f_set=frozenset('python')"
   ]
  },
  {
   "cell_type": "code",
   "execution_count": 41,
   "id": "cb04ea7d",
   "metadata": {},
   "outputs": [
    {
     "data": {
      "text/plain": [
       "frozenset({'h', 'n', 'o', 'p', 't', 'y'})"
      ]
     },
     "execution_count": 41,
     "metadata": {},
     "output_type": "execute_result"
    }
   ],
   "source": [
    "f_set"
   ]
  },
  {
   "cell_type": "code",
   "execution_count": 47,
   "id": "d8db1ebb",
   "metadata": {},
   "outputs": [
    {
     "data": {
      "text/plain": [
       "[10, 9, 8, 7]"
      ]
     },
     "execution_count": 47,
     "metadata": {},
     "output_type": "execute_result"
    }
   ],
   "source": [
    "list(range(10,6,-1))"
   ]
  },
  {
   "cell_type": "code",
   "execution_count": 48,
   "id": "f7e10c56",
   "metadata": {},
   "outputs": [
    {
     "name": "stdout",
     "output_type": "stream",
     "text": [
      "sudh \n",
      "\n",
      "sudh sudh \n",
      "\n",
      "sudh sudh sudh \n",
      "\n",
      "sudh sudh sudh sudh \n",
      "\n",
      "sudh sudh sudh sudh sudh \n",
      "\n"
     ]
    }
   ],
   "source": [
    "n = 5 \n",
    "for i in range(0,n) : \n",
    "    for j in range(0,i+1):\n",
    "        print(\"sudh \" , end = \"\")\n",
    "    print(\"\\n\")"
   ]
  },
  {
   "cell_type": "code",
   "execution_count": 49,
   "id": "0ccd09cf",
   "metadata": {},
   "outputs": [
    {
     "data": {
      "text/plain": [
       "3"
      ]
     },
     "execution_count": 49,
     "metadata": {},
     "output_type": "execute_result"
    }
   ],
   "source": [
    "5 and (3 or 0)"
   ]
  },
  {
   "cell_type": "code",
   "execution_count": null,
   "id": "bda0ff8c",
   "metadata": {},
   "outputs": [],
   "source": []
  }
 ],
 "metadata": {
  "kernelspec": {
   "display_name": "Python 3 (ipykernel)",
   "language": "python",
   "name": "python3"
  },
  "language_info": {
   "codemirror_mode": {
    "name": "ipython",
    "version": 3
   },
   "file_extension": ".py",
   "mimetype": "text/x-python",
   "name": "python",
   "nbconvert_exporter": "python",
   "pygments_lexer": "ipython3",
   "version": "3.9.7"
  }
 },
 "nbformat": 4,
 "nbformat_minor": 5
}
