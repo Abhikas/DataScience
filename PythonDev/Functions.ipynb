{
 "cells": [
  {
   "cell_type": "code",
   "execution_count": 1,
   "id": "9f4e1150",
   "metadata": {},
   "outputs": [],
   "source": [
    "\n",
    "    nRows, nCols = 4 ,4  "
   ]
  },
  {
   "cell_type": "code",
   "execution_count": 2,
   "id": "b6249fe6",
   "metadata": {},
   "outputs": [],
   "source": [
    "def PrintStar(nRows):\n",
    "    \"\"\"This is to print star pattern hjhjkjlkhjkklhlkllhjhjkhjhjh   kjkhjhhhhhhhhhhhhhhhhhhhhhhhhhhhhhhhhhhhhhhhhhhhhhhhhhhhhhhhhhjhhhhhhhhhhhhhhhhhhhhhhhhhhhhhhhhhhhhhhhhhhhhhhhhh\n",
    "    hkhjkhlkjlkjkk\"\"\"\n",
    "    for i in range(nRows):\n",
    "        for j in range(i+1):\n",
    "            print(\"*\", end = ' ')\n",
    "        print('\\n')"
   ]
  },
  {
   "cell_type": "code",
   "execution_count": 3,
   "id": "dae14fc3",
   "metadata": {},
   "outputs": [
    {
     "name": "stdout",
     "output_type": "stream",
     "text": [
      "* \n",
      "\n",
      "* * \n",
      "\n",
      "* * * \n",
      "\n",
      "* * * * \n",
      "\n"
     ]
    }
   ],
   "source": [
    "PrintStar(4)\n"
   ]
  },
  {
   "cell_type": "code",
   "execution_count": 24,
   "id": "abacd513",
   "metadata": {},
   "outputs": [
    {
     "name": "stdout",
     "output_type": "stream",
     "text": [
      "Help on function PrintStar in module __main__:\n",
      "\n",
      "PrintStar(nRows)\n",
      "    This is to print star pattern\n",
      "\n"
     ]
    }
   ],
   "source": [
    "help(PrintStar)"
   ]
  },
  {
   "cell_type": "code",
   "execution_count": 5,
   "id": "3eab53db",
   "metadata": {},
   "outputs": [
    {
     "name": "stdout",
     "output_type": "stream",
     "text": [
      "8\n"
     ]
    }
   ],
   "source": [
    "s = \"Abhishek\"\n",
    "count = 0\n",
    "for i in s:\n",
    "    count = count + 1\n",
    "print(count)"
   ]
  },
  {
   "cell_type": "code",
   "execution_count": 3,
   "id": "b52aeb26",
   "metadata": {},
   "outputs": [],
   "source": [
    "dict1 = {\"Name\": \"Abhishek\", \"Age\": 25, \"Id\": \"311-7\"}"
   ]
  },
  {
   "cell_type": "code",
   "execution_count": 8,
   "id": "b0825285",
   "metadata": {},
   "outputs": [
    {
     "data": {
      "text/plain": [
       "['Abhishek', 25, '311-7']"
      ]
     },
     "execution_count": 8,
     "metadata": {},
     "output_type": "execute_result"
    }
   ],
   "source": [
    "l = []\n",
    "for i in dict2:\n",
    "    l.append(dict2[i])\n",
    "l"
   ]
  },
  {
   "cell_type": "code",
   "execution_count": 1,
   "id": "045d8620",
   "metadata": {},
   "outputs": [],
   "source": [
    "dict1 = {\"emp1\": {\"Name\": \"Abhishek\", \"Age\": 25, \"Id\": \"311-7\"}}"
   ]
  },
  {
   "cell_type": "code",
   "execution_count": 14,
   "id": "78be4a06",
   "metadata": {},
   "outputs": [],
   "source": [
    "l1 = []\n",
    "for i in dict1:\n",
    "    l1.append(dict1[i])"
   ]
  },
  {
   "cell_type": "code",
   "execution_count": 15,
   "id": "7cd5f1ae",
   "metadata": {},
   "outputs": [
    {
     "data": {
      "text/plain": [
       "[{'Name': 'Abhishek', 'Age': 25, 'Id': '311-7'}]"
      ]
     },
     "execution_count": 15,
     "metadata": {},
     "output_type": "execute_result"
    }
   ],
   "source": [
    "l1"
   ]
  },
  {
   "cell_type": "code",
   "execution_count": 18,
   "id": "899c42a5",
   "metadata": {},
   "outputs": [
    {
     "data": {
      "text/plain": [
       "['Abhishek', 25, '311-7']"
      ]
     },
     "execution_count": 18,
     "metadata": {},
     "output_type": "execute_result"
    }
   ],
   "source": [
    "l = []\n",
    "for i in dict1.values():\n",
    "    if type(i) == dict:\n",
    "        for j in i.values():\n",
    "            l.append(j)\n",
    "    else:\n",
    "         l.append(i)\n",
    "l"
   ]
  },
  {
   "cell_type": "code",
   "execution_count": 19,
   "id": "9ed1b233",
   "metadata": {},
   "outputs": [],
   "source": [
    "def func1(dict1):\n",
    "  l = []\n",
    "for i in dict1.values():\n",
    "    if type(i) == dict:\n",
    "        for j in i.values():\n",
    "            l.append(j)\n",
    "    else:\n",
    "         l.append(i)  "
   ]
  },
  {
   "cell_type": "code",
   "execution_count": 21,
   "id": "bebf6be3",
   "metadata": {},
   "outputs": [
    {
     "data": {
      "text/plain": [
       "['Abhishek', 25, '311-7', 'Abhishek', 25, '311-7']"
      ]
     },
     "execution_count": 21,
     "metadata": {},
     "output_type": "execute_result"
    }
   ],
   "source": [
    "l\n"
   ]
  },
  {
   "cell_type": "code",
   "execution_count": 12,
   "id": "dedcca31",
   "metadata": {},
   "outputs": [
    {
     "data": {
      "text/plain": [
       "['Abhishek', 25, '311-7']"
      ]
     },
     "execution_count": 12,
     "metadata": {},
     "output_type": "execute_result"
    }
   ],
   "source": [
    "l"
   ]
  },
  {
   "cell_type": "code",
   "execution_count": 24,
   "id": "3579c055",
   "metadata": {},
   "outputs": [
    {
     "ename": "KeyError",
     "evalue": "0",
     "output_type": "error",
     "traceback": [
      "\u001b[1;31m---------------------------------------------------------------------------\u001b[0m",
      "\u001b[1;31mKeyError\u001b[0m                                  Traceback (most recent call last)",
      "\u001b[1;32m~\\AppData\\Local\\Temp/ipykernel_3168/715492027.py\u001b[0m in \u001b[0;36m<module>\u001b[1;34m\u001b[0m\n\u001b[1;32m----> 1\u001b[1;33m \u001b[0mdict1\u001b[0m\u001b[1;33m[\u001b[0m\u001b[1;36m0\u001b[0m\u001b[1;33m]\u001b[0m\u001b[1;33m\u001b[0m\u001b[1;33m\u001b[0m\u001b[0m\n\u001b[0m",
      "\u001b[1;31mKeyError\u001b[0m: 0"
     ]
    }
   ],
   "source": [
    "dict1[0]"
   ]
  },
  {
   "cell_type": "code",
   "execution_count": 2,
   "id": "bb44ce7f",
   "metadata": {},
   "outputs": [],
   "source": [
    "  l = []\n",
    "for i in dict1:\n",
    "    if type(dict1[i]) == dict:\n",
    "        for j in dict1[i]:\n",
    "            l.append(dict1[i][j])\n",
    "    else:\n",
    "         l.append(i)  "
   ]
  },
  {
   "cell_type": "code",
   "execution_count": 3,
   "id": "b9c84579",
   "metadata": {},
   "outputs": [
    {
     "data": {
      "text/plain": [
       "['Abhishek', 25, '311-7']"
      ]
     },
     "execution_count": 3,
     "metadata": {},
     "output_type": "execute_result"
    }
   ],
   "source": [
    "l"
   ]
  },
  {
   "cell_type": "code",
   "execution_count": 4,
   "id": "ba654140",
   "metadata": {},
   "outputs": [],
   "source": [
    "lNumerate = ['1','2','3']"
   ]
  },
  {
   "cell_type": "code",
   "execution_count": 7,
   "id": "8b88268c",
   "metadata": {},
   "outputs": [
    {
     "data": {
      "text/plain": [
       "[(0, '1'), (1, '2'), (2, '3')]"
      ]
     },
     "execution_count": 7,
     "metadata": {},
     "output_type": "execute_result"
    }
   ],
   "source": [
    "list(enumerate(lNumerate))"
   ]
  },
  {
   "cell_type": "code",
   "execution_count": 8,
   "id": "b825450b",
   "metadata": {},
   "outputs": [],
   "source": [
    "import os\n"
   ]
  },
  {
   "cell_type": "code",
   "execution_count": 10,
   "id": "c363b8ee",
   "metadata": {},
   "outputs": [
    {
     "data": {
      "text/plain": [
       "['HW_4.pdf',\n",
       " 'MTH418_1_2017.pdf',\n",
       " 'MTH418_2_2017.pdf',\n",
       " 'MTH418_3_2017.pdf',\n",
       " 'MTH418_4_2017 (1).pdf',\n",
       " 'MTH418_5_2017.pdf',\n",
       " 'MTH418_6_2017.pdf',\n",
       " 'MTH418_8_2017.pdf',\n",
       " 'MTH517_8_2017.pdf',\n",
       " 'MTH517_9_2017.pdf',\n",
       " 'review_problems_1.pdf',\n",
       " 'review_problems_2.pdf']"
      ]
     },
     "execution_count": 10,
     "metadata": {},
     "output_type": "execute_result"
    }
   ],
   "source": [
    "os.listdir(\"D:\\\\IITAssign\\\\amit mitra\")"
   ]
  },
  {
   "cell_type": "code",
   "execution_count": 11,
   "id": "1951ecf7",
   "metadata": {},
   "outputs": [],
   "source": [
    "a = 2"
   ]
  },
  {
   "cell_type": "code",
   "execution_count": 12,
   "id": "b2d77fea",
   "metadata": {},
   "outputs": [
    {
     "name": "stdout",
     "output_type": "stream",
     "text": [
      "This is 2\n"
     ]
    }
   ],
   "source": [
    "print(\"This is\", a)"
   ]
  },
  {
   "cell_type": "code",
   "execution_count": 13,
   "id": "ff5e766a",
   "metadata": {},
   "outputs": [],
   "source": [
    "import platform"
   ]
  },
  {
   "cell_type": "code",
   "execution_count": 19,
   "id": "50975e74",
   "metadata": {},
   "outputs": [],
   "source": [
    "x = platform.uname()\n",
    "\n"
   ]
  },
  {
   "cell_type": "code",
   "execution_count": 22,
   "id": "648181c5",
   "metadata": {},
   "outputs": [
    {
     "data": {
      "text/plain": [
       "'10.0.19041'"
      ]
     },
     "execution_count": 22,
     "metadata": {},
     "output_type": "execute_result"
    }
   ],
   "source": [
    "x.version\n",
    "\n"
   ]
  },
  {
   "cell_type": "code",
   "execution_count": 10,
   "id": "c6d66c6e",
   "metadata": {},
   "outputs": [
    {
     "name": "stdout",
     "output_type": "stream",
     "text": [
      "Name Abhishek\n",
      "Age 25\n",
      "Id 311-7\n"
     ]
    }
   ],
   "source": [
    "for i in dict1.items():\n",
    "    print(i[0], i[1])"
   ]
  },
  {
   "cell_type": "code",
   "execution_count": 8,
   "id": "1290f0a4",
   "metadata": {},
   "outputs": [
    {
     "data": {
      "text/plain": [
       "{'Name': 'Abhishek', 'Age': 25, 'Id': '311-7'}"
      ]
     },
     "execution_count": 8,
     "metadata": {},
     "output_type": "execute_result"
    }
   ],
   "source": [
    "dict1"
   ]
  },
  {
   "cell_type": "code",
   "execution_count": null,
   "id": "55fe3ffa",
   "metadata": {},
   "outputs": [],
   "source": []
  }
 ],
 "metadata": {
  "kernelspec": {
   "display_name": "Python 3 (ipykernel)",
   "language": "python",
   "name": "python3"
  },
  "language_info": {
   "codemirror_mode": {
    "name": "ipython",
    "version": 3
   },
   "file_extension": ".py",
   "mimetype": "text/x-python",
   "name": "python",
   "nbconvert_exporter": "python",
   "pygments_lexer": "ipython3",
   "version": "3.9.7"
  }
 },
 "nbformat": 4,
 "nbformat_minor": 5
}
