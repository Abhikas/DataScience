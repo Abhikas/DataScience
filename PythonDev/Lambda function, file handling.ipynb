{
 "cells": [
  {
   "cell_type": "code",
   "execution_count": 1,
   "id": "6cf99d5e",
   "metadata": {},
   "outputs": [],
   "source": [
    "def test(a,b,c,d,e):\n",
    "    return a,b,c,d,e"
   ]
  },
  {
   "cell_type": "code",
   "execution_count": 2,
   "id": "68169191",
   "metadata": {},
   "outputs": [
    {
     "data": {
      "text/plain": [
       "(20, 30, 29, 23, 34)"
      ]
     },
     "execution_count": 2,
     "metadata": {},
     "output_type": "execute_result"
    }
   ],
   "source": [
    "test(20,30,29,23,34)"
   ]
  },
  {
   "cell_type": "code",
   "execution_count": 3,
   "id": "dc75ad60",
   "metadata": {},
   "outputs": [],
   "source": [
    "def test1(*args):\n",
    "    return args"
   ]
  },
  {
   "cell_type": "code",
   "execution_count": 4,
   "id": "bbdda971",
   "metadata": {},
   "outputs": [
    {
     "data": {
      "text/plain": [
       "(20, [2, 3, 5, 6], 'Abhishek')"
      ]
     },
     "execution_count": 4,
     "metadata": {},
     "output_type": "execute_result"
    }
   ],
   "source": [
    "test1(20, [2,3,5,6], \"Abhishek\")"
   ]
  },
  {
   "cell_type": "code",
   "execution_count": 5,
   "id": "c410ffcd",
   "metadata": {},
   "outputs": [],
   "source": [
    "def test1(*Abhi, a):\n",
    "    return Abhi, a"
   ]
  },
  {
   "cell_type": "code",
   "execution_count": 9,
   "id": "0e056ca1",
   "metadata": {},
   "outputs": [
    {
     "data": {
      "text/plain": [
       "(([3, 4, 5], 4), 'gjhgh')"
      ]
     },
     "execution_count": 9,
     "metadata": {},
     "output_type": "execute_result"
    }
   ],
   "source": [
    "test1([3,4,5],4, a = \"gjhgh\")"
   ]
  },
  {
   "cell_type": "code",
   "execution_count": 10,
   "id": "84f57ef0",
   "metadata": {},
   "outputs": [],
   "source": [
    "def test1(a, *Abhi):\n",
    "    return Abhi, a"
   ]
  },
  {
   "cell_type": "code",
   "execution_count": 12,
   "id": "89d97bb6",
   "metadata": {},
   "outputs": [
    {
     "data": {
      "text/plain": [
       "((4,), [3, 4, 5])"
      ]
     },
     "execution_count": 12,
     "metadata": {},
     "output_type": "execute_result"
    }
   ],
   "source": [
    "test1([3,4,5],4)"
   ]
  },
  {
   "cell_type": "code",
   "execution_count": 25,
   "id": "2797f60a",
   "metadata": {},
   "outputs": [],
   "source": [
    "def test2(**kwargs):\n",
    "    return kwargs"
   ]
  },
  {
   "cell_type": "code",
   "execution_count": 26,
   "id": "c2df5e38",
   "metadata": {},
   "outputs": [
    {
     "data": {
      "text/plain": [
       "{'a': 3, 'b': 6}"
      ]
     },
     "execution_count": 26,
     "metadata": {},
     "output_type": "execute_result"
    }
   ],
   "source": [
    "test2(a=3,b=6)"
   ]
  },
  {
   "cell_type": "code",
   "execution_count": 19,
   "id": "61617c93",
   "metadata": {},
   "outputs": [],
   "source": [
    "dict1 = {\"Name\": \"Abhishek\", \"Age\": 25, \"Id\": \"311-7\"}"
   ]
  },
  {
   "cell_type": "code",
   "execution_count": 23,
   "id": "a1265c21",
   "metadata": {},
   "outputs": [
    {
     "data": {
      "text/plain": [
       "{'a': {'Name': 'Abhishek', 'Age': 25, 'Id': '311-7'}}"
      ]
     },
     "execution_count": 23,
     "metadata": {},
     "output_type": "execute_result"
    }
   ],
   "source": [
    "test2(a = dict1)"
   ]
  },
  {
   "cell_type": "code",
   "execution_count": 27,
   "id": "5ca8ace0",
   "metadata": {},
   "outputs": [
    {
     "data": {
      "text/plain": [
       "{'Name': 'Abhishek', 'Age': 25, 'Id': '311-7'}"
      ]
     },
     "execution_count": 27,
     "metadata": {},
     "output_type": "execute_result"
    }
   ],
   "source": [
    "test2(Name= \"Abhishek\", Age= 25, Id= \"311-7\")"
   ]
  },
  {
   "cell_type": "code",
   "execution_count": 28,
   "id": "b5221f60",
   "metadata": {},
   "outputs": [],
   "source": [
    "def test3(a,b):\n",
    "    return a*b"
   ]
  },
  {
   "cell_type": "code",
   "execution_count": 29,
   "id": "6dcf13a4",
   "metadata": {},
   "outputs": [
    {
     "data": {
      "text/plain": [
       "500"
      ]
     },
     "execution_count": 29,
     "metadata": {},
     "output_type": "execute_result"
    }
   ],
   "source": [
    "test3(20,25)"
   ]
  },
  {
   "cell_type": "code",
   "execution_count": 33,
   "id": "77ce5ef8",
   "metadata": {},
   "outputs": [],
   "source": [
    "a = lambda a, b:a*b"
   ]
  },
  {
   "cell_type": "code",
   "execution_count": 34,
   "id": "d78fe09b",
   "metadata": {},
   "outputs": [
    {
     "data": {
      "text/plain": [
       "3015"
      ]
     },
     "execution_count": 34,
     "metadata": {},
     "output_type": "execute_result"
    }
   ],
   "source": [
    "a(45,67)"
   ]
  },
  {
   "cell_type": "code",
   "execution_count": 36,
   "id": "a6557db2",
   "metadata": {},
   "outputs": [],
   "source": [
    "a = lambda a, b:(a*b, a+b)"
   ]
  },
  {
   "cell_type": "code",
   "execution_count": 37,
   "id": "dd2120c0",
   "metadata": {},
   "outputs": [
    {
     "data": {
      "text/plain": [
       "(500, 45)"
      ]
     },
     "execution_count": 37,
     "metadata": {},
     "output_type": "execute_result"
    }
   ],
   "source": [
    "a(20,25)"
   ]
  },
  {
   "cell_type": "code",
   "execution_count": 38,
   "id": "d7b6be7b",
   "metadata": {},
   "outputs": [],
   "source": [
    "x = lambda x :[i for i in x]"
   ]
  },
  {
   "cell_type": "code",
   "execution_count": 40,
   "id": "d1fdd022",
   "metadata": {},
   "outputs": [
    {
     "data": {
      "text/plain": [
       "[2, 3, 4, 5]"
      ]
     },
     "execution_count": 40,
     "metadata": {},
     "output_type": "execute_result"
    }
   ],
   "source": [
    "x([2,3,4,5])"
   ]
  },
  {
   "cell_type": "code",
   "execution_count": 41,
   "id": "ffa486dc",
   "metadata": {},
   "outputs": [],
   "source": [
    "l = [1,2,3,4,5,6]"
   ]
  },
  {
   "cell_type": "code",
   "execution_count": 42,
   "id": "1ba5ec9a",
   "metadata": {},
   "outputs": [],
   "source": [
    "x = lambda x :[i+2 for i in x]"
   ]
  },
  {
   "cell_type": "code",
   "execution_count": 43,
   "id": "30e6b395",
   "metadata": {},
   "outputs": [
    {
     "data": {
      "text/plain": [
       "[4, 5, 6, 7]"
      ]
     },
     "execution_count": 43,
     "metadata": {},
     "output_type": "execute_result"
    }
   ],
   "source": [
    "x([2,3,4,5])"
   ]
  },
  {
   "cell_type": "code",
   "execution_count": 46,
   "id": "8ceaa528",
   "metadata": {},
   "outputs": [
    {
     "data": {
      "text/plain": [
       "[(1, 3), (4, 4), (9, 5)]"
      ]
     },
     "execution_count": 46,
     "metadata": {},
     "output_type": "execute_result"
    }
   ],
   "source": [
    "[(i**2, i+2) for i in l if i<4]"
   ]
  },
  {
   "cell_type": "code",
   "execution_count": 47,
   "id": "4fb96400",
   "metadata": {},
   "outputs": [],
   "source": [
    "d = {1:1, 2:4, 3:9}"
   ]
  },
  {
   "cell_type": "code",
   "execution_count": 48,
   "id": "04823e61",
   "metadata": {},
   "outputs": [
    {
     "data": {
      "text/plain": [
       "{0: 0, 1: 1, 2: 4, 3: 9, 4: 16, 5: 25, 6: 36, 7: 49, 8: 64, 9: 81}"
      ]
     },
     "execution_count": 48,
     "metadata": {},
     "output_type": "execute_result"
    }
   ],
   "source": [
    "{i:i**2 for i in range(10)}"
   ]
  },
  {
   "cell_type": "code",
   "execution_count": 50,
   "id": "b4584553",
   "metadata": {},
   "outputs": [],
   "source": [
    "d1 = {}\n",
    "for i in range(10):\n",
    "    d1[i] = i**2"
   ]
  },
  {
   "cell_type": "code",
   "execution_count": 51,
   "id": "bb95e950",
   "metadata": {},
   "outputs": [
    {
     "data": {
      "text/plain": [
       "{0: 0, 1: 1, 2: 4, 3: 9, 4: 16, 5: 25, 6: 36, 7: 49, 8: 64, 9: 81}"
      ]
     },
     "execution_count": 51,
     "metadata": {},
     "output_type": "execute_result"
    }
   ],
   "source": [
    "d1"
   ]
  },
  {
   "cell_type": "code",
   "execution_count": 52,
   "id": "fac6bbb1",
   "metadata": {},
   "outputs": [
    {
     "data": {
      "text/plain": [
       "(0, 1, 2, 3, 4, 5, 6, 7, 8, 9)"
      ]
     },
     "execution_count": 52,
     "metadata": {},
     "output_type": "execute_result"
    }
   ],
   "source": [
    "tuple(i for i in range(10))"
   ]
  },
  {
   "cell_type": "code",
   "execution_count": 53,
   "id": "cc263751",
   "metadata": {},
   "outputs": [
    {
     "ename": "TypeError",
     "evalue": "'int' object is not iterable",
     "output_type": "error",
     "traceback": [
      "\u001b[1;31m---------------------------------------------------------------------------\u001b[0m",
      "\u001b[1;31mTypeError\u001b[0m                                 Traceback (most recent call last)",
      "\u001b[1;32m~\\AppData\\Local\\Temp/ipykernel_4024/4248146362.py\u001b[0m in \u001b[0;36m<module>\u001b[1;34m\u001b[0m\n\u001b[0;32m      1\u001b[0m \u001b[0ma\u001b[0m \u001b[1;33m=\u001b[0m \u001b[1;36m56\u001b[0m\u001b[1;33m\u001b[0m\u001b[1;33m\u001b[0m\u001b[0m\n\u001b[1;32m----> 2\u001b[1;33m \u001b[1;32mfor\u001b[0m \u001b[0mi\u001b[0m \u001b[1;32min\u001b[0m \u001b[0ma\u001b[0m \u001b[1;33m:\u001b[0m\u001b[1;33m\u001b[0m\u001b[1;33m\u001b[0m\u001b[0m\n\u001b[0m\u001b[0;32m      3\u001b[0m     \u001b[0mprint\u001b[0m\u001b[1;33m(\u001b[0m\u001b[0mi\u001b[0m\u001b[1;33m)\u001b[0m\u001b[1;33m\u001b[0m\u001b[1;33m\u001b[0m\u001b[0m\n",
      "\u001b[1;31mTypeError\u001b[0m: 'int' object is not iterable"
     ]
    }
   ],
   "source": [
    "a = 56\n",
    "for i in a :\n",
    "    print(i)"
   ]
  },
  {
   "cell_type": "code",
   "execution_count": 54,
   "id": "17ad0139",
   "metadata": {},
   "outputs": [
    {
     "name": "stdout",
     "output_type": "stream",
     "text": [
      "s\n",
      "u\n",
      "d\n",
      "h\n"
     ]
    }
   ],
   "source": [
    "s = \"sudh\"\n",
    "for i in s :\n",
    "    print(i)"
   ]
  },
  {
   "cell_type": "code",
   "execution_count": 55,
   "id": "38cc1333",
   "metadata": {},
   "outputs": [
    {
     "ename": "TypeError",
     "evalue": "'str' object is not an iterator",
     "output_type": "error",
     "traceback": [
      "\u001b[1;31m---------------------------------------------------------------------------\u001b[0m",
      "\u001b[1;31mTypeError\u001b[0m                                 Traceback (most recent call last)",
      "\u001b[1;32m~\\AppData\\Local\\Temp/ipykernel_4024/1977886155.py\u001b[0m in \u001b[0;36m<module>\u001b[1;34m\u001b[0m\n\u001b[1;32m----> 1\u001b[1;33m \u001b[0mnext\u001b[0m\u001b[1;33m(\u001b[0m\u001b[0ms\u001b[0m\u001b[1;33m)\u001b[0m\u001b[1;33m\u001b[0m\u001b[1;33m\u001b[0m\u001b[0m\n\u001b[0m",
      "\u001b[1;31mTypeError\u001b[0m: 'str' object is not an iterator"
     ]
    }
   ],
   "source": [
    "next(s)"
   ]
  },
  {
   "cell_type": "code",
   "execution_count": 56,
   "id": "4bc5339b",
   "metadata": {},
   "outputs": [],
   "source": [
    "b = iter(s)"
   ]
  },
  {
   "cell_type": "code",
   "execution_count": 57,
   "id": "9f9b67f2",
   "metadata": {},
   "outputs": [
    {
     "data": {
      "text/plain": [
       "<str_iterator at 0x176d808c730>"
      ]
     },
     "execution_count": 57,
     "metadata": {},
     "output_type": "execute_result"
    }
   ],
   "source": [
    "b"
   ]
  },
  {
   "cell_type": "code",
   "execution_count": 58,
   "id": "fb8324ae",
   "metadata": {},
   "outputs": [
    {
     "data": {
      "text/plain": [
       "'s'"
      ]
     },
     "execution_count": 58,
     "metadata": {},
     "output_type": "execute_result"
    }
   ],
   "source": [
    "next(b)"
   ]
  },
  {
   "cell_type": "code",
   "execution_count": 59,
   "id": "9c2f2e3c",
   "metadata": {},
   "outputs": [
    {
     "data": {
      "text/plain": [
       "'u'"
      ]
     },
     "execution_count": 59,
     "metadata": {},
     "output_type": "execute_result"
    }
   ],
   "source": [
    "next(b)"
   ]
  },
  {
   "cell_type": "code",
   "execution_count": 62,
   "id": "131e6467",
   "metadata": {},
   "outputs": [],
   "source": [
    "s = {1,2,3}"
   ]
  },
  {
   "cell_type": "code",
   "execution_count": 65,
   "id": "dde79c93",
   "metadata": {},
   "outputs": [],
   "source": [
    "b =iter(s)"
   ]
  },
  {
   "cell_type": "code",
   "execution_count": 66,
   "id": "6f698337",
   "metadata": {},
   "outputs": [
    {
     "data": {
      "text/plain": [
       "1"
      ]
     },
     "execution_count": 66,
     "metadata": {},
     "output_type": "execute_result"
    }
   ],
   "source": [
    "next(b)"
   ]
  },
  {
   "cell_type": "code",
   "execution_count": 67,
   "id": "705266ad",
   "metadata": {},
   "outputs": [],
   "source": [
    "d1 = {\"Name\": \"Abhishek\", \"Age\": 25, \"Salary\": 20000}"
   ]
  },
  {
   "cell_type": "code",
   "execution_count": 68,
   "id": "2cba6a6a",
   "metadata": {},
   "outputs": [],
   "source": [
    "d1[\"Phone No\"] = 89099855"
   ]
  },
  {
   "cell_type": "code",
   "execution_count": 69,
   "id": "03448de8",
   "metadata": {},
   "outputs": [
    {
     "data": {
      "text/plain": [
       "{'Name': 'Abhishek', 'Age': 25, 'Salary': 20000, 'Phone No': 89099855}"
      ]
     },
     "execution_count": 69,
     "metadata": {},
     "output_type": "execute_result"
    }
   ],
   "source": [
    "d1"
   ]
  },
  {
   "cell_type": "code",
   "execution_count": 70,
   "id": "c500de55",
   "metadata": {},
   "outputs": [
    {
     "data": {
      "text/plain": [
       "[1, 2, 3, 4, 5, 6]"
      ]
     },
     "execution_count": 70,
     "metadata": {},
     "output_type": "execute_result"
    }
   ],
   "source": [
    "l"
   ]
  },
  {
   "cell_type": "code",
   "execution_count": 74,
   "id": "29f645d8",
   "metadata": {},
   "outputs": [],
   "source": [
    "l1=[]"
   ]
  },
  {
   "cell_type": "code",
   "execution_count": 75,
   "id": "57227c70",
   "metadata": {},
   "outputs": [
    {
     "data": {
      "text/plain": [
       "[{'Name': 'Abhishek', 'Age': 25, 'Salary': 20000, 'Phone No': 89099855}]"
      ]
     },
     "execution_count": 75,
     "metadata": {},
     "output_type": "execute_result"
    }
   ],
   "source": [
    "l1.append(d1)\n",
    "l1"
   ]
  },
  {
   "cell_type": "code",
   "execution_count": 76,
   "id": "2bbfc6fe",
   "metadata": {},
   "outputs": [],
   "source": [
    "d2 = {}"
   ]
  },
  {
   "cell_type": "code",
   "execution_count": 77,
   "id": "ec390dd4",
   "metadata": {},
   "outputs": [
    {
     "data": {
      "text/plain": [
       "dict"
      ]
     },
     "execution_count": 77,
     "metadata": {},
     "output_type": "execute_result"
    }
   ],
   "source": [
    "type(d2)"
   ]
  },
  {
   "cell_type": "code",
   "execution_count": 78,
   "id": "ed161a2b",
   "metadata": {},
   "outputs": [
    {
     "name": "stdout",
     "output_type": "stream",
     "text": [
      "{'Name': 'Abhishek', 'Age': 25, 'Salary': 20000, 'Phone No': 89099855}\n"
     ]
    }
   ],
   "source": [
    "for i in l1:\n",
    "    print(i)"
   ]
  },
  {
   "cell_type": "code",
   "execution_count": 82,
   "id": "f38c4ff8",
   "metadata": {},
   "outputs": [
    {
     "ename": "IndentationError",
     "evalue": "expected an indented block (Temp/ipykernel_4024/3229714078.py, line 5)",
     "output_type": "error",
     "traceback": [
      "\u001b[1;36m  File \u001b[1;32m\"C:\\Users\\win\\AppData\\Local\\Temp/ipykernel_4024/3229714078.py\"\u001b[1;36m, line \u001b[1;32m5\u001b[0m\n\u001b[1;33m    d2[j] = i[j]\u001b[0m\n\u001b[1;37m    ^\u001b[0m\n\u001b[1;31mIndentationError\u001b[0m\u001b[1;31m:\u001b[0m expected an indented block\n"
     ]
    }
   ],
   "source": []
  },
  {
   "cell_type": "code",
   "execution_count": 89,
   "id": "4c2760e4",
   "metadata": {},
   "outputs": [],
   "source": [
    "d2 = {}\n",
    "for i in l1:\n",
    "    for j in i:\n",
    "        d2[j] = i[j]\n"
   ]
  },
  {
   "cell_type": "code",
   "execution_count": 90,
   "id": "e9bcf437",
   "metadata": {},
   "outputs": [
    {
     "data": {
      "text/plain": [
       "{'Name': 'Abhishek', 'Age': 25, 'Salary': 20000, 'Phone No': 89099855}"
      ]
     },
     "execution_count": 90,
     "metadata": {},
     "output_type": "execute_result"
    }
   ],
   "source": [
    "d2"
   ]
  },
  {
   "cell_type": "code",
   "execution_count": 102,
   "id": "e98cdbb9",
   "metadata": {},
   "outputs": [],
   "source": [
    "d3 = {}\n",
    "k = 0\n",
    "for i in l1:\n",
    "    for j in i:\n",
    "        if k < 1:\n",
    "            d3[j] = i[j]\n",
    "            k = k+1\n",
    "   "
   ]
  },
  {
   "cell_type": "code",
   "execution_count": 103,
   "id": "9566cfdd",
   "metadata": {},
   "outputs": [
    {
     "data": {
      "text/plain": [
       "{'Name': 'Abhishek'}"
      ]
     },
     "execution_count": 103,
     "metadata": {},
     "output_type": "execute_result"
    }
   ],
   "source": [
    "d3"
   ]
  },
  {
   "cell_type": "code",
   "execution_count": 104,
   "id": "e7094edc",
   "metadata": {},
   "outputs": [],
   "source": [
    "l1 = [2,3,4,5,6]"
   ]
  },
  {
   "cell_type": "code",
   "execution_count": 105,
   "id": "b3230a84",
   "metadata": {},
   "outputs": [],
   "source": [
    "a = lambda x : [i for i in l1 if i%2 == 0]"
   ]
  },
  {
   "cell_type": "code",
   "execution_count": 106,
   "id": "4b874bd9",
   "metadata": {},
   "outputs": [
    {
     "data": {
      "text/plain": [
       "[2, 4, 6]"
      ]
     },
     "execution_count": 106,
     "metadata": {},
     "output_type": "execute_result"
    }
   ],
   "source": [
    "a(l1)"
   ]
  },
  {
   "cell_type": "code",
   "execution_count": 1,
   "id": "90e911c5",
   "metadata": {},
   "outputs": [],
   "source": [
    "a = range(0,6)"
   ]
  },
  {
   "cell_type": "code",
   "execution_count": 4,
   "id": "d32aae5c",
   "metadata": {},
   "outputs": [
    {
     "data": {
      "text/plain": [
       "range(0, 6)"
      ]
     },
     "execution_count": 4,
     "metadata": {},
     "output_type": "execute_result"
    }
   ],
   "source": [
    "range(0,6)"
   ]
  },
  {
   "cell_type": "code",
   "execution_count": 2,
   "id": "ef98a346",
   "metadata": {},
   "outputs": [],
   "source": [
    "r = iter(a)"
   ]
  },
  {
   "cell_type": "code",
   "execution_count": 3,
   "id": "b0f74baa",
   "metadata": {},
   "outputs": [
    {
     "data": {
      "text/plain": [
       "0"
      ]
     },
     "execution_count": 3,
     "metadata": {},
     "output_type": "execute_result"
    }
   ],
   "source": [
    "next(r)"
   ]
  },
  {
   "cell_type": "code",
   "execution_count": 5,
   "id": "5b823cb9",
   "metadata": {},
   "outputs": [],
   "source": [
    "def gencube(n):\n",
    "    for i in range(n):\n",
    "        yield i**3"
   ]
  },
  {
   "cell_type": "code",
   "execution_count": 6,
   "id": "97bc692a",
   "metadata": {},
   "outputs": [
    {
     "data": {
      "text/plain": [
       "<generator object gencube at 0x00000142430DC3C0>"
      ]
     },
     "execution_count": 6,
     "metadata": {},
     "output_type": "execute_result"
    }
   ],
   "source": [
    "gencube(10)"
   ]
  },
  {
   "cell_type": "code",
   "execution_count": 9,
   "id": "9e60bfb0",
   "metadata": {},
   "outputs": [
    {
     "name": "stdout",
     "output_type": "stream",
     "text": [
      "0\n",
      "1\n",
      "8\n",
      "27\n",
      "64\n",
      "125\n",
      "216\n",
      "343\n",
      "512\n",
      "729\n"
     ]
    }
   ],
   "source": [
    "for i in gencube(10):\n",
    "    print(i)"
   ]
  },
  {
   "cell_type": "code",
   "execution_count": 10,
   "id": "eb72d0ac",
   "metadata": {},
   "outputs": [],
   "source": [
    "def fib(n):\n",
    "    a = 1\n",
    "    b = 1\n",
    "    for i in range(n):\n",
    "        yield a ,i\n",
    "        a,b = b, a+b"
   ]
  },
  {
   "cell_type": "code",
   "execution_count": 12,
   "id": "01f285c7",
   "metadata": {},
   "outputs": [
    {
     "name": "stdout",
     "output_type": "stream",
     "text": [
      "(1, 0)\n",
      "(1, 1)\n",
      "(2, 2)\n",
      "(3, 3)\n",
      "(5, 4)\n",
      "(8, 5)\n",
      "(13, 6)\n",
      "(21, 7)\n",
      "(34, 8)\n",
      "(55, 9)\n"
     ]
    }
   ],
   "source": [
    "for i in fib(10):\n",
    "    print(i)"
   ]
  },
  {
   "cell_type": "code",
   "execution_count": 17,
   "id": "8b18e7fc",
   "metadata": {},
   "outputs": [],
   "source": [
    "def fib(n):\n",
    "    a = 1\n",
    "    b = 1\n",
    "    output = []\n",
    "    for i in range(n):\n",
    "        output.append(a)\n",
    "        a,b = b, a+b\n",
    "    return output"
   ]
  },
  {
   "cell_type": "code",
   "execution_count": 18,
   "id": "8579e82d",
   "metadata": {},
   "outputs": [
    {
     "data": {
      "text/plain": [
       "[1, 1, 2, 3, 5, 8, 13, 21, 34, 55]"
      ]
     },
     "execution_count": 18,
     "metadata": {},
     "output_type": "execute_result"
    }
   ],
   "source": [
    "fib(10)"
   ]
  },
  {
   "cell_type": "code",
   "execution_count": 19,
   "id": "7787c1f1",
   "metadata": {},
   "outputs": [
    {
     "data": {
      "text/plain": [
       "'C:\\\\Users\\\\win'"
      ]
     },
     "execution_count": 19,
     "metadata": {},
     "output_type": "execute_result"
    }
   ],
   "source": [
    "pwd()\n"
   ]
  },
  {
   "cell_type": "code",
   "execution_count": 28,
   "id": "e3c9036c",
   "metadata": {},
   "outputs": [],
   "source": [
    "f = open(\"test.txt\", \"w\")"
   ]
  },
  {
   "cell_type": "code",
   "execution_count": 24,
   "id": "64516e86",
   "metadata": {},
   "outputs": [
    {
     "name": "stdout",
     "output_type": "stream",
     "text": [
      " Volume in drive C has no label.\n",
      " Volume Serial Number is 0CEE-C01D\n",
      "\n",
      " Directory of C:\\Users\\win\n",
      "\n",
      "09-01-2022  11:56    <DIR>          .\n",
      "09-01-2022  11:56    <DIR>          ..\n",
      "03-12-2021  01:42    <DIR>          .conda\n",
      "28-11-2021  12:21                25 .condarc\n",
      "28-11-2021  12:21    <DIR>          .continuum\n",
      "04-05-2020  22:54    <DIR>          .idlerc\n",
      "08-01-2022  12:13    <DIR>          .ipynb_checkpoints\n",
      "02-12-2021  22:41    <DIR>          .ipython\n",
      "04-12-2021  10:12    <DIR>          .jupyter\n",
      "25-12-2021  17:13    <DIR>          .matplotlib\n",
      "07-12-2021  00:42                20 .python_history\n",
      "05-10-2020  03:27    <DIR>          3D Objects\n",
      "28-11-2021  12:16    <DIR>          anaconda3\n",
      "26-12-2021  19:42            14,257 Condition and For loop.ipynb\n",
      "05-10-2020  03:27    <DIR>          Contacts\n",
      "14-03-2021  17:31    <DIR>          Desktop\n",
      "28-11-2021  12:16    <DIR>          Documents\n",
      "09-01-2022  09:59    <DIR>          Downloads\n",
      "05-10-2020  03:27    <DIR>          Favorites\n",
      "27-12-2021  01:00            19,974 for loops while loop.ipynb\n",
      "08-01-2022  10:54            10,023 Functions.ipynb\n",
      "09-01-2022  11:55            24,814 Lambda function.ipynb\n",
      "05-10-2020  03:27    <DIR>          Links\n",
      "05-10-2020  03:27    <DIR>          Music\n",
      "29-03-2021  19:08    <DIR>          OneDrive\n",
      "04-01-2022  00:37         1,055,333 Pandas session 1 (1).ipynb\n",
      "04-01-2022  00:55            51,952 Pandas.ipynb\n",
      "05-10-2020  03:27    <DIR>          Pictures\n",
      "31-12-2021  18:32            55,509 practice problem python basic.ipynb\n",
      "29-12-2021  02:54            10,491 Practice.ipynb\n",
      "18-12-2021  17:34            35,677 Python basic (3).ipynb\n",
      "05-10-2020  03:27    <DIR>          Saved Games\n",
      "05-10-2020  03:27    <DIR>          Searches\n",
      "01-05-2020  22:44    <DIR>          source\n",
      "05-12-2021  17:49            18,616 String.ipynb\n",
      "09-01-2022  11:56                 0 test.txt\n",
      "09-01-2022  10:08    <DIR>          Tracing\n",
      "19-12-2021  01:04            30,232 Tuple.ipynb\n",
      "05-10-2020  03:27    <DIR>          Videos\n",
      "              14 File(s)      1,326,923 bytes\n",
      "              25 Dir(s)  96,649,232,384 bytes free\n"
     ]
    }
   ],
   "source": [
    "\n",
    "ls"
   ]
  },
  {
   "cell_type": "code",
   "execution_count": 29,
   "id": "434977c3",
   "metadata": {},
   "outputs": [
    {
     "data": {
      "text/plain": [
       "74"
      ]
     },
     "execution_count": 29,
     "metadata": {},
     "output_type": "execute_result"
    }
   ],
   "source": [
    "f.write(\"This is my first file operation jhjsdfjsdfhhf jkhhjkhkjh jjkhh in test.txt\")"
   ]
  },
  {
   "cell_type": "code",
   "execution_count": 30,
   "id": "0e831831",
   "metadata": {},
   "outputs": [],
   "source": [
    "f.close()"
   ]
  },
  {
   "cell_type": "code",
   "execution_count": 31,
   "id": "4ffda430",
   "metadata": {},
   "outputs": [],
   "source": [
    "f = open(\"test.txt\")"
   ]
  },
  {
   "cell_type": "code",
   "execution_count": 32,
   "id": "99597303",
   "metadata": {},
   "outputs": [
    {
     "data": {
      "text/plain": [
       "'This is my first file operation jhjsdfjsdfhhf jkhhjkhkjh jjkhh in test.txt'"
      ]
     },
     "execution_count": 32,
     "metadata": {},
     "output_type": "execute_result"
    }
   ],
   "source": [
    "f.read()"
   ]
  },
  {
   "cell_type": "code",
   "execution_count": 33,
   "id": "9c38eb98",
   "metadata": {},
   "outputs": [
    {
     "data": {
      "text/plain": [
       "''"
      ]
     },
     "execution_count": 33,
     "metadata": {},
     "output_type": "execute_result"
    }
   ],
   "source": [
    "f.read()"
   ]
  },
  {
   "cell_type": "code",
   "execution_count": 34,
   "id": "154fb4cb",
   "metadata": {},
   "outputs": [
    {
     "data": {
      "text/plain": [
       "5"
      ]
     },
     "execution_count": 34,
     "metadata": {},
     "output_type": "execute_result"
    }
   ],
   "source": [
    "f.seek(5)"
   ]
  },
  {
   "cell_type": "code",
   "execution_count": 35,
   "id": "da5f960a",
   "metadata": {},
   "outputs": [
    {
     "data": {
      "text/plain": [
       "'is my first file operation jhjsdfjsdfhhf jkhhjkhkjh jjkhh in test.txt'"
      ]
     },
     "execution_count": 35,
     "metadata": {},
     "output_type": "execute_result"
    }
   ],
   "source": [
    "f.read()"
   ]
  },
  {
   "cell_type": "code",
   "execution_count": 36,
   "id": "0c1b40f3",
   "metadata": {},
   "outputs": [
    {
     "data": {
      "text/plain": [
       "0"
      ]
     },
     "execution_count": 36,
     "metadata": {},
     "output_type": "execute_result"
    }
   ],
   "source": [
    "f.seek(0)"
   ]
  },
  {
   "cell_type": "code",
   "execution_count": 37,
   "id": "682d9ad4",
   "metadata": {},
   "outputs": [
    {
     "data": {
      "text/plain": [
       "'This is my first file operation jhjsdfjsdfhhf jkhhjkhkjh jjkhh in test.txt'"
      ]
     },
     "execution_count": 37,
     "metadata": {},
     "output_type": "execute_result"
    }
   ],
   "source": [
    "f.read()"
   ]
  },
  {
   "cell_type": "code",
   "execution_count": 38,
   "id": "313bfd88",
   "metadata": {},
   "outputs": [
    {
     "data": {
      "text/plain": [
       "74"
      ]
     },
     "execution_count": 38,
     "metadata": {},
     "output_type": "execute_result"
    }
   ],
   "source": [
    "f.tell()"
   ]
  },
  {
   "cell_type": "code",
   "execution_count": 39,
   "id": "bcbc33e9",
   "metadata": {},
   "outputs": [
    {
     "data": {
      "text/plain": [
       "10"
      ]
     },
     "execution_count": 39,
     "metadata": {},
     "output_type": "execute_result"
    }
   ],
   "source": [
    "f.seek(10)"
   ]
  },
  {
   "cell_type": "code",
   "execution_count": 40,
   "id": "d8a2ab4f",
   "metadata": {},
   "outputs": [
    {
     "data": {
      "text/plain": [
       "10"
      ]
     },
     "execution_count": 40,
     "metadata": {},
     "output_type": "execute_result"
    }
   ],
   "source": [
    "f.tell()"
   ]
  },
  {
   "cell_type": "code",
   "execution_count": 41,
   "id": "b0f113d1",
   "metadata": {},
   "outputs": [
    {
     "data": {
      "text/plain": [
       "' first file operation jhjsdfjsdfhhf jkhhjkhkjh jjkhh in test.txt'"
      ]
     },
     "execution_count": 41,
     "metadata": {},
     "output_type": "execute_result"
    }
   ],
   "source": [
    "f.readline()"
   ]
  },
  {
   "cell_type": "code",
   "execution_count": 42,
   "id": "0cb85770",
   "metadata": {},
   "outputs": [
    {
     "data": {
      "text/plain": [
       "0"
      ]
     },
     "execution_count": 42,
     "metadata": {},
     "output_type": "execute_result"
    }
   ],
   "source": [
    "f.seek(0)"
   ]
  },
  {
   "cell_type": "code",
   "execution_count": 43,
   "id": "a9594baa",
   "metadata": {},
   "outputs": [
    {
     "data": {
      "text/plain": [
       "'This is my first file operation jhjsdfjsdfhhf jkhhjkhkjh jjkhh in test.txt\\n'"
      ]
     },
     "execution_count": 43,
     "metadata": {},
     "output_type": "execute_result"
    }
   ],
   "source": [
    "f.readline()"
   ]
  },
  {
   "cell_type": "code",
   "execution_count": 44,
   "id": "fe9be749",
   "metadata": {},
   "outputs": [
    {
     "data": {
      "text/plain": [
       "'gghfhg\\n'"
      ]
     },
     "execution_count": 44,
     "metadata": {},
     "output_type": "execute_result"
    }
   ],
   "source": [
    "f.readline()"
   ]
  },
  {
   "cell_type": "code",
   "execution_count": 45,
   "id": "a3431131",
   "metadata": {},
   "outputs": [],
   "source": [
    "import os"
   ]
  },
  {
   "cell_type": "code",
   "execution_count": 46,
   "id": "63116bd6",
   "metadata": {},
   "outputs": [
    {
     "data": {
      "text/plain": [
       "'C:\\\\Users\\\\win'"
      ]
     },
     "execution_count": 46,
     "metadata": {},
     "output_type": "execute_result"
    }
   ],
   "source": [
    "os.getcwd()"
   ]
  },
  {
   "cell_type": "code",
   "execution_count": 47,
   "id": "53890ba1",
   "metadata": {},
   "outputs": [
    {
     "data": {
      "text/plain": [
       "['.conda',\n",
       " '.condarc',\n",
       " '.continuum',\n",
       " '.idlerc',\n",
       " '.ipynb_checkpoints',\n",
       " '.ipython',\n",
       " '.jupyter',\n",
       " '.matplotlib',\n",
       " '.python_history',\n",
       " '3D Objects',\n",
       " 'anaconda3',\n",
       " 'AppData',\n",
       " 'Application Data',\n",
       " 'Condition and For loop.ipynb',\n",
       " 'Contacts',\n",
       " 'Cookies',\n",
       " 'Desktop',\n",
       " 'Documents',\n",
       " 'Downloads',\n",
       " 'Favorites',\n",
       " 'for loops while loop.ipynb',\n",
       " 'Functions.ipynb',\n",
       " 'IntelGraphicsProfiles',\n",
       " 'Lambda function.ipynb',\n",
       " 'Links',\n",
       " 'Local Settings',\n",
       " 'MicrosoftEdgeBackups',\n",
       " 'Music',\n",
       " 'My Documents',\n",
       " 'NetHood',\n",
       " 'NTUSER.DAT',\n",
       " 'ntuser.dat.LOG1',\n",
       " 'ntuser.dat.LOG2',\n",
       " 'NTUSER.DAT{93353658-0687-11eb-9d9c-d11f8e317403}.TM.blf',\n",
       " 'NTUSER.DAT{93353658-0687-11eb-9d9c-d11f8e317403}.TMContainer00000000000000000001.regtrans-ms',\n",
       " 'NTUSER.DAT{93353658-0687-11eb-9d9c-d11f8e317403}.TMContainer00000000000000000002.regtrans-ms',\n",
       " 'ntuser.ini',\n",
       " 'OneDrive',\n",
       " 'Pandas session 1 (1).ipynb',\n",
       " 'Pandas.ipynb',\n",
       " 'Pictures',\n",
       " 'practice problem python basic.ipynb',\n",
       " 'Practice.ipynb',\n",
       " 'PrintHood',\n",
       " 'Python basic (3).ipynb',\n",
       " 'Recent',\n",
       " 'Saved Games',\n",
       " 'Searches',\n",
       " 'SendTo',\n",
       " 'source',\n",
       " 'Start Menu',\n",
       " 'String.ipynb',\n",
       " 'Templates',\n",
       " 'test.txt',\n",
       " 'Tracing',\n",
       " 'Tuple.ipynb',\n",
       " 'Videos']"
      ]
     },
     "execution_count": 47,
     "metadata": {},
     "output_type": "execute_result"
    }
   ],
   "source": [
    "os.listdir()"
   ]
  },
  {
   "cell_type": "code",
   "execution_count": 10,
   "id": "7e71ece8",
   "metadata": {},
   "outputs": [],
   "source": [
    "file1 = open(\"new1.pdf\", 'wb')"
   ]
  },
  {
   "cell_type": "code",
   "execution_count": 12,
   "id": "d608e949",
   "metadata": {},
   "outputs": [
    {
     "ename": "TypeError",
     "evalue": "a bytes-like object is required, not 'int'",
     "output_type": "error",
     "traceback": [
      "\u001b[1;31m---------------------------------------------------------------------------\u001b[0m",
      "\u001b[1;31mTypeError\u001b[0m                                 Traceback (most recent call last)",
      "\u001b[1;32m~\\AppData\\Local\\Temp/ipykernel_4524/1374240710.py\u001b[0m in \u001b[0;36m<module>\u001b[1;34m\u001b[0m\n\u001b[1;32m----> 1\u001b[1;33m \u001b[0mfile1\u001b[0m\u001b[1;33m.\u001b[0m\u001b[0mwrite\u001b[0m\u001b[1;33m(\u001b[0m\u001b[1;36m156265\u001b[0m\u001b[1;33m)\u001b[0m\u001b[1;33m\u001b[0m\u001b[1;33m\u001b[0m\u001b[0m\n\u001b[0m",
      "\u001b[1;31mTypeError\u001b[0m: a bytes-like object is required, not 'int'"
     ]
    }
   ],
   "source": [
    "file1.write(156265)"
   ]
  },
  {
   "cell_type": "code",
   "execution_count": 5,
   "id": "90ddb71f",
   "metadata": {},
   "outputs": [],
   "source": [
    "file1.close()"
   ]
  },
  {
   "cell_type": "code",
   "execution_count": 9,
   "id": "bce90437",
   "metadata": {},
   "outputs": [
    {
     "ename": "TypeError",
     "evalue": "'bool' object is not callable",
     "output_type": "error",
     "traceback": [
      "\u001b[1;31m---------------------------------------------------------------------------\u001b[0m",
      "\u001b[1;31mTypeError\u001b[0m                                 Traceback (most recent call last)",
      "\u001b[1;32m~\\AppData\\Local\\Temp/ipykernel_4524/486381431.py\u001b[0m in \u001b[0;36m<module>\u001b[1;34m\u001b[0m\n\u001b[1;32m----> 1\u001b[1;33m \u001b[0mfile1\u001b[0m\u001b[1;33m.\u001b[0m\u001b[0mclosed\u001b[0m\u001b[1;33m(\u001b[0m\u001b[1;33m)\u001b[0m\u001b[1;33m\u001b[0m\u001b[1;33m\u001b[0m\u001b[0m\n\u001b[0m",
      "\u001b[1;31mTypeError\u001b[0m: 'bool' object is not callable"
     ]
    }
   ],
   "source": [
    "\n"
   ]
  },
  {
   "cell_type": "code",
   "execution_count": 19,
   "id": "dd0a8c5e",
   "metadata": {},
   "outputs": [],
   "source": [
    "l1 = [\"python\", \"Hackathon\"]"
   ]
  },
  {
   "cell_type": "code",
   "execution_count": 20,
   "id": "fef82b56",
   "metadata": {},
   "outputs": [],
   "source": [
    "l1.sort()"
   ]
  },
  {
   "cell_type": "code",
   "execution_count": 21,
   "id": "ac64f59f",
   "metadata": {},
   "outputs": [
    {
     "data": {
      "text/plain": [
       "['Hackathon', 'python']"
      ]
     },
     "execution_count": 21,
     "metadata": {},
     "output_type": "execute_result"
    }
   ],
   "source": [
    "l1"
   ]
  },
  {
   "cell_type": "code",
   "execution_count": null,
   "id": "2937fe14",
   "metadata": {},
   "outputs": [],
   "source": []
  }
 ],
 "metadata": {
  "kernelspec": {
   "display_name": "Python 3 (ipykernel)",
   "language": "python",
   "name": "python3"
  },
  "language_info": {
   "codemirror_mode": {
    "name": "ipython",
    "version": 3
   },
   "file_extension": ".py",
   "mimetype": "text/x-python",
   "name": "python",
   "nbconvert_exporter": "python",
   "pygments_lexer": "ipython3",
   "version": "3.9.7"
  }
 },
 "nbformat": 4,
 "nbformat_minor": 5
}
